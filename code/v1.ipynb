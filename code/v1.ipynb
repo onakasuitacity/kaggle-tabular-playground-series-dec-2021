{
 "cells": [
  {
   "cell_type": "markdown",
   "id": "d384aee7-cb4b-428c-bf64-da70d47c7f38",
   "metadata": {},
   "source": [
    "# Kaggle"
   ]
  },
  {
   "cell_type": "code",
   "execution_count": 20,
   "id": "ea54ddd9-aad3-4d9f-8c77-87270d8d60f1",
   "metadata": {},
   "outputs": [],
   "source": [
    "import os\n",
    "import json\n",
    "\n",
    "with open(\"/Users/g-ogaki/workspace/kaggle.json\") as f:\n",
    "    json_data = json.load(f) \n",
    "    os.environ[\"KAGGLE_USERNAME\"] = json_data[\"username\"]\n",
    "    os.environ[\"KAGGLE_KEY\"] = json_data[\"key\"]"
   ]
  },
  {
   "cell_type": "code",
   "execution_count": 5,
   "id": "2418f6b2-e48f-4800-8dd9-7add791b9f9d",
   "metadata": {},
   "outputs": [
    {
     "name": "stdout",
     "output_type": "stream",
     "text": [
      "Downloading tabular-playground-series-dec-2021.zip to /Users/g-ogaki/workspace/tabular-playground-series-dec-2021\n",
      "100%|████████████████████████████████████████| 126M/126M [00:57<00:00, 2.36MB/s]\n",
      "100%|████████████████████████████████████████| 126M/126M [00:57<00:00, 2.31MB/s]\n"
     ]
    }
   ],
   "source": [
    "!kaggle competitions download -c tabular-playground-series-dec-2021"
   ]
  },
  {
   "cell_type": "code",
   "execution_count": 6,
   "id": "95ac8800-663d-41ba-975b-2f85c34e686d",
   "metadata": {},
   "outputs": [
    {
     "name": "stdout",
     "output_type": "stream",
     "text": [
      "Archive:  tabular-playground-series-dec-2021.zip\n",
      "  inflating: sample_submission.csv   \n",
      "  inflating: test.csv                \n",
      "  inflating: train.csv               \n"
     ]
    }
   ],
   "source": [
    "!unzip tabular-playground-series-dec-2021.zip"
   ]
  },
  {
   "cell_type": "markdown",
   "id": "76d8136f-94eb-4308-922f-778c6d933ca9",
   "metadata": {},
   "source": [
    "# Import"
   ]
  },
  {
   "cell_type": "code",
   "execution_count": 14,
   "id": "972b5d24-0264-46bc-aef8-be403e577db6",
   "metadata": {},
   "outputs": [],
   "source": [
    "from utils import init_logger, timer, fix_seed\n",
    "import random\n",
    "import pandas as pd\n",
    "pd.set_option('display.max_rows', 500)\n",
    "pd.set_option('display.max_columns', 500)\n",
    "import numpy as np\n",
    "import category_encoders as ce\n",
    "import matplotlib.pyplot as plt\n",
    "import datetime as dt\n",
    "from tqdm import tqdm\n",
    "from tqdm.notebook import tqdm_notebook\n",
    "tqdm_notebook.pandas(desc=\"Processing:\")\n",
    "\n",
    "fix_seed()\n",
    "logger = init_logger()"
   ]
  },
  {
   "cell_type": "code",
   "execution_count": 2,
   "id": "543c8c49-ac3f-459b-9e1a-14abb9068e90",
   "metadata": {},
   "outputs": [],
   "source": [
    "PROJECT_NAME = \"v1\""
   ]
  },
  {
   "cell_type": "markdown",
   "id": "18dcf465-00a9-4af5-a0c3-10a8ab81d29f",
   "metadata": {
    "tags": []
   },
   "source": [
    "# Load"
   ]
  },
  {
   "cell_type": "code",
   "execution_count": 3,
   "id": "c4abd8e9-2191-4f51-bd68-9ffd1f4771cf",
   "metadata": {},
   "outputs": [],
   "source": [
    "from etl import load_train_data, load_test_data"
   ]
  },
  {
   "cell_type": "code",
   "execution_count": 5,
   "id": "6bf1ac82-2cf3-4ec3-8b99-0e554d1932b9",
   "metadata": {},
   "outputs": [
    {
     "name": "stderr",
     "output_type": "stream",
     "text": [
      "2021/12/30 15:56:21 45 [INFO] [read csv] start.\n",
      "2021/12/30 15:56:29 47 [INFO] [read csv] done in 8.007 seconds.\n"
     ]
    }
   ],
   "source": [
    "with timer(\"read csv\", logger):\n",
    "    df = load_train_data()\n",
    "    df_test = load_test_data()"
   ]
  },
  {
   "cell_type": "code",
   "execution_count": 6,
   "id": "e948dca9-f964-4a48-a9c4-f74413c457ee",
   "metadata": {},
   "outputs": [],
   "source": [
    "X = df.drop([\"Id\", \"Cover_Type\"], axis=1)\n",
    "y = df[\"Cover_Type\"] - 1\n",
    "X_test = df_test.drop([\"Id\"], axis=1)"
   ]
  },
  {
   "cell_type": "markdown",
   "id": "e6c607f2-84f6-4ec0-8fb3-8800cb738cf6",
   "metadata": {
    "tags": []
   },
   "source": [
    "# Training"
   ]
  },
  {
   "cell_type": "code",
   "execution_count": 7,
   "id": "20d74fee-5ecd-48b9-a51f-df20c97b935c",
   "metadata": {},
   "outputs": [],
   "source": [
    "from model_lgb import ModelLGB\n",
    "from runner import Runner\n",
    "from sklearn.model_selection import ParameterGrid"
   ]
  },
  {
   "cell_type": "code",
   "execution_count": 8,
   "id": "fd7219ce-2a81-4f57-9d60-2f3f21beafe8",
   "metadata": {},
   "outputs": [],
   "source": [
    "runner = Runner(PROJECT_NAME, ModelLGB, cv=False)"
   ]
  },
  {
   "cell_type": "code",
   "execution_count": 24,
   "id": "b814ad72-1eee-4ed9-bbe1-a1f9b1f33e15",
   "metadata": {},
   "outputs": [],
   "source": [
    "all_params = {\n",
    "    \"objective\": [\"multiclass\"],\n",
    "    \"num_classes\": [7],\n",
    "    \"metric\": [[\"multi_logloss\", \"multi_error\"]],\n",
    "    \"max_leaves\": [32],\n",
    "    # \"min_data_in_leaf\": [20],\n",
    "    \"lambda_l1\": [0.01],\n",
    "    \"lambda_l2\": [0.01],\n",
    "    \"bagging_fraction\": [0.8],\n",
    "    \"feature_fraction\": [0.8],\n",
    "    \"learning_rate\": [0.01],\n",
    "    \"seed\": [0],\n",
    "    # \"device\": [\"gpu\"],\n",
    "    \"verbose\": [-1],\n",
    "}\n",
    "\n",
    "train_params = {\n",
    "    \"num_boost_round\": 2000,\n",
    "    \"early_stopping_rounds\": 20,\n",
    "    \"verbose_eval\": 10,\n",
    "}"
   ]
  },
  {
   "cell_type": "code",
   "execution_count": 25,
   "id": "ad2575fa-cd95-4c43-a3b9-cf29c73c91b7",
   "metadata": {},
   "outputs": [
    {
     "name": "stderr",
     "output_type": "stream",
     "text": [
      "  0%|                                                     | 0/1 [00:00<?, ?it/s]2021/12/30 16:29:08 5 [INFO] params: {'bagging_fraction': 0.8, 'device': 'gpu', 'feature_fraction': 0.8, 'lambda_l1': 0.01, 'lambda_l2': 0.01, 'learning_rate': 0.01, 'max_leaves': 32, 'metric': ['multi_logloss', 'multi_error'], 'num_classes': 7, 'objective': 'multiclass', 'seed': 0, 'verbose': -1}\n",
      "2021/12/30 16:29:08 5 [INFO] params: {'bagging_fraction': 0.8, 'device': 'gpu', 'feature_fraction': 0.8, 'lambda_l1': 0.01, 'lambda_l2': 0.01, 'learning_rate': 0.01, 'max_leaves': 32, 'metric': ['multi_logloss', 'multi_error'], 'num_classes': 7, 'objective': 'multiclass', 'seed': 0, 'verbose': -1}\n",
      "2021/12/30 16:29:08 45 [INFO] [train] start.\n",
      "2021/12/30 16:29:08 45 [INFO] [train] start.\n",
      "/opt/homebrew/lib/python3.9/site-packages/sklearn/model_selection/_split.py:676: UserWarning: The least populated class in y has only 1 members, which is less than n_splits=5.\n",
      "  warnings.warn(\n",
      "/opt/homebrew/lib/python3.9/site-packages/lightgbm/engine.py:181: UserWarning: 'early_stopping_rounds' argument is deprecated and will be removed in a future release of LightGBM. Pass 'early_stopping()' callback via 'callbacks' argument instead.\n",
      "  _log_warning(\"'early_stopping_rounds' argument is deprecated and will be removed in a future release of LightGBM. \"\n",
      "/opt/homebrew/lib/python3.9/site-packages/lightgbm/engine.py:239: UserWarning: 'verbose_eval' argument is deprecated and will be removed in a future release of LightGBM. Pass 'log_evaluation()' callback via 'callbacks' argument instead.\n",
      "  _log_warning(\"'verbose_eval' argument is deprecated and will be removed in a future release of LightGBM. \"\n",
      "[LightGBM] [Fatal] GPU Tree Learner was not enabled in this build.\n",
      "Please recompile with CMake option -DUSE_GPU=1\n",
      "  0%|                                                     | 0/1 [00:01<?, ?it/s]\n"
     ]
    },
    {
     "ename": "LightGBMError",
     "evalue": "GPU Tree Learner was not enabled in this build.\nPlease recompile with CMake option -DUSE_GPU=1",
     "output_type": "error",
     "traceback": [
      "\u001b[0;31m---------------------------------------------------------------------------\u001b[0m",
      "\u001b[0;31mLightGBMError\u001b[0m                             Traceback (most recent call last)",
      "\u001b[0;32m/var/folders/4j/39ff5pxx58bg64js9q9f_yy80000gn/T/ipykernel_77980/2099287423.py\u001b[0m in \u001b[0;36m<module>\u001b[0;34m\u001b[0m\n\u001b[1;32m      5\u001b[0m     \u001b[0mlogger\u001b[0m\u001b[0;34m.\u001b[0m\u001b[0minfo\u001b[0m\u001b[0;34m(\u001b[0m\u001b[0;34m'params: {}'\u001b[0m\u001b[0;34m.\u001b[0m\u001b[0mformat\u001b[0m\u001b[0;34m(\u001b[0m\u001b[0mparams\u001b[0m\u001b[0;34m)\u001b[0m\u001b[0;34m)\u001b[0m\u001b[0;34m\u001b[0m\u001b[0;34m\u001b[0m\u001b[0m\n\u001b[1;32m      6\u001b[0m     \u001b[0;32mwith\u001b[0m \u001b[0mtimer\u001b[0m\u001b[0;34m(\u001b[0m\u001b[0;34m\"train\"\u001b[0m\u001b[0;34m,\u001b[0m \u001b[0mlogger\u001b[0m\u001b[0;34m)\u001b[0m\u001b[0;34m:\u001b[0m\u001b[0;34m\u001b[0m\u001b[0;34m\u001b[0m\u001b[0m\n\u001b[0;32m----> 7\u001b[0;31m         \u001b[0mrunner\u001b[0m\u001b[0;34m.\u001b[0m\u001b[0mtrain\u001b[0m\u001b[0;34m(\u001b[0m\u001b[0mX\u001b[0m\u001b[0;34m,\u001b[0m \u001b[0my\u001b[0m\u001b[0;34m,\u001b[0m \u001b[0mparams\u001b[0m\u001b[0;34m,\u001b[0m \u001b[0mtrain_params\u001b[0m\u001b[0;34m)\u001b[0m\u001b[0;34m\u001b[0m\u001b[0;34m\u001b[0m\u001b[0m\n\u001b[0m\u001b[1;32m      8\u001b[0m \u001b[0;34m\u001b[0m\u001b[0m\n\u001b[1;32m      9\u001b[0m     \u001b[0;32mif\u001b[0m \u001b[0mmin_logloss\u001b[0m \u001b[0;34m>\u001b[0m \u001b[0mrunner\u001b[0m\u001b[0;34m.\u001b[0m\u001b[0mget_score\u001b[0m\u001b[0;34m(\u001b[0m\u001b[0;34m)\u001b[0m\u001b[0;34m:\u001b[0m\u001b[0;34m\u001b[0m\u001b[0;34m\u001b[0m\u001b[0m\n",
      "\u001b[0;32m~/workspace/tabular-playground-series-dec-2021/code/runner.py\u001b[0m in \u001b[0;36mtrain\u001b[0;34m(self, X, y, params, train_params)\u001b[0m\n\u001b[1;32m     15\u001b[0m             \u001b[0mX_tr\u001b[0m\u001b[0;34m,\u001b[0m \u001b[0my_tr\u001b[0m \u001b[0;34m=\u001b[0m \u001b[0mX\u001b[0m\u001b[0;34m.\u001b[0m\u001b[0miloc\u001b[0m\u001b[0;34m[\u001b[0m\u001b[0mtr_idx\u001b[0m\u001b[0;34m]\u001b[0m\u001b[0;34m,\u001b[0m \u001b[0my\u001b[0m\u001b[0;34m.\u001b[0m\u001b[0miloc\u001b[0m\u001b[0;34m[\u001b[0m\u001b[0mtr_idx\u001b[0m\u001b[0;34m]\u001b[0m\u001b[0;34m\u001b[0m\u001b[0;34m\u001b[0m\u001b[0m\n\u001b[1;32m     16\u001b[0m             \u001b[0mX_va\u001b[0m\u001b[0;34m,\u001b[0m \u001b[0my_va\u001b[0m \u001b[0;34m=\u001b[0m \u001b[0mX\u001b[0m\u001b[0;34m.\u001b[0m\u001b[0miloc\u001b[0m\u001b[0;34m[\u001b[0m\u001b[0mva_idx\u001b[0m\u001b[0;34m]\u001b[0m\u001b[0;34m,\u001b[0m \u001b[0my\u001b[0m\u001b[0;34m.\u001b[0m\u001b[0miloc\u001b[0m\u001b[0;34m[\u001b[0m\u001b[0mva_idx\u001b[0m\u001b[0;34m]\u001b[0m\u001b[0;34m\u001b[0m\u001b[0;34m\u001b[0m\u001b[0m\n\u001b[0;32m---> 17\u001b[0;31m             \u001b[0mmodel\u001b[0m\u001b[0;34m.\u001b[0m\u001b[0mtrain\u001b[0m\u001b[0;34m(\u001b[0m\u001b[0mX_tr\u001b[0m\u001b[0;34m,\u001b[0m \u001b[0my_tr\u001b[0m\u001b[0;34m,\u001b[0m \u001b[0mX_va\u001b[0m\u001b[0;34m,\u001b[0m \u001b[0my_va\u001b[0m\u001b[0;34m,\u001b[0m \u001b[0mparams\u001b[0m\u001b[0;34m,\u001b[0m \u001b[0mtrain_params\u001b[0m\u001b[0;34m)\u001b[0m\u001b[0;34m\u001b[0m\u001b[0;34m\u001b[0m\u001b[0m\n\u001b[0m\u001b[1;32m     18\u001b[0m \u001b[0;34m\u001b[0m\u001b[0m\n\u001b[1;32m     19\u001b[0m     \u001b[0;32mdef\u001b[0m \u001b[0mpredict\u001b[0m\u001b[0;34m(\u001b[0m\u001b[0mself\u001b[0m\u001b[0;34m,\u001b[0m \u001b[0mX\u001b[0m\u001b[0;34m)\u001b[0m\u001b[0;34m:\u001b[0m\u001b[0;34m\u001b[0m\u001b[0;34m\u001b[0m\u001b[0m\n",
      "\u001b[0;32m~/workspace/tabular-playground-series-dec-2021/code/model_lgb.py\u001b[0m in \u001b[0;36mtrain\u001b[0;34m(self, X_tr, y_tr, X_va, y_va, params, train_params)\u001b[0m\n\u001b[1;32m      9\u001b[0m         \u001b[0mlgb_train\u001b[0m \u001b[0;34m=\u001b[0m \u001b[0mlgb\u001b[0m\u001b[0;34m.\u001b[0m\u001b[0mDataset\u001b[0m\u001b[0;34m(\u001b[0m\u001b[0mX_tr\u001b[0m\u001b[0;34m,\u001b[0m \u001b[0my_tr\u001b[0m\u001b[0;34m)\u001b[0m\u001b[0;34m\u001b[0m\u001b[0;34m\u001b[0m\u001b[0m\n\u001b[1;32m     10\u001b[0m         \u001b[0mlgb_val\u001b[0m \u001b[0;34m=\u001b[0m \u001b[0mlgb\u001b[0m\u001b[0;34m.\u001b[0m\u001b[0mDataset\u001b[0m\u001b[0;34m(\u001b[0m\u001b[0mX_va\u001b[0m\u001b[0;34m,\u001b[0m \u001b[0my_va\u001b[0m\u001b[0;34m,\u001b[0m \u001b[0mreference\u001b[0m\u001b[0;34m=\u001b[0m\u001b[0mlgb_train\u001b[0m\u001b[0;34m)\u001b[0m\u001b[0;34m\u001b[0m\u001b[0;34m\u001b[0m\u001b[0m\n\u001b[0;32m---> 11\u001b[0;31m         self.model = lgb.train(\n\u001b[0m\u001b[1;32m     12\u001b[0m             \u001b[0mparams\u001b[0m\u001b[0;34m,\u001b[0m\u001b[0;34m\u001b[0m\u001b[0;34m\u001b[0m\u001b[0m\n\u001b[1;32m     13\u001b[0m             \u001b[0mlgb_train\u001b[0m\u001b[0;34m,\u001b[0m\u001b[0;34m\u001b[0m\u001b[0;34m\u001b[0m\u001b[0m\n",
      "\u001b[0;32m/opt/homebrew/lib/python3.9/site-packages/lightgbm/engine.py\u001b[0m in \u001b[0;36mtrain\u001b[0;34m(params, train_set, num_boost_round, valid_sets, valid_names, fobj, feval, init_model, feature_name, categorical_feature, early_stopping_rounds, evals_result, verbose_eval, learning_rates, keep_training_booster, callbacks)\u001b[0m\n\u001b[1;32m    269\u001b[0m     \u001b[0;31m# construct booster\u001b[0m\u001b[0;34m\u001b[0m\u001b[0;34m\u001b[0m\u001b[0m\n\u001b[1;32m    270\u001b[0m     \u001b[0;32mtry\u001b[0m\u001b[0;34m:\u001b[0m\u001b[0;34m\u001b[0m\u001b[0;34m\u001b[0m\u001b[0m\n\u001b[0;32m--> 271\u001b[0;31m         \u001b[0mbooster\u001b[0m \u001b[0;34m=\u001b[0m \u001b[0mBooster\u001b[0m\u001b[0;34m(\u001b[0m\u001b[0mparams\u001b[0m\u001b[0;34m=\u001b[0m\u001b[0mparams\u001b[0m\u001b[0;34m,\u001b[0m \u001b[0mtrain_set\u001b[0m\u001b[0;34m=\u001b[0m\u001b[0mtrain_set\u001b[0m\u001b[0;34m)\u001b[0m\u001b[0;34m\u001b[0m\u001b[0;34m\u001b[0m\u001b[0m\n\u001b[0m\u001b[1;32m    272\u001b[0m         \u001b[0;32mif\u001b[0m \u001b[0mis_valid_contain_train\u001b[0m\u001b[0;34m:\u001b[0m\u001b[0;34m\u001b[0m\u001b[0;34m\u001b[0m\u001b[0m\n\u001b[1;32m    273\u001b[0m             \u001b[0mbooster\u001b[0m\u001b[0;34m.\u001b[0m\u001b[0mset_train_data_name\u001b[0m\u001b[0;34m(\u001b[0m\u001b[0mtrain_data_name\u001b[0m\u001b[0;34m)\u001b[0m\u001b[0;34m\u001b[0m\u001b[0;34m\u001b[0m\u001b[0m\n",
      "\u001b[0;32m/opt/homebrew/lib/python3.9/site-packages/lightgbm/basic.py\u001b[0m in \u001b[0;36m__init__\u001b[0;34m(self, params, train_set, model_file, model_str, silent)\u001b[0m\n\u001b[1;32m   2608\u001b[0m             \u001b[0mparams_str\u001b[0m \u001b[0;34m=\u001b[0m \u001b[0mparam_dict_to_str\u001b[0m\u001b[0;34m(\u001b[0m\u001b[0mparams\u001b[0m\u001b[0;34m)\u001b[0m\u001b[0;34m\u001b[0m\u001b[0;34m\u001b[0m\u001b[0m\n\u001b[1;32m   2609\u001b[0m             \u001b[0mself\u001b[0m\u001b[0;34m.\u001b[0m\u001b[0mhandle\u001b[0m \u001b[0;34m=\u001b[0m \u001b[0mctypes\u001b[0m\u001b[0;34m.\u001b[0m\u001b[0mc_void_p\u001b[0m\u001b[0;34m(\u001b[0m\u001b[0;34m)\u001b[0m\u001b[0;34m\u001b[0m\u001b[0;34m\u001b[0m\u001b[0m\n\u001b[0;32m-> 2610\u001b[0;31m             _safe_call(_LIB.LGBM_BoosterCreate(\n\u001b[0m\u001b[1;32m   2611\u001b[0m                 \u001b[0mtrain_set\u001b[0m\u001b[0;34m.\u001b[0m\u001b[0mhandle\u001b[0m\u001b[0;34m,\u001b[0m\u001b[0;34m\u001b[0m\u001b[0;34m\u001b[0m\u001b[0m\n\u001b[1;32m   2612\u001b[0m                 \u001b[0mc_str\u001b[0m\u001b[0;34m(\u001b[0m\u001b[0mparams_str\u001b[0m\u001b[0;34m)\u001b[0m\u001b[0;34m,\u001b[0m\u001b[0;34m\u001b[0m\u001b[0;34m\u001b[0m\u001b[0m\n",
      "\u001b[0;32m/opt/homebrew/lib/python3.9/site-packages/lightgbm/basic.py\u001b[0m in \u001b[0;36m_safe_call\u001b[0;34m(ret)\u001b[0m\n\u001b[1;32m    123\u001b[0m     \"\"\"\n\u001b[1;32m    124\u001b[0m     \u001b[0;32mif\u001b[0m \u001b[0mret\u001b[0m \u001b[0;34m!=\u001b[0m \u001b[0;36m0\u001b[0m\u001b[0;34m:\u001b[0m\u001b[0;34m\u001b[0m\u001b[0;34m\u001b[0m\u001b[0m\n\u001b[0;32m--> 125\u001b[0;31m         \u001b[0;32mraise\u001b[0m \u001b[0mLightGBMError\u001b[0m\u001b[0;34m(\u001b[0m\u001b[0m_LIB\u001b[0m\u001b[0;34m.\u001b[0m\u001b[0mLGBM_GetLastError\u001b[0m\u001b[0;34m(\u001b[0m\u001b[0;34m)\u001b[0m\u001b[0;34m.\u001b[0m\u001b[0mdecode\u001b[0m\u001b[0;34m(\u001b[0m\u001b[0;34m'utf-8'\u001b[0m\u001b[0;34m)\u001b[0m\u001b[0;34m)\u001b[0m\u001b[0;34m\u001b[0m\u001b[0;34m\u001b[0m\u001b[0m\n\u001b[0m\u001b[1;32m    126\u001b[0m \u001b[0;34m\u001b[0m\u001b[0m\n\u001b[1;32m    127\u001b[0m \u001b[0;34m\u001b[0m\u001b[0m\n",
      "\u001b[0;31mLightGBMError\u001b[0m: GPU Tree Learner was not enabled in this build.\nPlease recompile with CMake option -DUSE_GPU=1"
     ]
    }
   ],
   "source": [
    "min_logloss = np.inf\n",
    "best_params = None\n",
    "\n",
    "for params in tqdm(list(ParameterGrid(all_params))):\n",
    "    logger.info('params: {}'.format(params))\n",
    "    with timer(\"train\", logger):\n",
    "        runner.train(X, y, params, train_params)\n",
    "    \n",
    "    if min_logloss > runner.get_score():\n",
    "        min_logloss = runner.get_score()\n",
    "        best_params = params\n",
    "\n",
    "logger.info(\"best params: {}\".format(best_params))\n",
    "logger.info(\"min logloss: {}\".format(min_logloss))"
   ]
  },
  {
   "cell_type": "markdown",
   "id": "bfa4545a-8cb4-40cf-8eea-1478e43f2f2b",
   "metadata": {},
   "source": [
    "# Inference"
   ]
  },
  {
   "cell_type": "code",
   "execution_count": 50,
   "id": "b80f3d6c-3755-413f-b54e-336024bb5217",
   "metadata": {},
   "outputs": [
    {
     "name": "stderr",
     "output_type": "stream",
     "text": [
      "/opt/homebrew/lib/python3.9/site-packages/sklearn/model_selection/_split.py:676: UserWarning: The least populated class in y has only 1 members, which is less than n_splits=5.\n",
      "  warnings.warn(\n",
      "/opt/homebrew/lib/python3.9/site-packages/lightgbm/engine.py:181: UserWarning: 'early_stopping_rounds' argument is deprecated and will be removed in a future release of LightGBM. Pass 'early_stopping()' callback via 'callbacks' argument instead.\n",
      "  _log_warning(\"'early_stopping_rounds' argument is deprecated and will be removed in a future release of LightGBM. \"\n",
      "/opt/homebrew/lib/python3.9/site-packages/lightgbm/engine.py:239: UserWarning: 'verbose_eval' argument is deprecated and will be removed in a future release of LightGBM. Pass 'log_evaluation()' callback via 'callbacks' argument instead.\n",
      "  _log_warning(\"'verbose_eval' argument is deprecated and will be removed in a future release of LightGBM. \"\n"
     ]
    },
    {
     "name": "stdout",
     "output_type": "stream",
     "text": [
      "Training until validation scores don't improve for 20 rounds\n",
      "[10]\ttraining's multi_logloss: 0.762925\ttraining's multi_error: 0.434439\tvalid_1's multi_logloss: 0.76362\tvalid_1's multi_error: 0.43446\n",
      "[20]\ttraining's multi_logloss: 0.654778\ttraining's multi_error: 0.123933\tvalid_1's multi_logloss: 0.655675\tvalid_1's multi_error: 0.12414\n",
      "[30]\ttraining's multi_logloss: 0.570386\ttraining's multi_error: 0.109025\tvalid_1's multi_logloss: 0.571545\tvalid_1's multi_error: 0.109184\n",
      "Did not meet early stopping. Best iteration is:\n",
      "[30]\ttraining's multi_logloss: 0.570386\ttraining's multi_error: 0.109025\tvalid_1's multi_logloss: 0.571545\tvalid_1's multi_error: 0.109184\n"
     ]
    }
   ],
   "source": [
    "runner.train(X, y, best_params, train_params)"
   ]
  },
  {
   "cell_type": "code",
   "execution_count": 15,
   "id": "6011f8f1-1923-4c28-bddf-a79b244eb645",
   "metadata": {},
   "outputs": [
    {
     "data": {
      "text/plain": [
       "Elevation                             1.976171e+08\n",
       "Horizontal_Distance_To_Fire_Points    1.061060e+07\n",
       "Horizontal_Distance_To_Roadways       7.925491e+06\n",
       "diff_roadways_and_hydrology           7.347516e+06\n",
       "important_sum_Soil                    7.153431e+06\n",
       "Wilderness_Area3                      6.636899e+06\n",
       "sum_Soil                              6.409293e+06\n",
       "Vertical_Distance_To_Hydrology        5.275033e+06\n",
       "Wilderness_Area1                      4.787364e+06\n",
       "Wilderness_Area4                      3.187770e+06\n",
       "Distance_To_Hydrology                 1.921317e+06\n",
       "Soil_Type39                           1.347918e+06\n",
       "Soil_Type2                            1.276935e+06\n",
       "Soil_Type10                           1.017365e+06\n",
       "Soil_Type38                           7.452598e+05\n",
       "Soil_Type4                            6.945628e+05\n",
       "Soil_Type22                           6.789970e+05\n",
       "Soil_Type40                           6.516944e+05\n",
       "Horizontal_Distance_To_Hydrology      4.445898e+05\n",
       "sum_Wilderness                        3.824453e+05\n",
       "Soil_Type3                            3.224118e+05\n",
       "Soil_Type35                           2.585224e+05\n",
       "Soil_Type1                            2.424151e+05\n",
       "Wilderness_Area2                      2.370047e+05\n",
       "Soil_Type23                           2.361315e+05\n",
       "Soil_Type37                           2.354351e+05\n",
       "Hillshade_Noon                        2.028232e+05\n",
       "Soil_Type36                           1.911390e+05\n",
       "Soil_Type5                            1.889032e+05\n",
       "Soil_Type11                           1.060887e+05\n",
       "Soil_Type13                           1.000718e+05\n",
       "Soil_Type17                           7.416438e+04\n",
       "Hillshade_9am                         7.209281e+04\n",
       "Soil_Type34                           6.951803e+04\n",
       "Soil_Type32                           6.266295e+04\n",
       "Soil_Type33                           6.104118e+04\n",
       "Soil_Type30                           5.772419e+04\n",
       "Soil_Type20                           5.743708e+04\n",
       "diff_Hillshade_9am_Hillshade_3pm      5.330365e+04\n",
       "diff_Hillshade_9am_Hillshade_Noon     5.168411e+04\n",
       "Soil_Type26                           5.116328e+04\n",
       "Aspect                                4.831832e+04\n",
       "Soil_Type12                           4.780587e+04\n",
       "Soil_Type29                           4.778545e+04\n",
       "Soil_Type16                           3.688218e+04\n",
       "Soil_Type27                           3.631091e+04\n",
       "Soil_Type19                           3.620594e+04\n",
       "Soil_Type31                           3.604374e+04\n",
       "Soil_Type14                           3.344320e+04\n",
       "Soil_Type6                            3.291421e+04\n",
       "Soil_Type28                           2.890183e+04\n",
       "Soil_Type24                           2.735938e+04\n",
       "Slope                                 2.685232e+04\n",
       "Soil_Type18                           2.510967e+04\n",
       "Soil_Type21                           2.412509e+04\n",
       "sum_Hillshade                         2.015373e+04\n",
       "Hillshade_3pm                         1.778770e+04\n",
       "Soil_Type9                            1.734443e+04\n",
       "diff_Hillshade_Noon_Hillshade_3pm     1.197053e+04\n",
       "Soil_Type25                           5.767157e+03\n",
       "Soil_Type8                            1.614944e+03\n",
       "Soil_Type15                           0.000000e+00\n",
       "Soil_Type7                            0.000000e+00\n",
       "dtype: float64"
      ]
     },
     "execution_count": 15,
     "metadata": {},
     "output_type": "execute_result"
    }
   ],
   "source": [
    "runner.model.feature_importance_"
   ]
  },
  {
   "cell_type": "code",
   "execution_count": 17,
   "id": "c6a868f6-d019-4fad-8f27-d5a66dc29af5",
   "metadata": {},
   "outputs": [
    {
     "name": "stderr",
     "output_type": "stream",
     "text": [
      "2021/12/30 16:10:56 45 [INFO] [prediction] start.\n",
      "2021/12/30 16:10:56 45 [INFO] [prediction] start.\n",
      "2021/12/30 16:12:03 47 [INFO] [prediction] done in 66.348 seconds.\n",
      "2021/12/30 16:12:03 47 [INFO] [prediction] done in 66.348 seconds.\n"
     ]
    },
    {
     "data": {
      "text/plain": [
       "array([[3.93715919e-05, 9.99796136e-01, 1.62012184e-04, ...,\n",
       "        6.90062376e-10, 1.89302521e-06, 5.83846665e-07],\n",
       "       [2.15227615e-02, 9.78387624e-01, 6.81942141e-05, ...,\n",
       "        5.43440402e-09, 1.62646146e-05, 5.12172515e-06],\n",
       "       [3.50797441e-03, 9.96476102e-01, 1.40640854e-05, ...,\n",
       "        1.47013979e-09, 2.94706350e-07, 1.54976759e-06],\n",
       "       ...,\n",
       "       [1.51037128e-04, 9.99677108e-01, 1.67029192e-04, ...,\n",
       "        1.35512144e-09, 2.83695885e-06, 1.97972634e-06],\n",
       "       [9.98934385e-01, 6.40597365e-04, 2.37210027e-06, ...,\n",
       "        1.90524047e-09, 3.90790952e-07, 4.22244574e-04],\n",
       "       [1.90964695e-04, 1.73646438e-01, 8.25992067e-01, ...,\n",
       "        5.09042531e-09, 1.65403162e-04, 5.10175026e-06]])"
      ]
     },
     "execution_count": 17,
     "metadata": {},
     "output_type": "execute_result"
    }
   ],
   "source": [
    "with timer(\"prediction\", logger):\n",
    "    prob = runner.predict(X_test)\n",
    "prob"
   ]
  },
  {
   "cell_type": "code",
   "execution_count": 18,
   "id": "d25ca66a-ee11-42b0-837e-fce68f562b78",
   "metadata": {},
   "outputs": [
    {
     "data": {
      "text/html": [
       "<div>\n",
       "<style scoped>\n",
       "    .dataframe tbody tr th:only-of-type {\n",
       "        vertical-align: middle;\n",
       "    }\n",
       "\n",
       "    .dataframe tbody tr th {\n",
       "        vertical-align: top;\n",
       "    }\n",
       "\n",
       "    .dataframe thead th {\n",
       "        text-align: right;\n",
       "    }\n",
       "</style>\n",
       "<table border=\"1\" class=\"dataframe\">\n",
       "  <thead>\n",
       "    <tr style=\"text-align: right;\">\n",
       "      <th></th>\n",
       "      <th>Id</th>\n",
       "      <th>Cover_Type</th>\n",
       "    </tr>\n",
       "  </thead>\n",
       "  <tbody>\n",
       "    <tr>\n",
       "      <th>0</th>\n",
       "      <td>4000000</td>\n",
       "      <td>2</td>\n",
       "    </tr>\n",
       "    <tr>\n",
       "      <th>1</th>\n",
       "      <td>4000001</td>\n",
       "      <td>2</td>\n",
       "    </tr>\n",
       "    <tr>\n",
       "      <th>2</th>\n",
       "      <td>4000002</td>\n",
       "      <td>2</td>\n",
       "    </tr>\n",
       "    <tr>\n",
       "      <th>3</th>\n",
       "      <td>4000003</td>\n",
       "      <td>2</td>\n",
       "    </tr>\n",
       "    <tr>\n",
       "      <th>4</th>\n",
       "      <td>4000004</td>\n",
       "      <td>2</td>\n",
       "    </tr>\n",
       "    <tr>\n",
       "      <th>...</th>\n",
       "      <td>...</td>\n",
       "      <td>...</td>\n",
       "    </tr>\n",
       "    <tr>\n",
       "      <th>999995</th>\n",
       "      <td>4999995</td>\n",
       "      <td>2</td>\n",
       "    </tr>\n",
       "    <tr>\n",
       "      <th>999996</th>\n",
       "      <td>4999996</td>\n",
       "      <td>1</td>\n",
       "    </tr>\n",
       "    <tr>\n",
       "      <th>999997</th>\n",
       "      <td>4999997</td>\n",
       "      <td>2</td>\n",
       "    </tr>\n",
       "    <tr>\n",
       "      <th>999998</th>\n",
       "      <td>4999998</td>\n",
       "      <td>1</td>\n",
       "    </tr>\n",
       "    <tr>\n",
       "      <th>999999</th>\n",
       "      <td>4999999</td>\n",
       "      <td>3</td>\n",
       "    </tr>\n",
       "  </tbody>\n",
       "</table>\n",
       "<p>1000000 rows × 2 columns</p>\n",
       "</div>"
      ],
      "text/plain": [
       "             Id  Cover_Type\n",
       "0       4000000           2\n",
       "1       4000001           2\n",
       "2       4000002           2\n",
       "3       4000003           2\n",
       "4       4000004           2\n",
       "...         ...         ...\n",
       "999995  4999995           2\n",
       "999996  4999996           1\n",
       "999997  4999997           2\n",
       "999998  4999998           1\n",
       "999999  4999999           3\n",
       "\n",
       "[1000000 rows x 2 columns]"
      ]
     },
     "execution_count": 18,
     "metadata": {},
     "output_type": "execute_result"
    }
   ],
   "source": [
    "res = pd.DataFrame()\n",
    "res[\"Id\"] = df_test[\"Id\"]\n",
    "res[\"Cover_Type\"] = prob.argmax(axis=1) + 1\n",
    "res.to_csv(f\"../submission/submission_{PROJECT_NAME}.csv\", index=False)\n",
    "res"
   ]
  },
  {
   "cell_type": "code",
   "execution_count": 21,
   "id": "f7672fdb-2ad7-48e7-a522-30dbe600255b",
   "metadata": {},
   "outputs": [
    {
     "name": "stdout",
     "output_type": "stream",
     "text": [
      "100%|███████████████████████████████████████| 9.54M/9.54M [00:14<00:00, 713kB/s]\n",
      "Successfully submitted to Tabular Playground Series - Dec 2021"
     ]
    }
   ],
   "source": [
    "!kaggle competitions submit tabular-playground-series-dec-2021 -f ../submission/submission_{PROJECT_NAME}.csv -m \"valid_1's multi_error: 0.0390737\""
   ]
  },
  {
   "cell_type": "code",
   "execution_count": null,
   "id": "7fd0ced8-b41c-4d20-9efc-3e4ab0ea38ce",
   "metadata": {},
   "outputs": [],
   "source": []
  }
 ],
 "metadata": {
  "kernelspec": {
   "display_name": "Python 3 (ipykernel)",
   "language": "python",
   "name": "python3"
  },
  "language_info": {
   "codemirror_mode": {
    "name": "ipython",
    "version": 3
   },
   "file_extension": ".py",
   "mimetype": "text/x-python",
   "name": "python",
   "nbconvert_exporter": "python",
   "pygments_lexer": "ipython3",
   "version": "3.9.9"
  },
  "toc-autonumbering": true
 },
 "nbformat": 4,
 "nbformat_minor": 5
}
