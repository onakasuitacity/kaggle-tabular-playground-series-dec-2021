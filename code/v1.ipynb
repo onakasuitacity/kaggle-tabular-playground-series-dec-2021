{
 "cells": [
  {
   "cell_type": "markdown",
   "id": "76d8136f-94eb-4308-922f-778c6d933ca9",
   "metadata": {},
   "source": [
    "# Import"
   ]
  },
  {
   "cell_type": "code",
   "execution_count": 1,
   "id": "972b5d24-0264-46bc-aef8-be403e577db6",
   "metadata": {},
   "outputs": [],
   "source": [
    "from utils import init_logger, timer, fix_seed, reduce_mem_usage\n",
    "import random\n",
    "import pandas as pd\n",
    "pd.set_option('display.max_columns', 150)\n",
    "import numpy as np\n",
    "import category_encoders as ce\n",
    "import matplotlib.pyplot as plt\n",
    "import datetime as dt\n",
    "from tqdm import tqdm\n",
    "from tqdm.notebook import tqdm_notebook\n",
    "tqdm_notebook.pandas(desc=\"Processing:\")\n",
    "\n",
    "fix_seed()\n",
    "logger = init_logger()"
   ]
  },
  {
   "cell_type": "code",
   "execution_count": 3,
   "id": "543c8c49-ac3f-459b-9e1a-14abb9068e90",
   "metadata": {},
   "outputs": [],
   "source": [
    "PROJECT_NAME = \"v1\""
   ]
  },
  {
   "cell_type": "markdown",
   "id": "18dcf465-00a9-4af5-a0c3-10a8ab81d29f",
   "metadata": {
    "tags": []
   },
   "source": [
    "# Load"
   ]
  },
  {
   "cell_type": "code",
   "execution_count": 2,
   "id": "c4abd8e9-2191-4f51-bd68-9ffd1f4771cf",
   "metadata": {},
   "outputs": [],
   "source": [
    "from itertools import combinations\n",
    "\n",
    "\n",
    "def load_data():\n",
    "    df_train = pd.read_csv('../input/train.csv')\n",
    "    df_test = pd.read_csv('../input/test.csv')\n",
    "    df = pd.concat([df_train, df_test])\n",
    "    \n",
    "    df[\"Distance_To_Hydrology\"] = df[\"Horizontal_Distance_To_Hydrology\"]**2 + df[\"Vertical_Distance_To_Hydrology\"]**2\n",
    "    df[\"diff_roadways_and_hydrology\"] = df[\"Horizontal_Distance_To_Roadways\"] - df[\"Horizontal_Distance_To_Hydrology\"]\n",
    "    \n",
    "    hillshade_columns = [\n",
    "        \"Hillshade_9am\",\n",
    "        \"Hillshade_Noon\",\n",
    "        \"Hillshade_3pm\"\n",
    "    ]\n",
    "    df[\"sum_Hillshade\"] = df[hillshade_columns].sum(axis=1)\n",
    "    for col0, col1 in combinations(hillshade_columns, 2):\n",
    "        df[f\"diff_{col0}_{col1}\"] = df[col0] - df[col1]\n",
    "    \n",
    "    wilderness_columns = [f\"Wilderness_Area{i}\" for i in range(1, 5)]\n",
    "    df[\"sum_Wilderness\"] = df[wilderness_columns].sum(axis=1)\n",
    "    \n",
    "    df[\"class_Wilderness\"] = 0\n",
    "    for i, col in enumerate(wilderness_columns):\n",
    "        df[\"class_Wilderness\"] += df[col] * 2**i\n",
    "    \n",
    "    soil_columns = [f\"Soil_Type{i}\" for i in range(1, 41)]\n",
    "    df[\"sum_Soil\"] = df[soil_columns].sum(axis=1)\n",
    "    \n",
    "    important_soil_columns = [f\"Soil_Type{i}\" for i in (11, 13, 22, 23, 24, 31, 32, 33, 35, 36, 37, 38, 39, 40)]\n",
    "    df[\"important_sum_Soil\"] = df[important_soil_columns].sum(axis=1)\n",
    "    \n",
    "    df[\"class_Soil_Type\"] = 0\n",
    "    for i, col in enumerate(important_soil_columns):\n",
    "        df[\"class_Soil_Type\"] += df[col] * 2**i\n",
    "    \n",
    "    df.drop(\"Soil_Type7\", axis=1, inplace=True)\n",
    "    df.drop(\"Soil_Type15\", axis=1, inplace=True)\n",
    "    \n",
    "    df_train, df_test = df[:len(df_train)], df[len(df_train):]\n",
    "    \n",
    "    return df_train, df_test"
   ]
  },
  {
   "cell_type": "code",
   "execution_count": 5,
   "id": "6bf1ac82-2cf3-4ec3-8b99-0e554d1932b9",
   "metadata": {},
   "outputs": [
    {
     "name": "stderr",
     "output_type": "stream",
     "text": [
      "2022/01/01 19:56:15 45 [INFO] [read csv] start.\n",
      "2022/01/01 19:56:25 47 [INFO] [read csv] done in 9.841 seconds.\n"
     ]
    }
   ],
   "source": [
    "with timer(\"read csv\", logger):\n",
    "    df_train, df_test = load_data()"
   ]
  },
  {
   "cell_type": "code",
   "execution_count": 7,
   "id": "e948dca9-f964-4a48-a9c4-f74413c457ee",
   "metadata": {},
   "outputs": [],
   "source": [
    "X_train = df_train.drop([\"Id\", \"Cover_Type\"], axis=1)\n",
    "y_train = df_train[\"Cover_Type\"] - 1\n",
    "X_test = df_test.drop([\"Id\", \"Cover_Type\"], axis=1)"
   ]
  },
  {
   "cell_type": "code",
   "execution_count": 23,
   "id": "b4edb703-6199-4a70-9205-4c323d3eeb77",
   "metadata": {},
   "outputs": [
    {
     "name": "stdout",
     "output_type": "stream",
     "text": [
      "Mem. usage decreased to 339.51 Mb (82.6% reduction)\n",
      "Mem. usage decreased to 84.88 Mb (82.6% reduction)\n"
     ]
    }
   ],
   "source": [
    "X_train = reduce_mem_usage(X_train)\n",
    "X_test = reduce_mem_usage(X_test)"
   ]
  },
  {
   "cell_type": "markdown",
   "id": "e6c607f2-84f6-4ec0-8fb3-8800cb738cf6",
   "metadata": {
    "tags": []
   },
   "source": [
    "# Training"
   ]
  },
  {
   "cell_type": "code",
   "execution_count": 24,
   "id": "20d74fee-5ecd-48b9-a51f-df20c97b935c",
   "metadata": {},
   "outputs": [],
   "source": [
    "from model_lgb import ModelLGB\n",
    "from runner import Runner\n",
    "from hyperopt import hp, fmin, tpe, space_eval"
   ]
  },
  {
   "cell_type": "code",
   "execution_count": 25,
   "id": "fd7219ce-2a81-4f57-9d60-2f3f21beafe8",
   "metadata": {},
   "outputs": [],
   "source": [
    "runner = Runner(PROJECT_NAME, ModelLGB, cv=False)"
   ]
  },
  {
   "cell_type": "code",
   "execution_count": 26,
   "id": "823ecd1e-fb26-42a0-a27d-0a932ee91eb4",
   "metadata": {},
   "outputs": [],
   "source": [
    "space = {\n",
    "    \"objective\": \"multiclass\",\n",
    "    \"num_classes\": 7,\n",
    "    \"metric\": [\"multi_logloss\", \"multi_error\"],\n",
    "    \"max_leaves\": 30 + hp.randint(\"_max_leaves\", 40),\n",
    "    \"min_data_in_leaf\": 10 + hp.randint(\"_min_data_in_leaf\", 40),\n",
    "    \"lambda_l1\": hp.loguniform(\"lambda_l1\", np.log(0.01), np.log(1)),\n",
    "    \"lambda_l2\": hp.loguniform(\"lambda_l2\", np.log(0.01), np.log(1)),\n",
    "    \"bagging_fraction\": hp.uniform(\"bagging_fraction\", 0.7, 0.9),\n",
    "    \"feature_fraction\": hp.uniform(\"feature_fraction\", 0.7, 0.9),\n",
    "    \"learning_rate\": 0.01,\n",
    "    \"seed\": 0,\n",
    "    \"verbose\": -1,\n",
    "}\n",
    "\n",
    "params = {\n",
    "    'bagging_fraction': 0.8691099275893169, \n",
    "    'feature_fraction': 0.9433525231687435, \n",
    "    'lambda_l1': 0.057908447715479115, \n",
    "    'lambda_l2': 0.01474021398017653, \n",
    "    'learning_rate': 0.01, \n",
    "    'max_leaves': 48, \n",
    "    'metric': ('multi_logloss', 'multi_error'), \n",
    "    'min_data_in_leaf': 26, \n",
    "    'objective': 'multiclass',\n",
    "    \"num_classes\": 7,\n",
    "    'seed': 0, \n",
    "    'verbose': -1\n",
    "}\n",
    "\n",
    "train_params = {\n",
    "    \"num_boost_round\": 2000,\n",
    "    \"early_stopping_rounds\": 20,\n",
    "    \"verbose_eval\": 50,\n",
    "}"
   ]
  },
  {
   "cell_type": "code",
   "execution_count": 10,
   "id": "ee343e70-78ba-409a-818e-4902b175c3ad",
   "metadata": {},
   "outputs": [],
   "source": [
    "def objective(args):\n",
    "    logger.info(args)\n",
    "    runner.train(X, y, args, train_params)\n",
    "    return runner.get_score()"
   ]
  },
  {
   "cell_type": "code",
   "execution_count": 11,
   "id": "9d0261a7-4e64-445c-b503-5cfb13ff5fcb",
   "metadata": {
    "collapsed": true,
    "jupyter": {
     "outputs_hidden": true
    },
    "tags": []
   },
   "outputs": [
    {
     "name": "stdout",
     "output_type": "stream",
     "text": [
      "  0%|                                    | 0/20 [00:00<?, ?trial/s, best loss=?]"
     ]
    },
    {
     "name": "stderr",
     "output_type": "stream",
     "text": [
      "2021/12/31 14:33:48 2 [INFO] {'bagging_fraction': 0.8041882760340158, 'feature_fraction': 0.758404881916913, 'lambda_l1': 0.8732061538314787, 'lambda_l2': 0.02853921475938039, 'learning_rate': 0.01, 'max_leaves': 33, 'metric': ('multi_logloss', 'multi_error'), 'min_data_in_leaf': 41, 'num_classes': 7, 'objective': 'multiclass', 'seed': 0, 'verbose': -1}\n",
      "/opt/homebrew/lib/python3.9/site-packages/sklearn/model_selection/_split.py:676: UserWarning: The least populated class in y has only 1 members, which is less than n_splits=5.\n",
      "  warnings.warn(\n",
      "\n",
      "/opt/homebrew/lib/python3.9/site-packages/lightgbm/engine.py:181: UserWarning: 'early_stopping_rounds' argument is deprecated and will be removed in a future release of LightGBM. Pass 'early_stopping()' callback via 'callbacks' argument instead.\n",
      "  _log_warning(\"'early_stopping_rounds' argument is deprecated and will be removed in a future release of LightGBM. \"\n",
      "\n",
      "/opt/homebrew/lib/python3.9/site-packages/lightgbm/engine.py:239: UserWarning: 'verbose_eval' argument is deprecated and will be removed in a future release of LightGBM. Pass 'log_evaluation()' callback via 'callbacks' argument instead.\n",
      "  _log_warning(\"'verbose_eval' argument is deprecated and will be removed in a future release of LightGBM. \"\n",
      "\n"
     ]
    },
    {
     "name": "stdout",
     "output_type": "stream",
     "text": [
      "Training until validation scores don't improve for 20 rounds                    \n",
      "[50]\ttraining's multi_logloss: 0.45077\ttraining's multi_error: 0.0803313\tvalid_1's multi_logloss: 0.45129\tvalid_1's multi_error: 0.0805225\n",
      "[100]\ttraining's multi_logloss: 0.291398\ttraining's multi_error: 0.0571466\tvalid_1's multi_logloss: 0.292148\tvalid_1's multi_error: 0.0572413\n",
      "[150]\ttraining's multi_logloss: 0.209781\ttraining's multi_error: 0.0523722\tvalid_1's multi_logloss: 0.210703\tvalid_1's multi_error: 0.052405\n",
      "[200]\ttraining's multi_logloss: 0.166474\ttraining's multi_error: 0.0488456\tvalid_1's multi_logloss: 0.167547\tvalid_1's multi_error: 0.0490913\n",
      "[250]\ttraining's multi_logloss: 0.141748\ttraining's multi_error: 0.0466009\tvalid_1's multi_logloss: 0.142972\tvalid_1's multi_error: 0.0470013\n",
      "[300]\ttraining's multi_logloss: 0.12632\ttraining's multi_error: 0.04482\tvalid_1's multi_logloss: 0.127683\tvalid_1's multi_error: 0.0453975\n",
      "[350]\ttraining's multi_logloss: 0.115918\ttraining's multi_error: 0.0433262\tvalid_1's multi_logloss: 0.117416\tvalid_1's multi_error: 0.043975\n",
      "[400]\ttraining's multi_logloss: 0.10903\ttraining's multi_error: 0.0421513\tvalid_1's multi_logloss: 0.110662\tvalid_1's multi_error: 0.042775\n",
      "[450]\ttraining's multi_logloss: 0.104041\ttraining's multi_error: 0.0412812\tvalid_1's multi_logloss: 0.105801\tvalid_1's multi_error: 0.04198\n",
      "[500]\ttraining's multi_logloss: 0.100129\ttraining's multi_error: 0.0405862\tvalid_1's multi_logloss: 0.102\tvalid_1's multi_error: 0.0413263\n",
      "[550]\ttraining's multi_logloss: 0.0970984\ttraining's multi_error: 0.0400831\tvalid_1's multi_logloss: 0.0990818\tvalid_1's multi_error: 0.04071\n",
      "[600]\ttraining's multi_logloss: 0.0946216\ttraining's multi_error: 0.0396269\tvalid_1's multi_logloss: 0.0967028\tvalid_1's multi_error: 0.0404025\n",
      "[650]\ttraining's multi_logloss: 0.0926168\ttraining's multi_error: 0.0392444\tvalid_1's multi_logloss: 0.0948019\tvalid_1's multi_error: 0.0400625\n",
      "[700]\ttraining's multi_logloss: 0.0908921\ttraining's multi_error: 0.0389444\tvalid_1's multi_logloss: 0.0931708\tvalid_1's multi_error: 0.0397962\n",
      "[750]\ttraining's multi_logloss: 0.0894413\ttraining's multi_error: 0.0386803\tvalid_1's multi_logloss: 0.0918065\tvalid_1's multi_error: 0.0396325\n",
      "[800]\ttraining's multi_logloss: 0.0881558\ttraining's multi_error: 0.0384406\tvalid_1's multi_logloss: 0.0906147\tvalid_1's multi_error: 0.03949\n",
      "[850]\ttraining's multi_logloss: 0.0870281\ttraining's multi_error: 0.0382709\tvalid_1's multi_logloss: 0.0895808\tvalid_1's multi_error: 0.0393625\n",
      "[900]\ttraining's multi_logloss: 0.086031\ttraining's multi_error: 0.0380853\tvalid_1's multi_logloss: 0.0886761\tvalid_1's multi_error: 0.0392075\n",
      "[950]\ttraining's multi_logloss: 0.0851044\ttraining's multi_error: 0.0379269\tvalid_1's multi_logloss: 0.0878397\tvalid_1's multi_error: 0.0391162\n",
      "[1000]\ttraining's multi_logloss: 0.0843018\ttraining's multi_error: 0.0377613\tvalid_1's multi_logloss: 0.0871285\tvalid_1's multi_error: 0.0390363\n",
      "[1050]\ttraining's multi_logloss: 0.0835571\ttraining's multi_error: 0.0376269\tvalid_1's multi_logloss: 0.0864677\tvalid_1's multi_error: 0.038935\n",
      "[1100]\ttraining's multi_logloss: 0.0828834\ttraining's multi_error: 0.0375103\tvalid_1's multi_logloss: 0.0858821\tvalid_1's multi_error: 0.0388488\n",
      "[1150]\ttraining's multi_logloss: 0.0822596\ttraining's multi_error: 0.0374075\tvalid_1's multi_logloss: 0.0853471\tvalid_1's multi_error: 0.0387675\n",
      "[1200]\ttraining's multi_logloss: 0.0816973\ttraining's multi_error: 0.0372922\tvalid_1's multi_logloss: 0.0848749\tvalid_1's multi_error: 0.0387075\n",
      "[1250]\ttraining's multi_logloss: 0.0811862\ttraining's multi_error: 0.0371931\tvalid_1's multi_logloss: 0.0844504\tvalid_1's multi_error: 0.0386625\n",
      "[1300]\ttraining's multi_logloss: 0.0807016\ttraining's multi_error: 0.0371081\tvalid_1's multi_logloss: 0.0840541\tvalid_1's multi_error: 0.0386463\n",
      "Early stopping, best iteration is:                                              \n",
      "[1284]\ttraining's multi_logloss: 0.0808535\ttraining's multi_error: 0.0371309\tvalid_1's multi_logloss: 0.0841792\tvalid_1's multi_error: 0.038625\n",
      "  5%|▎     | 1/20 [12:57<4:06:11, 777.47s/trial, best loss: 0.08417922945802003]"
     ]
    },
    {
     "name": "stderr",
     "output_type": "stream",
     "text": [
      "2021/12/31 14:46:45 2 [INFO] {'bagging_fraction': 0.8309292802869729, 'feature_fraction': 0.8493136822063353, 'lambda_l1': 0.012037178705749304, 'lambda_l2': 0.018650660926638262, 'learning_rate': 0.01, 'max_leaves': 46, 'metric': ('multi_logloss', 'multi_error'), 'min_data_in_leaf': 19, 'num_classes': 7, 'objective': 'multiclass', 'seed': 0, 'verbose': -1}\n",
      "/opt/homebrew/lib/python3.9/site-packages/sklearn/model_selection/_split.py:676: UserWarning: The least populated class in y has only 1 members, which is less than n_splits=5.\n",
      "  warnings.warn(\n",
      "\n",
      "/opt/homebrew/lib/python3.9/site-packages/lightgbm/engine.py:181: UserWarning: 'early_stopping_rounds' argument is deprecated and will be removed in a future release of LightGBM. Pass 'early_stopping()' callback via 'callbacks' argument instead.\n",
      "  _log_warning(\"'early_stopping_rounds' argument is deprecated and will be removed in a future release of LightGBM. \"\n",
      "\n",
      "/opt/homebrew/lib/python3.9/site-packages/lightgbm/engine.py:239: UserWarning: 'verbose_eval' argument is deprecated and will be removed in a future release of LightGBM. Pass 'log_evaluation()' callback via 'callbacks' argument instead.\n",
      "  _log_warning(\"'verbose_eval' argument is deprecated and will be removed in a future release of LightGBM. \"\n",
      "\n"
     ]
    },
    {
     "name": "stdout",
     "output_type": "stream",
     "text": [
      "Training until validation scores don't improve for 20 rounds                    \n",
      "[50]\ttraining's multi_logloss: 0.419123\ttraining's multi_error: 0.0672559\tvalid_1's multi_logloss: 0.420059\tvalid_1's multi_error: 0.0676675\n",
      "[100]\ttraining's multi_logloss: 0.25902\ttraining's multi_error: 0.0535016\tvalid_1's multi_logloss: 0.260289\tvalid_1's multi_error: 0.0536575\n",
      "[150]\ttraining's multi_logloss: 0.184407\ttraining's multi_error: 0.0485353\tvalid_1's multi_logloss: 0.185946\tvalid_1's multi_error: 0.0489625\n",
      "[200]\ttraining's multi_logloss: 0.146783\ttraining's multi_error: 0.0458656\tvalid_1's multi_logloss: 0.148511\tvalid_1's multi_error: 0.0464287\n",
      "[250]\ttraining's multi_logloss: 0.124943\ttraining's multi_error: 0.0439166\tvalid_1's multi_logloss: 0.12689\tvalid_1's multi_error: 0.0445912\n",
      "[300]\ttraining's multi_logloss: 0.112358\ttraining's multi_error: 0.0423316\tvalid_1's multi_logloss: 0.11449\tvalid_1's multi_error: 0.0431487\n",
      "[350]\ttraining's multi_logloss: 0.104379\ttraining's multi_error: 0.0411234\tvalid_1's multi_logloss: 0.106705\tvalid_1's multi_error: 0.0420613\n",
      "[400]\ttraining's multi_logloss: 0.0990167\ttraining's multi_error: 0.0401963\tvalid_1's multi_logloss: 0.101518\tvalid_1's multi_error: 0.0412062\n",
      "[450]\ttraining's multi_logloss: 0.095109\ttraining's multi_error: 0.0395209\tvalid_1's multi_logloss: 0.0977765\tvalid_1's multi_error: 0.0405613\n",
      "[500]\ttraining's multi_logloss: 0.0920509\ttraining's multi_error: 0.0389806\tvalid_1's multi_logloss: 0.0948755\tvalid_1's multi_error: 0.0401\n",
      "[550]\ttraining's multi_logloss: 0.0896404\ttraining's multi_error: 0.0385575\tvalid_1's multi_logloss: 0.0926064\tvalid_1's multi_error: 0.0398275\n",
      "[600]\ttraining's multi_logloss: 0.0876709\ttraining's multi_error: 0.0382244\tvalid_1's multi_logloss: 0.0907776\tvalid_1's multi_error: 0.0394962\n",
      "[650]\ttraining's multi_logloss: 0.0859953\ttraining's multi_error: 0.0379375\tvalid_1's multi_logloss: 0.0892416\tvalid_1's multi_error: 0.0392438\n",
      "[700]\ttraining's multi_logloss: 0.0845826\ttraining's multi_error: 0.0377119\tvalid_1's multi_logloss: 0.087967\tvalid_1's multi_error: 0.0390163\n",
      "[750]\ttraining's multi_logloss: 0.083386\ttraining's multi_error: 0.0375375\tvalid_1's multi_logloss: 0.0869221\tvalid_1's multi_error: 0.0388812\n",
      "[800]\ttraining's multi_logloss: 0.0823498\ttraining's multi_error: 0.0373409\tvalid_1's multi_logloss: 0.0860263\tvalid_1's multi_error: 0.038765\n",
      "Early stopping, best iteration is:                                              \n",
      "[828]\ttraining's multi_logloss: 0.0818249\ttraining's multi_error: 0.0372503\tvalid_1's multi_logloss: 0.0855735\tvalid_1's multi_error: 0.0386662\n",
      " 10%|▌     | 2/20 [22:32<3:17:30, 658.37s/trial, best loss: 0.08417922945802003]"
     ]
    },
    {
     "name": "stderr",
     "output_type": "stream",
     "text": [
      "2021/12/31 14:56:20 2 [INFO] {'bagging_fraction': 0.8299037171131212, 'feature_fraction': 0.803399637322971, 'lambda_l1': 0.0626719383891622, 'lambda_l2': 0.014493318498254155, 'learning_rate': 0.01, 'max_leaves': 53, 'metric': ('multi_logloss', 'multi_error'), 'min_data_in_leaf': 26, 'num_classes': 7, 'objective': 'multiclass', 'seed': 0, 'verbose': -1}\n",
      "/opt/homebrew/lib/python3.9/site-packages/sklearn/model_selection/_split.py:676: UserWarning: The least populated class in y has only 1 members, which is less than n_splits=5.\n",
      "  warnings.warn(\n",
      "\n",
      "/opt/homebrew/lib/python3.9/site-packages/lightgbm/engine.py:181: UserWarning: 'early_stopping_rounds' argument is deprecated and will be removed in a future release of LightGBM. Pass 'early_stopping()' callback via 'callbacks' argument instead.\n",
      "  _log_warning(\"'early_stopping_rounds' argument is deprecated and will be removed in a future release of LightGBM. \"\n",
      "\n",
      "/opt/homebrew/lib/python3.9/site-packages/lightgbm/engine.py:239: UserWarning: 'verbose_eval' argument is deprecated and will be removed in a future release of LightGBM. Pass 'log_evaluation()' callback via 'callbacks' argument instead.\n",
      "  _log_warning(\"'verbose_eval' argument is deprecated and will be removed in a future release of LightGBM. \"\n",
      "\n"
     ]
    },
    {
     "name": "stdout",
     "output_type": "stream",
     "text": [
      "Training until validation scores don't improve for 20 rounds                    \n",
      "[50]\ttraining's multi_logloss: 0.424079\ttraining's multi_error: 0.0668431\tvalid_1's multi_logloss: 0.425126\tvalid_1's multi_error: 0.0673437\n",
      "[100]\ttraining's multi_logloss: 0.264431\ttraining's multi_error: 0.0523875\tvalid_1's multi_logloss: 0.265829\tvalid_1's multi_error: 0.0526713\n",
      "[150]\ttraining's multi_logloss: 0.187529\ttraining's multi_error: 0.0476209\tvalid_1's multi_logloss: 0.189216\tvalid_1's multi_error: 0.04817\n",
      "[200]\ttraining's multi_logloss: 0.148103\ttraining's multi_error: 0.0450788\tvalid_1's multi_logloss: 0.14999\tvalid_1's multi_error: 0.0457687\n",
      "[250]\ttraining's multi_logloss: 0.125608\ttraining's multi_error: 0.0431475\tvalid_1's multi_logloss: 0.127715\tvalid_1's multi_error: 0.0439288\n",
      "[300]\ttraining's multi_logloss: 0.11206\ttraining's multi_error: 0.0417019\tvalid_1's multi_logloss: 0.114342\tvalid_1's multi_error: 0.0425775\n",
      "[350]\ttraining's multi_logloss: 0.103565\ttraining's multi_error: 0.0405913\tvalid_1's multi_logloss: 0.10605\tvalid_1's multi_error: 0.0415712\n",
      "[400]\ttraining's multi_logloss: 0.0978932\ttraining's multi_error: 0.0397766\tvalid_1's multi_logloss: 0.100567\tvalid_1's multi_error: 0.0407462\n",
      "[450]\ttraining's multi_logloss: 0.0938833\ttraining's multi_error: 0.0391269\tvalid_1's multi_logloss: 0.0967413\tvalid_1's multi_error: 0.04026\n",
      "[500]\ttraining's multi_logloss: 0.0907377\ttraining's multi_error: 0.0386584\tvalid_1's multi_logloss: 0.093766\tvalid_1's multi_error: 0.03984\n",
      "[550]\ttraining's multi_logloss: 0.0882948\ttraining's multi_error: 0.0382478\tvalid_1's multi_logloss: 0.0914898\tvalid_1's multi_error: 0.0395187\n",
      "[600]\ttraining's multi_logloss: 0.0863172\ttraining's multi_error: 0.0379153\tvalid_1's multi_logloss: 0.0896788\tvalid_1's multi_error: 0.0392425\n",
      "[650]\ttraining's multi_logloss: 0.0846955\ttraining's multi_error: 0.0376203\tvalid_1's multi_logloss: 0.0882274\tvalid_1's multi_error: 0.038965\n",
      "[700]\ttraining's multi_logloss: 0.0832851\ttraining's multi_error: 0.0373762\tvalid_1's multi_logloss: 0.0869758\tvalid_1's multi_error: 0.0388138\n",
      "[750]\ttraining's multi_logloss: 0.0820977\ttraining's multi_error: 0.0371678\tvalid_1's multi_logloss: 0.0859459\tvalid_1's multi_error: 0.038675\n",
      "[800]\ttraining's multi_logloss: 0.0810753\ttraining's multi_error: 0.0370019\tvalid_1's multi_logloss: 0.0850798\tvalid_1's multi_error: 0.03856\n",
      "[850]\ttraining's multi_logloss: 0.0801701\ttraining's multi_error: 0.0368366\tvalid_1's multi_logloss: 0.0843282\tvalid_1's multi_error: 0.0384613\n",
      "[900]\ttraining's multi_logloss: 0.0793675\ttraining's multi_error: 0.0366622\tvalid_1's multi_logloss: 0.0836798\tvalid_1's multi_error: 0.0383587\n",
      "[950]\ttraining's multi_logloss: 0.0786388\ttraining's multi_error: 0.0364869\tvalid_1's multi_logloss: 0.0831065\tvalid_1's multi_error: 0.0382712\n",
      "Early stopping, best iteration is:                                              \n",
      "[936]\ttraining's multi_logloss: 0.0788307\ttraining's multi_error: 0.0365362\tvalid_1's multi_logloss: 0.0832546\tvalid_1's multi_error: 0.03826\n",
      " 15%|▉     | 3/20 [33:29<3:06:20, 657.67s/trial, best loss: 0.08325457109616649]"
     ]
    },
    {
     "name": "stderr",
     "output_type": "stream",
     "text": [
      "2021/12/31 15:07:17 2 [INFO] {'bagging_fraction': 0.8989200326060357, 'feature_fraction': 0.86436856562306, 'lambda_l1': 0.4897384544924264, 'lambda_l2': 0.011468634268358415, 'learning_rate': 0.01, 'max_leaves': 34, 'metric': ('multi_logloss', 'multi_error'), 'min_data_in_leaf': 40, 'num_classes': 7, 'objective': 'multiclass', 'seed': 0, 'verbose': -1}\n",
      "/opt/homebrew/lib/python3.9/site-packages/sklearn/model_selection/_split.py:676: UserWarning: The least populated class in y has only 1 members, which is less than n_splits=5.\n",
      "  warnings.warn(\n",
      "\n",
      "/opt/homebrew/lib/python3.9/site-packages/lightgbm/engine.py:181: UserWarning: 'early_stopping_rounds' argument is deprecated and will be removed in a future release of LightGBM. Pass 'early_stopping()' callback via 'callbacks' argument instead.\n",
      "  _log_warning(\"'early_stopping_rounds' argument is deprecated and will be removed in a future release of LightGBM. \"\n",
      "\n",
      "/opt/homebrew/lib/python3.9/site-packages/lightgbm/engine.py:239: UserWarning: 'verbose_eval' argument is deprecated and will be removed in a future release of LightGBM. Pass 'log_evaluation()' callback via 'callbacks' argument instead.\n",
      "  _log_warning(\"'verbose_eval' argument is deprecated and will be removed in a future release of LightGBM. \"\n",
      "\n"
     ]
    },
    {
     "name": "stdout",
     "output_type": "stream",
     "text": [
      "Training until validation scores don't improve for 20 rounds                    \n",
      "[50]\ttraining's multi_logloss: 0.425145\ttraining's multi_error: 0.0708938\tvalid_1's multi_logloss: 0.425904\tvalid_1's multi_error: 0.0712462\n",
      "[100]\ttraining's multi_logloss: 0.266259\ttraining's multi_error: 0.0565116\tvalid_1's multi_logloss: 0.267291\tvalid_1's multi_error: 0.0566038\n",
      "[150]\ttraining's multi_logloss: 0.191915\ttraining's multi_error: 0.0511988\tvalid_1's multi_logloss: 0.193168\tvalid_1's multi_error: 0.0513612\n",
      "[200]\ttraining's multi_logloss: 0.154016\ttraining's multi_error: 0.0480156\tvalid_1's multi_logloss: 0.155449\tvalid_1's multi_error: 0.048395\n",
      "[250]\ttraining's multi_logloss: 0.132006\ttraining's multi_error: 0.0458037\tvalid_1's multi_logloss: 0.133624\tvalid_1's multi_error: 0.0464338\n",
      "[300]\ttraining's multi_logloss: 0.118979\ttraining's multi_error: 0.0440994\tvalid_1's multi_logloss: 0.120767\tvalid_1's multi_error: 0.044715\n",
      "[350]\ttraining's multi_logloss: 0.110536\ttraining's multi_error: 0.0427331\tvalid_1's multi_logloss: 0.11248\tvalid_1's multi_error: 0.0434838\n",
      "[400]\ttraining's multi_logloss: 0.104682\ttraining's multi_error: 0.041605\tvalid_1's multi_logloss: 0.106757\tvalid_1's multi_error: 0.0424475\n",
      "[450]\ttraining's multi_logloss: 0.100444\ttraining's multi_error: 0.0408072\tvalid_1's multi_logloss: 0.102654\tvalid_1's multi_error: 0.0416087\n",
      "[500]\ttraining's multi_logloss: 0.0971039\ttraining's multi_error: 0.0401806\tvalid_1's multi_logloss: 0.0994219\tvalid_1's multi_error: 0.0409537\n",
      "[550]\ttraining's multi_logloss: 0.0944559\ttraining's multi_error: 0.0396975\tvalid_1's multi_logloss: 0.0968926\tvalid_1's multi_error: 0.0405425\n",
      "[600]\ttraining's multi_logloss: 0.0922518\ttraining's multi_error: 0.0393025\tvalid_1's multi_logloss: 0.0947873\tvalid_1's multi_error: 0.0401725\n",
      "[650]\ttraining's multi_logloss: 0.0904427\ttraining's multi_error: 0.0389066\tvalid_1's multi_logloss: 0.0930747\tvalid_1's multi_error: 0.039935\n",
      "[700]\ttraining's multi_logloss: 0.0888875\ttraining's multi_error: 0.0386025\tvalid_1's multi_logloss: 0.0916157\tvalid_1's multi_error: 0.03961\n",
      "[750]\ttraining's multi_logloss: 0.0875584\ttraining's multi_error: 0.0383831\tvalid_1's multi_logloss: 0.0903825\tvalid_1's multi_error: 0.0394337\n",
      "[800]\ttraining's multi_logloss: 0.0864049\ttraining's multi_error: 0.038205\tvalid_1's multi_logloss: 0.0893227\tvalid_1's multi_error: 0.039305\n",
      "[850]\ttraining's multi_logloss: 0.0853589\ttraining's multi_error: 0.0380163\tvalid_1's multi_logloss: 0.088373\tvalid_1's multi_error: 0.039215\n",
      "[900]\ttraining's multi_logloss: 0.0844471\ttraining's multi_error: 0.0378537\tvalid_1's multi_logloss: 0.0875624\tvalid_1's multi_error: 0.0391125\n",
      "[950]\ttraining's multi_logloss: 0.0836199\ttraining's multi_error: 0.037695\tvalid_1's multi_logloss: 0.0868358\tvalid_1's multi_error: 0.0390225\n",
      "[1000]\ttraining's multi_logloss: 0.0828813\ttraining's multi_error: 0.0375444\tvalid_1's multi_logloss: 0.0861882\tvalid_1's multi_error: 0.0389263\n",
      "Early stopping, best iteration is:                                              \n",
      "[996]\ttraining's multi_logloss: 0.0829396\ttraining's multi_error: 0.0375528\tvalid_1's multi_logloss: 0.0862383\tvalid_1's multi_error: 0.0389087\n",
      " 20%|█▏    | 4/20 [43:28<2:49:11, 634.45s/trial, best loss: 0.08325457109616649]"
     ]
    },
    {
     "name": "stderr",
     "output_type": "stream",
     "text": [
      "2021/12/31 15:17:16 2 [INFO] {'bagging_fraction': 0.7068361964966817, 'feature_fraction': 0.7116335119363578, 'lambda_l1': 0.09513094301468064, 'lambda_l2': 0.524104595381781, 'learning_rate': 0.01, 'max_leaves': 52, 'metric': ('multi_logloss', 'multi_error'), 'min_data_in_leaf': 41, 'num_classes': 7, 'objective': 'multiclass', 'seed': 0, 'verbose': -1}\n",
      "/opt/homebrew/lib/python3.9/site-packages/sklearn/model_selection/_split.py:676: UserWarning: The least populated class in y has only 1 members, which is less than n_splits=5.\n",
      "  warnings.warn(\n",
      "\n",
      "/opt/homebrew/lib/python3.9/site-packages/lightgbm/engine.py:181: UserWarning: 'early_stopping_rounds' argument is deprecated and will be removed in a future release of LightGBM. Pass 'early_stopping()' callback via 'callbacks' argument instead.\n",
      "  _log_warning(\"'early_stopping_rounds' argument is deprecated and will be removed in a future release of LightGBM. \"\n",
      "\n",
      "/opt/homebrew/lib/python3.9/site-packages/lightgbm/engine.py:239: UserWarning: 'verbose_eval' argument is deprecated and will be removed in a future release of LightGBM. Pass 'log_evaluation()' callback via 'callbacks' argument instead.\n",
      "  _log_warning(\"'verbose_eval' argument is deprecated and will be removed in a future release of LightGBM. \"\n",
      "\n"
     ]
    },
    {
     "name": "stdout",
     "output_type": "stream",
     "text": [
      "Training until validation scores don't improve for 20 rounds                    \n",
      "[50]\ttraining's multi_logloss: 0.454084\ttraining's multi_error: 0.0788222\tvalid_1's multi_logloss: 0.454689\tvalid_1's multi_error: 0.0792237\n",
      "[100]\ttraining's multi_logloss: 0.294272\ttraining's multi_error: 0.0541347\tvalid_1's multi_logloss: 0.295186\tvalid_1's multi_error: 0.0543525\n",
      "[150]\ttraining's multi_logloss: 0.208092\ttraining's multi_error: 0.048985\tvalid_1's multi_logloss: 0.209248\tvalid_1's multi_error: 0.0494125\n",
      "[200]\ttraining's multi_logloss: 0.162704\ttraining's multi_error: 0.0458238\tvalid_1's multi_logloss: 0.164076\tvalid_1's multi_error: 0.0464613\n",
      "[250]\ttraining's multi_logloss: 0.137146\ttraining's multi_error: 0.0438575\tvalid_1's multi_logloss: 0.138687\tvalid_1's multi_error: 0.0445888\n",
      "[300]\ttraining's multi_logloss: 0.120831\ttraining's multi_error: 0.0423044\tvalid_1's multi_logloss: 0.122563\tvalid_1's multi_error: 0.0431038\n",
      "[350]\ttraining's multi_logloss: 0.110143\ttraining's multi_error: 0.0411997\tvalid_1's multi_logloss: 0.11203\tvalid_1's multi_error: 0.0419638\n",
      "[400]\ttraining's multi_logloss: 0.103107\ttraining's multi_error: 0.0402975\tvalid_1's multi_logloss: 0.105145\tvalid_1's multi_error: 0.0411863\n",
      "[450]\ttraining's multi_logloss: 0.0980282\ttraining's multi_error: 0.0395909\tvalid_1's multi_logloss: 0.100231\tvalid_1's multi_error: 0.0405913\n",
      "[500]\ttraining's multi_logloss: 0.0942332\ttraining's multi_error: 0.0390062\tvalid_1's multi_logloss: 0.0965945\tvalid_1's multi_error: 0.04005\n",
      "[550]\ttraining's multi_logloss: 0.0913944\ttraining's multi_error: 0.0385797\tvalid_1's multi_logloss: 0.0939084\tvalid_1's multi_error: 0.0397238\n",
      "[600]\ttraining's multi_logloss: 0.0890264\ttraining's multi_error: 0.038195\tvalid_1's multi_logloss: 0.0916884\tvalid_1's multi_error: 0.039425\n",
      "[650]\ttraining's multi_logloss: 0.087125\ttraining's multi_error: 0.0379106\tvalid_1's multi_logloss: 0.089935\tvalid_1's multi_error: 0.03916\n",
      "[700]\ttraining's multi_logloss: 0.0855404\ttraining's multi_error: 0.0376575\tvalid_1's multi_logloss: 0.0884942\tvalid_1's multi_error: 0.0389888\n",
      "[750]\ttraining's multi_logloss: 0.0842087\ttraining's multi_error: 0.0374494\tvalid_1's multi_logloss: 0.0873092\tvalid_1's multi_error: 0.0388312\n",
      "[800]\ttraining's multi_logloss: 0.0830052\ttraining's multi_error: 0.0372616\tvalid_1's multi_logloss: 0.0862518\tvalid_1's multi_error: 0.0387238\n",
      "[850]\ttraining's multi_logloss: 0.0819691\ttraining's multi_error: 0.0370872\tvalid_1's multi_logloss: 0.0853581\tvalid_1's multi_error: 0.0385663\n",
      "[900]\ttraining's multi_logloss: 0.0810406\ttraining's multi_error: 0.0369184\tvalid_1's multi_logloss: 0.0845716\tvalid_1's multi_error: 0.0384338\n",
      "[950]\ttraining's multi_logloss: 0.0802334\ttraining's multi_error: 0.0367547\tvalid_1's multi_logloss: 0.0839061\tvalid_1's multi_error: 0.0384012\n",
      "[1000]\ttraining's multi_logloss: 0.0795156\ttraining's multi_error: 0.0365972\tvalid_1's multi_logloss: 0.0833316\tvalid_1's multi_error: 0.0383225\n",
      "[1050]\ttraining's multi_logloss: 0.078849\ttraining's multi_error: 0.0364406\tvalid_1's multi_logloss: 0.0828117\tvalid_1's multi_error: 0.0382362\n",
      "[1100]\ttraining's multi_logloss: 0.0782253\ttraining's multi_error: 0.0363106\tvalid_1's multi_logloss: 0.0823364\tvalid_1's multi_error: 0.038205\n",
      "Early stopping, best iteration is:                                              \n",
      "[1106]\ttraining's multi_logloss: 0.0781521\ttraining's multi_error: 0.036305\tvalid_1's multi_logloss: 0.0822806\tvalid_1's multi_error: 0.0381775\n",
      " 25%|█▊     | 5/20 [56:23<2:51:20, 685.40s/trial, best loss: 0.0822805522830947]"
     ]
    },
    {
     "name": "stderr",
     "output_type": "stream",
     "text": [
      "2021/12/31 15:30:12 2 [INFO] {'bagging_fraction': 0.8197814508193194, 'feature_fraction': 0.7634908800588147, 'lambda_l1': 0.13532178103709736, 'lambda_l2': 0.21595416946835802, 'learning_rate': 0.01, 'max_leaves': 69, 'metric': ('multi_logloss', 'multi_error'), 'min_data_in_leaf': 31, 'num_classes': 7, 'objective': 'multiclass', 'seed': 0, 'verbose': -1}\n",
      "/opt/homebrew/lib/python3.9/site-packages/sklearn/model_selection/_split.py:676: UserWarning: The least populated class in y has only 1 members, which is less than n_splits=5.\n",
      "  warnings.warn(\n",
      "\n",
      "/opt/homebrew/lib/python3.9/site-packages/lightgbm/engine.py:181: UserWarning: 'early_stopping_rounds' argument is deprecated and will be removed in a future release of LightGBM. Pass 'early_stopping()' callback via 'callbacks' argument instead.\n",
      "  _log_warning(\"'early_stopping_rounds' argument is deprecated and will be removed in a future release of LightGBM. \"\n",
      "\n",
      "/opt/homebrew/lib/python3.9/site-packages/lightgbm/engine.py:239: UserWarning: 'verbose_eval' argument is deprecated and will be removed in a future release of LightGBM. Pass 'log_evaluation()' callback via 'callbacks' argument instead.\n",
      "  _log_warning(\"'verbose_eval' argument is deprecated and will be removed in a future release of LightGBM. \"\n",
      "\n"
     ]
    },
    {
     "name": "stdout",
     "output_type": "stream",
     "text": [
      "Training until validation scores don't improve for 20 rounds                    \n",
      "[50]\ttraining's multi_logloss: 0.438482\ttraining's multi_error: 0.0708359\tvalid_1's multi_logloss: 0.43934\tvalid_1's multi_error: 0.0713088\n",
      "[100]\ttraining's multi_logloss: 0.276366\ttraining's multi_error: 0.0508994\tvalid_1's multi_logloss: 0.277597\tvalid_1's multi_error: 0.0512475\n",
      "[150]\ttraining's multi_logloss: 0.193837\ttraining's multi_error: 0.046145\tvalid_1's multi_logloss: 0.195396\tvalid_1's multi_error: 0.0468638\n",
      "[200]\ttraining's multi_logloss: 0.150607\ttraining's multi_error: 0.0436288\tvalid_1's multi_logloss: 0.152423\tvalid_1's multi_error: 0.0443363\n",
      "[250]\ttraining's multi_logloss: 0.126558\ttraining's multi_error: 0.0418891\tvalid_1's multi_logloss: 0.128602\tvalid_1's multi_error: 0.0427825\n",
      "[300]\ttraining's multi_logloss: 0.111869\ttraining's multi_error: 0.0407081\tvalid_1's multi_logloss: 0.114136\tvalid_1's multi_error: 0.0416238\n",
      "[350]\ttraining's multi_logloss: 0.102321\ttraining's multi_error: 0.0397678\tvalid_1's multi_logloss: 0.104817\tvalid_1's multi_error: 0.0408237\n",
      "[400]\ttraining's multi_logloss: 0.0962302\ttraining's multi_error: 0.0390644\tvalid_1's multi_logloss: 0.0989392\tvalid_1's multi_error: 0.040255\n",
      "[450]\ttraining's multi_logloss: 0.0919466\ttraining's multi_error: 0.0384475\tvalid_1's multi_logloss: 0.0948784\tvalid_1's multi_error: 0.0397938\n",
      "[500]\ttraining's multi_logloss: 0.0886261\ttraining's multi_error: 0.0379738\tvalid_1's multi_logloss: 0.0917599\tvalid_1's multi_error: 0.039405\n",
      "[550]\ttraining's multi_logloss: 0.0861691\ttraining's multi_error: 0.0375866\tvalid_1's multi_logloss: 0.0895042\tvalid_1's multi_error: 0.0391287\n",
      "[600]\ttraining's multi_logloss: 0.0841528\ttraining's multi_error: 0.0372691\tvalid_1's multi_logloss: 0.0876914\tvalid_1's multi_error: 0.0388088\n",
      "[650]\ttraining's multi_logloss: 0.082535\ttraining's multi_error: 0.0369803\tvalid_1's multi_logloss: 0.0862731\tvalid_1's multi_error: 0.0385975\n",
      "[700]\ttraining's multi_logloss: 0.0811558\ttraining's multi_error: 0.0367172\tvalid_1's multi_logloss: 0.085102\tvalid_1's multi_error: 0.0384012\n",
      "[750]\ttraining's multi_logloss: 0.0800025\ttraining's multi_error: 0.0364853\tvalid_1's multi_logloss: 0.0841476\tvalid_1's multi_error: 0.0382938\n",
      "[800]\ttraining's multi_logloss: 0.0789598\ttraining's multi_error: 0.0363234\tvalid_1's multi_logloss: 0.0833046\tvalid_1's multi_error: 0.0382062\n",
      "[850]\ttraining's multi_logloss: 0.0780453\ttraining's multi_error: 0.0361044\tvalid_1's multi_logloss: 0.0825914\tvalid_1's multi_error: 0.0381387\n",
      "Early stopping, best iteration is:                                              \n",
      "[872]\ttraining's multi_logloss: 0.0776819\ttraining's multi_error: 0.0360272\tvalid_1's multi_logloss: 0.0823154\tvalid_1's multi_error: 0.0380925\n",
      " 30%|█▌   | 6/20 [1:08:49<2:44:41, 705.83s/trial, best loss: 0.0822805522830947]"
     ]
    },
    {
     "name": "stderr",
     "output_type": "stream",
     "text": [
      "2021/12/31 15:42:37 2 [INFO] {'bagging_fraction': 0.8752568813438453, 'feature_fraction': 0.7759201601499417, 'lambda_l1': 0.06838213507022683, 'lambda_l2': 0.19405602740685965, 'learning_rate': 0.01, 'max_leaves': 59, 'metric': ('multi_logloss', 'multi_error'), 'min_data_in_leaf': 47, 'num_classes': 7, 'objective': 'multiclass', 'seed': 0, 'verbose': -1}\n",
      "/opt/homebrew/lib/python3.9/site-packages/sklearn/model_selection/_split.py:676: UserWarning: The least populated class in y has only 1 members, which is less than n_splits=5.\n",
      "  warnings.warn(\n",
      "\n",
      "/opt/homebrew/lib/python3.9/site-packages/lightgbm/engine.py:181: UserWarning: 'early_stopping_rounds' argument is deprecated and will be removed in a future release of LightGBM. Pass 'early_stopping()' callback via 'callbacks' argument instead.\n",
      "  _log_warning(\"'early_stopping_rounds' argument is deprecated and will be removed in a future release of LightGBM. \"\n",
      "\n",
      "/opt/homebrew/lib/python3.9/site-packages/lightgbm/engine.py:239: UserWarning: 'verbose_eval' argument is deprecated and will be removed in a future release of LightGBM. Pass 'log_evaluation()' callback via 'callbacks' argument instead.\n",
      "  _log_warning(\"'verbose_eval' argument is deprecated and will be removed in a future release of LightGBM. \"\n",
      "\n"
     ]
    },
    {
     "name": "stdout",
     "output_type": "stream",
     "text": [
      "Training until validation scores don't improve for 20 rounds                    \n",
      "[50]\ttraining's multi_logloss: 0.433631\ttraining's multi_error: 0.0714975\tvalid_1's multi_logloss: 0.434376\tvalid_1's multi_error: 0.07185\n",
      "[100]\ttraining's multi_logloss: 0.272359\ttraining's multi_error: 0.0519913\tvalid_1's multi_logloss: 0.273444\tvalid_1's multi_error: 0.0523363\n",
      "[150]\ttraining's multi_logloss: 0.192102\ttraining's multi_error: 0.0471216\tvalid_1's multi_logloss: 0.193483\tvalid_1's multi_error: 0.0477038\n",
      "[200]\ttraining's multi_logloss: 0.15066\ttraining's multi_error: 0.0444141\tvalid_1's multi_logloss: 0.152279\tvalid_1's multi_error: 0.0451587\n",
      "[250]\ttraining's multi_logloss: 0.127133\ttraining's multi_error: 0.0425897\tvalid_1's multi_logloss: 0.128971\tvalid_1's multi_error: 0.0434037\n",
      "[300]\ttraining's multi_logloss: 0.112867\ttraining's multi_error: 0.0413022\tvalid_1's multi_logloss: 0.114904\tvalid_1's multi_error: 0.0422125\n",
      "[350]\ttraining's multi_logloss: 0.103675\ttraining's multi_error: 0.0402453\tvalid_1's multi_logloss: 0.105908\tvalid_1's multi_error: 0.0411987\n",
      "[400]\ttraining's multi_logloss: 0.097733\ttraining's multi_error: 0.0394666\tvalid_1's multi_logloss: 0.100158\tvalid_1's multi_error: 0.040555\n",
      "[450]\ttraining's multi_logloss: 0.0935195\ttraining's multi_error: 0.0389044\tvalid_1's multi_logloss: 0.0961296\tvalid_1's multi_error: 0.04004\n",
      "[500]\ttraining's multi_logloss: 0.0902388\ttraining's multi_error: 0.0383641\tvalid_1's multi_logloss: 0.0930271\tvalid_1's multi_error: 0.03968\n",
      "[550]\ttraining's multi_logloss: 0.0877491\ttraining's multi_error: 0.0379681\tvalid_1's multi_logloss: 0.0907098\tvalid_1's multi_error: 0.0394025\n",
      "[600]\ttraining's multi_logloss: 0.0857179\ttraining's multi_error: 0.0376516\tvalid_1's multi_logloss: 0.088848\tvalid_1's multi_error: 0.0391012\n",
      "[650]\ttraining's multi_logloss: 0.084072\ttraining's multi_error: 0.0373684\tvalid_1's multi_logloss: 0.0873743\tvalid_1's multi_error: 0.0388812\n",
      " 30%|█▌   | 6/20 [1:17:16<3:00:19, 772.80s/trial, best loss: 0.0822805522830947]\n"
     ]
    },
    {
     "ename": "KeyboardInterrupt",
     "evalue": "",
     "output_type": "error",
     "traceback": [
      "\u001b[0;31m---------------------------------------------------------------------------\u001b[0m",
      "\u001b[0;31mKeyboardInterrupt\u001b[0m                         Traceback (most recent call last)",
      "\u001b[0;32m/var/folders/4j/39ff5pxx58bg64js9q9f_yy80000gn/T/ipykernel_20001/2305971487.py\u001b[0m in \u001b[0;36m<module>\u001b[0;34m\u001b[0m\n\u001b[0;32m----> 1\u001b[0;31m \u001b[0mbest\u001b[0m \u001b[0;34m=\u001b[0m \u001b[0mfmin\u001b[0m\u001b[0;34m(\u001b[0m\u001b[0mfn\u001b[0m\u001b[0;34m=\u001b[0m\u001b[0mobjective\u001b[0m\u001b[0;34m,\u001b[0m \u001b[0mspace\u001b[0m\u001b[0;34m=\u001b[0m\u001b[0mspace\u001b[0m\u001b[0;34m,\u001b[0m \u001b[0malgo\u001b[0m\u001b[0;34m=\u001b[0m\u001b[0mtpe\u001b[0m\u001b[0;34m.\u001b[0m\u001b[0msuggest\u001b[0m\u001b[0;34m,\u001b[0m \u001b[0mmax_evals\u001b[0m\u001b[0;34m=\u001b[0m\u001b[0;36m20\u001b[0m\u001b[0;34m)\u001b[0m\u001b[0;34m\u001b[0m\u001b[0;34m\u001b[0m\u001b[0m\n\u001b[0m\u001b[1;32m      2\u001b[0m \u001b[0mbest_params\u001b[0m \u001b[0;34m=\u001b[0m \u001b[0mspace_eval\u001b[0m\u001b[0;34m(\u001b[0m\u001b[0mspace\u001b[0m\u001b[0;34m,\u001b[0m \u001b[0mbest\u001b[0m\u001b[0;34m)\u001b[0m\u001b[0;34m\u001b[0m\u001b[0;34m\u001b[0m\u001b[0m\n\u001b[1;32m      3\u001b[0m \u001b[0mlogger\u001b[0m\u001b[0;34m.\u001b[0m\u001b[0minfo\u001b[0m\u001b[0;34m(\u001b[0m\u001b[0;34m\"best params: {}\"\u001b[0m\u001b[0;34m.\u001b[0m\u001b[0mformat\u001b[0m\u001b[0;34m(\u001b[0m\u001b[0mbest_params\u001b[0m\u001b[0;34m)\u001b[0m\u001b[0;34m)\u001b[0m\u001b[0;34m\u001b[0m\u001b[0;34m\u001b[0m\u001b[0m\n",
      "\u001b[0;32m/opt/homebrew/lib/python3.9/site-packages/hyperopt/fmin.py\u001b[0m in \u001b[0;36mfmin\u001b[0;34m(fn, space, algo, max_evals, timeout, loss_threshold, trials, rstate, allow_trials_fmin, pass_expr_memo_ctrl, catch_eval_exceptions, verbose, return_argmin, points_to_evaluate, max_queue_len, show_progressbar, early_stop_fn, trials_save_file)\u001b[0m\n\u001b[1;32m    584\u001b[0m \u001b[0;34m\u001b[0m\u001b[0m\n\u001b[1;32m    585\u001b[0m     \u001b[0;31m# next line is where the fmin is actually executed\u001b[0m\u001b[0;34m\u001b[0m\u001b[0;34m\u001b[0m\u001b[0m\n\u001b[0;32m--> 586\u001b[0;31m     \u001b[0mrval\u001b[0m\u001b[0;34m.\u001b[0m\u001b[0mexhaust\u001b[0m\u001b[0;34m(\u001b[0m\u001b[0;34m)\u001b[0m\u001b[0;34m\u001b[0m\u001b[0;34m\u001b[0m\u001b[0m\n\u001b[0m\u001b[1;32m    587\u001b[0m \u001b[0;34m\u001b[0m\u001b[0m\n\u001b[1;32m    588\u001b[0m     \u001b[0;32mif\u001b[0m \u001b[0mreturn_argmin\u001b[0m\u001b[0;34m:\u001b[0m\u001b[0;34m\u001b[0m\u001b[0;34m\u001b[0m\u001b[0m\n",
      "\u001b[0;32m/opt/homebrew/lib/python3.9/site-packages/hyperopt/fmin.py\u001b[0m in \u001b[0;36mexhaust\u001b[0;34m(self)\u001b[0m\n\u001b[1;32m    362\u001b[0m     \u001b[0;32mdef\u001b[0m \u001b[0mexhaust\u001b[0m\u001b[0;34m(\u001b[0m\u001b[0mself\u001b[0m\u001b[0;34m)\u001b[0m\u001b[0;34m:\u001b[0m\u001b[0;34m\u001b[0m\u001b[0;34m\u001b[0m\u001b[0m\n\u001b[1;32m    363\u001b[0m         \u001b[0mn_done\u001b[0m \u001b[0;34m=\u001b[0m \u001b[0mlen\u001b[0m\u001b[0;34m(\u001b[0m\u001b[0mself\u001b[0m\u001b[0;34m.\u001b[0m\u001b[0mtrials\u001b[0m\u001b[0;34m)\u001b[0m\u001b[0;34m\u001b[0m\u001b[0;34m\u001b[0m\u001b[0m\n\u001b[0;32m--> 364\u001b[0;31m         \u001b[0mself\u001b[0m\u001b[0;34m.\u001b[0m\u001b[0mrun\u001b[0m\u001b[0;34m(\u001b[0m\u001b[0mself\u001b[0m\u001b[0;34m.\u001b[0m\u001b[0mmax_evals\u001b[0m \u001b[0;34m-\u001b[0m \u001b[0mn_done\u001b[0m\u001b[0;34m,\u001b[0m \u001b[0mblock_until_done\u001b[0m\u001b[0;34m=\u001b[0m\u001b[0mself\u001b[0m\u001b[0;34m.\u001b[0m\u001b[0masynchronous\u001b[0m\u001b[0;34m)\u001b[0m\u001b[0;34m\u001b[0m\u001b[0;34m\u001b[0m\u001b[0m\n\u001b[0m\u001b[1;32m    365\u001b[0m         \u001b[0mself\u001b[0m\u001b[0;34m.\u001b[0m\u001b[0mtrials\u001b[0m\u001b[0;34m.\u001b[0m\u001b[0mrefresh\u001b[0m\u001b[0;34m(\u001b[0m\u001b[0;34m)\u001b[0m\u001b[0;34m\u001b[0m\u001b[0;34m\u001b[0m\u001b[0m\n\u001b[1;32m    366\u001b[0m         \u001b[0;32mreturn\u001b[0m \u001b[0mself\u001b[0m\u001b[0;34m\u001b[0m\u001b[0;34m\u001b[0m\u001b[0m\n",
      "\u001b[0;32m/opt/homebrew/lib/python3.9/site-packages/hyperopt/fmin.py\u001b[0m in \u001b[0;36mrun\u001b[0;34m(self, N, block_until_done)\u001b[0m\n\u001b[1;32m    298\u001b[0m                 \u001b[0;32melse\u001b[0m\u001b[0;34m:\u001b[0m\u001b[0;34m\u001b[0m\u001b[0;34m\u001b[0m\u001b[0m\n\u001b[1;32m    299\u001b[0m                     \u001b[0;31m# -- loop over trials and do the jobs directly\u001b[0m\u001b[0;34m\u001b[0m\u001b[0;34m\u001b[0m\u001b[0m\n\u001b[0;32m--> 300\u001b[0;31m                     \u001b[0mself\u001b[0m\u001b[0;34m.\u001b[0m\u001b[0mserial_evaluate\u001b[0m\u001b[0;34m(\u001b[0m\u001b[0;34m)\u001b[0m\u001b[0;34m\u001b[0m\u001b[0;34m\u001b[0m\u001b[0m\n\u001b[0m\u001b[1;32m    301\u001b[0m \u001b[0;34m\u001b[0m\u001b[0m\n\u001b[1;32m    302\u001b[0m                 \u001b[0mself\u001b[0m\u001b[0;34m.\u001b[0m\u001b[0mtrials\u001b[0m\u001b[0;34m.\u001b[0m\u001b[0mrefresh\u001b[0m\u001b[0;34m(\u001b[0m\u001b[0;34m)\u001b[0m\u001b[0;34m\u001b[0m\u001b[0;34m\u001b[0m\u001b[0m\n",
      "\u001b[0;32m/opt/homebrew/lib/python3.9/site-packages/hyperopt/fmin.py\u001b[0m in \u001b[0;36mserial_evaluate\u001b[0;34m(self, N)\u001b[0m\n\u001b[1;32m    176\u001b[0m                 \u001b[0mctrl\u001b[0m \u001b[0;34m=\u001b[0m \u001b[0mbase\u001b[0m\u001b[0;34m.\u001b[0m\u001b[0mCtrl\u001b[0m\u001b[0;34m(\u001b[0m\u001b[0mself\u001b[0m\u001b[0;34m.\u001b[0m\u001b[0mtrials\u001b[0m\u001b[0;34m,\u001b[0m \u001b[0mcurrent_trial\u001b[0m\u001b[0;34m=\u001b[0m\u001b[0mtrial\u001b[0m\u001b[0;34m)\u001b[0m\u001b[0;34m\u001b[0m\u001b[0;34m\u001b[0m\u001b[0m\n\u001b[1;32m    177\u001b[0m                 \u001b[0;32mtry\u001b[0m\u001b[0;34m:\u001b[0m\u001b[0;34m\u001b[0m\u001b[0;34m\u001b[0m\u001b[0m\n\u001b[0;32m--> 178\u001b[0;31m                     \u001b[0mresult\u001b[0m \u001b[0;34m=\u001b[0m \u001b[0mself\u001b[0m\u001b[0;34m.\u001b[0m\u001b[0mdomain\u001b[0m\u001b[0;34m.\u001b[0m\u001b[0mevaluate\u001b[0m\u001b[0;34m(\u001b[0m\u001b[0mspec\u001b[0m\u001b[0;34m,\u001b[0m \u001b[0mctrl\u001b[0m\u001b[0;34m)\u001b[0m\u001b[0;34m\u001b[0m\u001b[0;34m\u001b[0m\u001b[0m\n\u001b[0m\u001b[1;32m    179\u001b[0m                 \u001b[0;32mexcept\u001b[0m \u001b[0mException\u001b[0m \u001b[0;32mas\u001b[0m \u001b[0me\u001b[0m\u001b[0;34m:\u001b[0m\u001b[0;34m\u001b[0m\u001b[0;34m\u001b[0m\u001b[0m\n\u001b[1;32m    180\u001b[0m                     \u001b[0mlogger\u001b[0m\u001b[0;34m.\u001b[0m\u001b[0merror\u001b[0m\u001b[0;34m(\u001b[0m\u001b[0;34m\"job exception: %s\"\u001b[0m \u001b[0;34m%\u001b[0m \u001b[0mstr\u001b[0m\u001b[0;34m(\u001b[0m\u001b[0me\u001b[0m\u001b[0;34m)\u001b[0m\u001b[0;34m)\u001b[0m\u001b[0;34m\u001b[0m\u001b[0;34m\u001b[0m\u001b[0m\n",
      "\u001b[0;32m/opt/homebrew/lib/python3.9/site-packages/hyperopt/base.py\u001b[0m in \u001b[0;36mevaluate\u001b[0;34m(self, config, ctrl, attach_attachments)\u001b[0m\n\u001b[1;32m    890\u001b[0m                 \u001b[0mprint_node_on_error\u001b[0m\u001b[0;34m=\u001b[0m\u001b[0mself\u001b[0m\u001b[0;34m.\u001b[0m\u001b[0mrec_eval_print_node_on_error\u001b[0m\u001b[0;34m,\u001b[0m\u001b[0;34m\u001b[0m\u001b[0;34m\u001b[0m\u001b[0m\n\u001b[1;32m    891\u001b[0m             )\n\u001b[0;32m--> 892\u001b[0;31m             \u001b[0mrval\u001b[0m \u001b[0;34m=\u001b[0m \u001b[0mself\u001b[0m\u001b[0;34m.\u001b[0m\u001b[0mfn\u001b[0m\u001b[0;34m(\u001b[0m\u001b[0mpyll_rval\u001b[0m\u001b[0;34m)\u001b[0m\u001b[0;34m\u001b[0m\u001b[0;34m\u001b[0m\u001b[0m\n\u001b[0m\u001b[1;32m    893\u001b[0m \u001b[0;34m\u001b[0m\u001b[0m\n\u001b[1;32m    894\u001b[0m         \u001b[0;32mif\u001b[0m \u001b[0misinstance\u001b[0m\u001b[0;34m(\u001b[0m\u001b[0mrval\u001b[0m\u001b[0;34m,\u001b[0m \u001b[0;34m(\u001b[0m\u001b[0mfloat\u001b[0m\u001b[0;34m,\u001b[0m \u001b[0mint\u001b[0m\u001b[0;34m,\u001b[0m \u001b[0mnp\u001b[0m\u001b[0;34m.\u001b[0m\u001b[0mnumber\u001b[0m\u001b[0;34m)\u001b[0m\u001b[0;34m)\u001b[0m\u001b[0;34m:\u001b[0m\u001b[0;34m\u001b[0m\u001b[0;34m\u001b[0m\u001b[0m\n",
      "\u001b[0;32m/var/folders/4j/39ff5pxx58bg64js9q9f_yy80000gn/T/ipykernel_20001/3954254334.py\u001b[0m in \u001b[0;36mobjective\u001b[0;34m(args)\u001b[0m\n\u001b[1;32m      1\u001b[0m \u001b[0;32mdef\u001b[0m \u001b[0mobjective\u001b[0m\u001b[0;34m(\u001b[0m\u001b[0margs\u001b[0m\u001b[0;34m)\u001b[0m\u001b[0;34m:\u001b[0m\u001b[0;34m\u001b[0m\u001b[0;34m\u001b[0m\u001b[0m\n\u001b[1;32m      2\u001b[0m     \u001b[0mlogger\u001b[0m\u001b[0;34m.\u001b[0m\u001b[0minfo\u001b[0m\u001b[0;34m(\u001b[0m\u001b[0margs\u001b[0m\u001b[0;34m)\u001b[0m\u001b[0;34m\u001b[0m\u001b[0;34m\u001b[0m\u001b[0m\n\u001b[0;32m----> 3\u001b[0;31m     \u001b[0mrunner\u001b[0m\u001b[0;34m.\u001b[0m\u001b[0mtrain\u001b[0m\u001b[0;34m(\u001b[0m\u001b[0mX\u001b[0m\u001b[0;34m,\u001b[0m \u001b[0my\u001b[0m\u001b[0;34m,\u001b[0m \u001b[0margs\u001b[0m\u001b[0;34m,\u001b[0m \u001b[0mtrain_params\u001b[0m\u001b[0;34m)\u001b[0m\u001b[0;34m\u001b[0m\u001b[0;34m\u001b[0m\u001b[0m\n\u001b[0m\u001b[1;32m      4\u001b[0m     \u001b[0;32mreturn\u001b[0m \u001b[0mrunner\u001b[0m\u001b[0;34m.\u001b[0m\u001b[0mget_score\u001b[0m\u001b[0;34m(\u001b[0m\u001b[0;34m)\u001b[0m\u001b[0;34m\u001b[0m\u001b[0;34m\u001b[0m\u001b[0m\n",
      "\u001b[0;32m~/workspace/tabular-playground-series-dec-2021/code/runner.py\u001b[0m in \u001b[0;36mtrain\u001b[0;34m(self, X, y, params, train_params)\u001b[0m\n\u001b[1;32m     15\u001b[0m             \u001b[0mX_tr\u001b[0m\u001b[0;34m,\u001b[0m \u001b[0my_tr\u001b[0m \u001b[0;34m=\u001b[0m \u001b[0mX\u001b[0m\u001b[0;34m.\u001b[0m\u001b[0miloc\u001b[0m\u001b[0;34m[\u001b[0m\u001b[0mtr_idx\u001b[0m\u001b[0;34m]\u001b[0m\u001b[0;34m,\u001b[0m \u001b[0my\u001b[0m\u001b[0;34m.\u001b[0m\u001b[0miloc\u001b[0m\u001b[0;34m[\u001b[0m\u001b[0mtr_idx\u001b[0m\u001b[0;34m]\u001b[0m\u001b[0;34m\u001b[0m\u001b[0;34m\u001b[0m\u001b[0m\n\u001b[1;32m     16\u001b[0m             \u001b[0mX_va\u001b[0m\u001b[0;34m,\u001b[0m \u001b[0my_va\u001b[0m \u001b[0;34m=\u001b[0m \u001b[0mX\u001b[0m\u001b[0;34m.\u001b[0m\u001b[0miloc\u001b[0m\u001b[0;34m[\u001b[0m\u001b[0mva_idx\u001b[0m\u001b[0;34m]\u001b[0m\u001b[0;34m,\u001b[0m \u001b[0my\u001b[0m\u001b[0;34m.\u001b[0m\u001b[0miloc\u001b[0m\u001b[0;34m[\u001b[0m\u001b[0mva_idx\u001b[0m\u001b[0;34m]\u001b[0m\u001b[0;34m\u001b[0m\u001b[0;34m\u001b[0m\u001b[0m\n\u001b[0;32m---> 17\u001b[0;31m             \u001b[0mmodel\u001b[0m\u001b[0;34m.\u001b[0m\u001b[0mtrain\u001b[0m\u001b[0;34m(\u001b[0m\u001b[0mX_tr\u001b[0m\u001b[0;34m,\u001b[0m \u001b[0my_tr\u001b[0m\u001b[0;34m,\u001b[0m \u001b[0mX_va\u001b[0m\u001b[0;34m,\u001b[0m \u001b[0my_va\u001b[0m\u001b[0;34m,\u001b[0m \u001b[0mparams\u001b[0m\u001b[0;34m,\u001b[0m \u001b[0mtrain_params\u001b[0m\u001b[0;34m)\u001b[0m\u001b[0;34m\u001b[0m\u001b[0;34m\u001b[0m\u001b[0m\n\u001b[0m\u001b[1;32m     18\u001b[0m \u001b[0;34m\u001b[0m\u001b[0m\n\u001b[1;32m     19\u001b[0m     \u001b[0;32mdef\u001b[0m \u001b[0mpredict\u001b[0m\u001b[0;34m(\u001b[0m\u001b[0mself\u001b[0m\u001b[0;34m,\u001b[0m \u001b[0mX\u001b[0m\u001b[0;34m)\u001b[0m\u001b[0;34m:\u001b[0m\u001b[0;34m\u001b[0m\u001b[0;34m\u001b[0m\u001b[0m\n",
      "\u001b[0;32m~/workspace/tabular-playground-series-dec-2021/code/model_lgb.py\u001b[0m in \u001b[0;36mtrain\u001b[0;34m(self, X_tr, y_tr, X_va, y_va, params, train_params)\u001b[0m\n\u001b[1;32m      9\u001b[0m         \u001b[0mlgb_train\u001b[0m \u001b[0;34m=\u001b[0m \u001b[0mlgb\u001b[0m\u001b[0;34m.\u001b[0m\u001b[0mDataset\u001b[0m\u001b[0;34m(\u001b[0m\u001b[0mX_tr\u001b[0m\u001b[0;34m,\u001b[0m \u001b[0my_tr\u001b[0m\u001b[0;34m)\u001b[0m\u001b[0;34m\u001b[0m\u001b[0;34m\u001b[0m\u001b[0m\n\u001b[1;32m     10\u001b[0m         \u001b[0mlgb_val\u001b[0m \u001b[0;34m=\u001b[0m \u001b[0mlgb\u001b[0m\u001b[0;34m.\u001b[0m\u001b[0mDataset\u001b[0m\u001b[0;34m(\u001b[0m\u001b[0mX_va\u001b[0m\u001b[0;34m,\u001b[0m \u001b[0my_va\u001b[0m\u001b[0;34m,\u001b[0m \u001b[0mreference\u001b[0m\u001b[0;34m=\u001b[0m\u001b[0mlgb_train\u001b[0m\u001b[0;34m)\u001b[0m\u001b[0;34m\u001b[0m\u001b[0;34m\u001b[0m\u001b[0m\n\u001b[0;32m---> 11\u001b[0;31m         self.model = lgb.train(\n\u001b[0m\u001b[1;32m     12\u001b[0m             \u001b[0mparams\u001b[0m\u001b[0;34m,\u001b[0m\u001b[0;34m\u001b[0m\u001b[0;34m\u001b[0m\u001b[0m\n\u001b[1;32m     13\u001b[0m             \u001b[0mlgb_train\u001b[0m\u001b[0;34m,\u001b[0m\u001b[0;34m\u001b[0m\u001b[0;34m\u001b[0m\u001b[0m\n",
      "\u001b[0;32m/opt/homebrew/lib/python3.9/site-packages/lightgbm/engine.py\u001b[0m in \u001b[0;36mtrain\u001b[0;34m(params, train_set, num_boost_round, valid_sets, valid_names, fobj, feval, init_model, feature_name, categorical_feature, early_stopping_rounds, evals_result, verbose_eval, learning_rates, keep_training_booster, callbacks)\u001b[0m\n\u001b[1;32m    296\u001b[0m         \u001b[0;32mif\u001b[0m \u001b[0mvalid_sets\u001b[0m \u001b[0;32mis\u001b[0m \u001b[0;32mnot\u001b[0m \u001b[0;32mNone\u001b[0m\u001b[0;34m:\u001b[0m\u001b[0;34m\u001b[0m\u001b[0;34m\u001b[0m\u001b[0m\n\u001b[1;32m    297\u001b[0m             \u001b[0;32mif\u001b[0m \u001b[0mis_valid_contain_train\u001b[0m\u001b[0;34m:\u001b[0m\u001b[0;34m\u001b[0m\u001b[0;34m\u001b[0m\u001b[0m\n\u001b[0;32m--> 298\u001b[0;31m                 \u001b[0mevaluation_result_list\u001b[0m\u001b[0;34m.\u001b[0m\u001b[0mextend\u001b[0m\u001b[0;34m(\u001b[0m\u001b[0mbooster\u001b[0m\u001b[0;34m.\u001b[0m\u001b[0meval_train\u001b[0m\u001b[0;34m(\u001b[0m\u001b[0mfeval\u001b[0m\u001b[0;34m)\u001b[0m\u001b[0;34m)\u001b[0m\u001b[0;34m\u001b[0m\u001b[0;34m\u001b[0m\u001b[0m\n\u001b[0m\u001b[1;32m    299\u001b[0m             \u001b[0mevaluation_result_list\u001b[0m\u001b[0;34m.\u001b[0m\u001b[0mextend\u001b[0m\u001b[0;34m(\u001b[0m\u001b[0mbooster\u001b[0m\u001b[0;34m.\u001b[0m\u001b[0meval_valid\u001b[0m\u001b[0;34m(\u001b[0m\u001b[0mfeval\u001b[0m\u001b[0;34m)\u001b[0m\u001b[0;34m)\u001b[0m\u001b[0;34m\u001b[0m\u001b[0;34m\u001b[0m\u001b[0m\n\u001b[1;32m    300\u001b[0m         \u001b[0;32mtry\u001b[0m\u001b[0;34m:\u001b[0m\u001b[0;34m\u001b[0m\u001b[0;34m\u001b[0m\u001b[0m\n",
      "\u001b[0;32m/opt/homebrew/lib/python3.9/site-packages/lightgbm/basic.py\u001b[0m in \u001b[0;36meval_train\u001b[0;34m(self, feval)\u001b[0m\n\u001b[1;32m   3236\u001b[0m             \u001b[0mList\u001b[0m \u001b[0;32mwith\u001b[0m \u001b[0mevaluation\u001b[0m \u001b[0mresults\u001b[0m\u001b[0;34m.\u001b[0m\u001b[0;34m\u001b[0m\u001b[0;34m\u001b[0m\u001b[0m\n\u001b[1;32m   3237\u001b[0m         \"\"\"\n\u001b[0;32m-> 3238\u001b[0;31m         \u001b[0;32mreturn\u001b[0m \u001b[0mself\u001b[0m\u001b[0;34m.\u001b[0m\u001b[0m__inner_eval\u001b[0m\u001b[0;34m(\u001b[0m\u001b[0mself\u001b[0m\u001b[0;34m.\u001b[0m\u001b[0m_train_data_name\u001b[0m\u001b[0;34m,\u001b[0m \u001b[0;36m0\u001b[0m\u001b[0;34m,\u001b[0m \u001b[0mfeval\u001b[0m\u001b[0;34m)\u001b[0m\u001b[0;34m\u001b[0m\u001b[0;34m\u001b[0m\u001b[0m\n\u001b[0m\u001b[1;32m   3239\u001b[0m \u001b[0;34m\u001b[0m\u001b[0m\n\u001b[1;32m   3240\u001b[0m     \u001b[0;32mdef\u001b[0m \u001b[0meval_valid\u001b[0m\u001b[0;34m(\u001b[0m\u001b[0mself\u001b[0m\u001b[0;34m,\u001b[0m \u001b[0mfeval\u001b[0m\u001b[0;34m=\u001b[0m\u001b[0;32mNone\u001b[0m\u001b[0;34m)\u001b[0m\u001b[0;34m:\u001b[0m\u001b[0;34m\u001b[0m\u001b[0;34m\u001b[0m\u001b[0m\n",
      "\u001b[0;32m/opt/homebrew/lib/python3.9/site-packages/lightgbm/basic.py\u001b[0m in \u001b[0;36m__inner_eval\u001b[0;34m(self, data_name, data_idx, feval)\u001b[0m\n\u001b[1;32m   3787\u001b[0m             \u001b[0mresult\u001b[0m \u001b[0;34m=\u001b[0m \u001b[0mnp\u001b[0m\u001b[0;34m.\u001b[0m\u001b[0mempty\u001b[0m\u001b[0;34m(\u001b[0m\u001b[0mself\u001b[0m\u001b[0;34m.\u001b[0m\u001b[0m__num_inner_eval\u001b[0m\u001b[0;34m,\u001b[0m \u001b[0mdtype\u001b[0m\u001b[0;34m=\u001b[0m\u001b[0mnp\u001b[0m\u001b[0;34m.\u001b[0m\u001b[0mfloat64\u001b[0m\u001b[0;34m)\u001b[0m\u001b[0;34m\u001b[0m\u001b[0;34m\u001b[0m\u001b[0m\n\u001b[1;32m   3788\u001b[0m             \u001b[0mtmp_out_len\u001b[0m \u001b[0;34m=\u001b[0m \u001b[0mctypes\u001b[0m\u001b[0;34m.\u001b[0m\u001b[0mc_int\u001b[0m\u001b[0;34m(\u001b[0m\u001b[0;36m0\u001b[0m\u001b[0;34m)\u001b[0m\u001b[0;34m\u001b[0m\u001b[0;34m\u001b[0m\u001b[0m\n\u001b[0;32m-> 3789\u001b[0;31m             _safe_call(_LIB.LGBM_BoosterGetEval(\n\u001b[0m\u001b[1;32m   3790\u001b[0m                 \u001b[0mself\u001b[0m\u001b[0;34m.\u001b[0m\u001b[0mhandle\u001b[0m\u001b[0;34m,\u001b[0m\u001b[0;34m\u001b[0m\u001b[0;34m\u001b[0m\u001b[0m\n\u001b[1;32m   3791\u001b[0m                 \u001b[0mctypes\u001b[0m\u001b[0;34m.\u001b[0m\u001b[0mc_int\u001b[0m\u001b[0;34m(\u001b[0m\u001b[0mdata_idx\u001b[0m\u001b[0;34m)\u001b[0m\u001b[0;34m,\u001b[0m\u001b[0;34m\u001b[0m\u001b[0;34m\u001b[0m\u001b[0m\n",
      "\u001b[0;31mKeyboardInterrupt\u001b[0m: "
     ]
    }
   ],
   "source": [
    "best = fmin(fn=objective, space=space, algo=tpe.suggest, max_evals=20)\n",
    "best_params = space_eval(space, best)\n",
    "logger.info(\"best params: {}\".format(best_params))"
   ]
  },
  {
   "cell_type": "markdown",
   "id": "bfa4545a-8cb4-40cf-8eea-1478e43f2f2b",
   "metadata": {},
   "source": [
    "# Inference"
   ]
  },
  {
   "cell_type": "code",
   "execution_count": 27,
   "id": "43cc9a29-ed85-4167-8919-06a59931fd01",
   "metadata": {},
   "outputs": [
    {
     "name": "stderr",
     "output_type": "stream",
     "text": [
      "/Users/g-ogaki/miniforge3/lib/python3.9/site-packages/sklearn/model_selection/_split.py:676: UserWarning: The least populated class in y has only 1 members, which is less than n_splits=5.\n",
      "  warnings.warn(\n",
      "/Users/g-ogaki/miniforge3/lib/python3.9/site-packages/lightgbm/engine.py:181: UserWarning: 'early_stopping_rounds' argument is deprecated and will be removed in a future release of LightGBM. Pass 'early_stopping()' callback via 'callbacks' argument instead.\n",
      "  _log_warning(\"'early_stopping_rounds' argument is deprecated and will be removed in a future release of LightGBM. \"\n",
      "/Users/g-ogaki/miniforge3/lib/python3.9/site-packages/lightgbm/engine.py:239: UserWarning: 'verbose_eval' argument is deprecated and will be removed in a future release of LightGBM. Pass 'log_evaluation()' callback via 'callbacks' argument instead.\n",
      "  _log_warning(\"'verbose_eval' argument is deprecated and will be removed in a future release of LightGBM. \"\n"
     ]
    },
    {
     "name": "stdout",
     "output_type": "stream",
     "text": [
      "Training until validation scores don't improve for 20 rounds\n",
      "[50]\ttraining's multi_logloss: 0.405179\ttraining's multi_error: 0.0626447\tvalid_1's multi_logloss: 0.406004\tvalid_1's multi_error: 0.062955\n",
      "[100]\ttraining's multi_logloss: 0.247238\ttraining's multi_error: 0.0526416\tvalid_1's multi_logloss: 0.248429\tvalid_1's multi_error: 0.052965\n",
      "[150]\ttraining's multi_logloss: 0.174903\ttraining's multi_error: 0.0480084\tvalid_1's multi_logloss: 0.176429\tvalid_1's multi_error: 0.04846\n",
      "[200]\ttraining's multi_logloss: 0.139593\ttraining's multi_error: 0.0454534\tvalid_1's multi_logloss: 0.141366\tvalid_1's multi_error: 0.0460663\n",
      "[250]\ttraining's multi_logloss: 0.120175\ttraining's multi_error: 0.0434544\tvalid_1's multi_logloss: 0.122174\tvalid_1's multi_error: 0.04424\n",
      "[300]\ttraining's multi_logloss: 0.109027\ttraining's multi_error: 0.0419037\tvalid_1's multi_logloss: 0.111231\tvalid_1's multi_error: 0.04279\n"
     ]
    },
    {
     "ename": "KeyboardInterrupt",
     "evalue": "",
     "output_type": "error",
     "traceback": [
      "\u001b[0;31m---------------------------------------------------------------------------\u001b[0m",
      "\u001b[0;31mKeyboardInterrupt\u001b[0m                         Traceback (most recent call last)",
      "\u001b[0;32m/var/folders/4j/39ff5pxx58bg64js9q9f_yy80000gn/T/ipykernel_25941/4192495251.py\u001b[0m in \u001b[0;36m<module>\u001b[0;34m\u001b[0m\n\u001b[1;32m      1\u001b[0m \u001b[0mrunner\u001b[0m \u001b[0;34m=\u001b[0m \u001b[0mRunner\u001b[0m\u001b[0;34m(\u001b[0m\u001b[0mPROJECT_NAME\u001b[0m\u001b[0;34m,\u001b[0m \u001b[0mModelLGB\u001b[0m\u001b[0;34m,\u001b[0m \u001b[0mcv\u001b[0m\u001b[0;34m=\u001b[0m\u001b[0;32mFalse\u001b[0m\u001b[0;34m)\u001b[0m\u001b[0;34m\u001b[0m\u001b[0;34m\u001b[0m\u001b[0m\n\u001b[0;32m----> 2\u001b[0;31m \u001b[0mrunner\u001b[0m\u001b[0;34m.\u001b[0m\u001b[0mtrain\u001b[0m\u001b[0;34m(\u001b[0m\u001b[0mX_train\u001b[0m\u001b[0;34m,\u001b[0m \u001b[0my_train\u001b[0m\u001b[0;34m,\u001b[0m \u001b[0mparams\u001b[0m\u001b[0;34m,\u001b[0m \u001b[0mtrain_params\u001b[0m\u001b[0;34m)\u001b[0m\u001b[0;34m\u001b[0m\u001b[0;34m\u001b[0m\u001b[0m\n\u001b[0m",
      "\u001b[0;32m~/workspace/kaggle-tabular-playground-series-dec-2021/code/runner.py\u001b[0m in \u001b[0;36mtrain\u001b[0;34m(self, X, y, params, train_params)\u001b[0m\n\u001b[1;32m     15\u001b[0m             \u001b[0mX_tr\u001b[0m\u001b[0;34m,\u001b[0m \u001b[0my_tr\u001b[0m \u001b[0;34m=\u001b[0m \u001b[0mX\u001b[0m\u001b[0;34m.\u001b[0m\u001b[0miloc\u001b[0m\u001b[0;34m[\u001b[0m\u001b[0mtr_idx\u001b[0m\u001b[0;34m]\u001b[0m\u001b[0;34m,\u001b[0m \u001b[0my\u001b[0m\u001b[0;34m.\u001b[0m\u001b[0miloc\u001b[0m\u001b[0;34m[\u001b[0m\u001b[0mtr_idx\u001b[0m\u001b[0;34m]\u001b[0m\u001b[0;34m\u001b[0m\u001b[0;34m\u001b[0m\u001b[0m\n\u001b[1;32m     16\u001b[0m             \u001b[0mX_va\u001b[0m\u001b[0;34m,\u001b[0m \u001b[0my_va\u001b[0m \u001b[0;34m=\u001b[0m \u001b[0mX\u001b[0m\u001b[0;34m.\u001b[0m\u001b[0miloc\u001b[0m\u001b[0;34m[\u001b[0m\u001b[0mva_idx\u001b[0m\u001b[0;34m]\u001b[0m\u001b[0;34m,\u001b[0m \u001b[0my\u001b[0m\u001b[0;34m.\u001b[0m\u001b[0miloc\u001b[0m\u001b[0;34m[\u001b[0m\u001b[0mva_idx\u001b[0m\u001b[0;34m]\u001b[0m\u001b[0;34m\u001b[0m\u001b[0;34m\u001b[0m\u001b[0m\n\u001b[0;32m---> 17\u001b[0;31m             \u001b[0mmodel\u001b[0m\u001b[0;34m.\u001b[0m\u001b[0mtrain\u001b[0m\u001b[0;34m(\u001b[0m\u001b[0mX_tr\u001b[0m\u001b[0;34m,\u001b[0m \u001b[0my_tr\u001b[0m\u001b[0;34m,\u001b[0m \u001b[0mX_va\u001b[0m\u001b[0;34m,\u001b[0m \u001b[0my_va\u001b[0m\u001b[0;34m,\u001b[0m \u001b[0mparams\u001b[0m\u001b[0;34m,\u001b[0m \u001b[0mtrain_params\u001b[0m\u001b[0;34m)\u001b[0m\u001b[0;34m\u001b[0m\u001b[0;34m\u001b[0m\u001b[0m\n\u001b[0m\u001b[1;32m     18\u001b[0m \u001b[0;34m\u001b[0m\u001b[0m\n\u001b[1;32m     19\u001b[0m     \u001b[0;32mdef\u001b[0m \u001b[0mpredict\u001b[0m\u001b[0;34m(\u001b[0m\u001b[0mself\u001b[0m\u001b[0;34m,\u001b[0m \u001b[0mX\u001b[0m\u001b[0;34m)\u001b[0m\u001b[0;34m:\u001b[0m\u001b[0;34m\u001b[0m\u001b[0;34m\u001b[0m\u001b[0m\n",
      "\u001b[0;32m~/workspace/kaggle-tabular-playground-series-dec-2021/code/model_lgb.py\u001b[0m in \u001b[0;36mtrain\u001b[0;34m(self, X_tr, y_tr, X_va, y_va, params, train_params)\u001b[0m\n\u001b[1;32m      9\u001b[0m         \u001b[0mlgb_train\u001b[0m \u001b[0;34m=\u001b[0m \u001b[0mlgb\u001b[0m\u001b[0;34m.\u001b[0m\u001b[0mDataset\u001b[0m\u001b[0;34m(\u001b[0m\u001b[0mX_tr\u001b[0m\u001b[0;34m,\u001b[0m \u001b[0my_tr\u001b[0m\u001b[0;34m)\u001b[0m\u001b[0;34m\u001b[0m\u001b[0;34m\u001b[0m\u001b[0m\n\u001b[1;32m     10\u001b[0m         \u001b[0mlgb_val\u001b[0m \u001b[0;34m=\u001b[0m \u001b[0mlgb\u001b[0m\u001b[0;34m.\u001b[0m\u001b[0mDataset\u001b[0m\u001b[0;34m(\u001b[0m\u001b[0mX_va\u001b[0m\u001b[0;34m,\u001b[0m \u001b[0my_va\u001b[0m\u001b[0;34m,\u001b[0m \u001b[0mreference\u001b[0m\u001b[0;34m=\u001b[0m\u001b[0mlgb_train\u001b[0m\u001b[0;34m)\u001b[0m\u001b[0;34m\u001b[0m\u001b[0;34m\u001b[0m\u001b[0m\n\u001b[0;32m---> 11\u001b[0;31m         self.model = lgb.train(\n\u001b[0m\u001b[1;32m     12\u001b[0m             \u001b[0mparams\u001b[0m\u001b[0;34m,\u001b[0m\u001b[0;34m\u001b[0m\u001b[0;34m\u001b[0m\u001b[0m\n\u001b[1;32m     13\u001b[0m             \u001b[0mlgb_train\u001b[0m\u001b[0;34m,\u001b[0m\u001b[0;34m\u001b[0m\u001b[0;34m\u001b[0m\u001b[0m\n",
      "\u001b[0;32m~/miniforge3/lib/python3.9/site-packages/lightgbm/engine.py\u001b[0m in \u001b[0;36mtrain\u001b[0;34m(params, train_set, num_boost_round, valid_sets, valid_names, fobj, feval, init_model, feature_name, categorical_feature, early_stopping_rounds, evals_result, verbose_eval, learning_rates, keep_training_booster, callbacks)\u001b[0m\n\u001b[1;32m    290\u001b[0m                                     evaluation_result_list=None))\n\u001b[1;32m    291\u001b[0m \u001b[0;34m\u001b[0m\u001b[0m\n\u001b[0;32m--> 292\u001b[0;31m         \u001b[0mbooster\u001b[0m\u001b[0;34m.\u001b[0m\u001b[0mupdate\u001b[0m\u001b[0;34m(\u001b[0m\u001b[0mfobj\u001b[0m\u001b[0;34m=\u001b[0m\u001b[0mfobj\u001b[0m\u001b[0;34m)\u001b[0m\u001b[0;34m\u001b[0m\u001b[0;34m\u001b[0m\u001b[0m\n\u001b[0m\u001b[1;32m    293\u001b[0m \u001b[0;34m\u001b[0m\u001b[0m\n\u001b[1;32m    294\u001b[0m         \u001b[0mevaluation_result_list\u001b[0m \u001b[0;34m=\u001b[0m \u001b[0;34m[\u001b[0m\u001b[0;34m]\u001b[0m\u001b[0;34m\u001b[0m\u001b[0;34m\u001b[0m\u001b[0m\n",
      "\u001b[0;32m~/miniforge3/lib/python3.9/site-packages/lightgbm/basic.py\u001b[0m in \u001b[0;36mupdate\u001b[0;34m(self, train_set, fobj)\u001b[0m\n\u001b[1;32m   3019\u001b[0m             \u001b[0;32mif\u001b[0m \u001b[0mself\u001b[0m\u001b[0;34m.\u001b[0m\u001b[0m__set_objective_to_none\u001b[0m\u001b[0;34m:\u001b[0m\u001b[0;34m\u001b[0m\u001b[0;34m\u001b[0m\u001b[0m\n\u001b[1;32m   3020\u001b[0m                 \u001b[0;32mraise\u001b[0m \u001b[0mLightGBMError\u001b[0m\u001b[0;34m(\u001b[0m\u001b[0;34m'Cannot update due to null objective function.'\u001b[0m\u001b[0;34m)\u001b[0m\u001b[0;34m\u001b[0m\u001b[0;34m\u001b[0m\u001b[0m\n\u001b[0;32m-> 3021\u001b[0;31m             _safe_call(_LIB.LGBM_BoosterUpdateOneIter(\n\u001b[0m\u001b[1;32m   3022\u001b[0m                 \u001b[0mself\u001b[0m\u001b[0;34m.\u001b[0m\u001b[0mhandle\u001b[0m\u001b[0;34m,\u001b[0m\u001b[0;34m\u001b[0m\u001b[0;34m\u001b[0m\u001b[0m\n\u001b[1;32m   3023\u001b[0m                 ctypes.byref(is_finished)))\n",
      "\u001b[0;31mKeyboardInterrupt\u001b[0m: "
     ]
    }
   ],
   "source": [
    "runner = Runner(PROJECT_NAME, ModelLGB, cv=False)\n",
    "runner.train(X_train, y_train, params, train_params)"
   ]
  },
  {
   "cell_type": "code",
   "execution_count": 18,
   "id": "6011f8f1-1923-4c28-bddf-a79b244eb645",
   "metadata": {},
   "outputs": [
    {
     "data": {
      "text/plain": [
       "Elevation                             2.014181e+08\n",
       "Horizontal_Distance_To_Fire_Points    1.101882e+07\n",
       "class_Wilderness                      1.071024e+07\n",
       "Horizontal_Distance_To_Roadways       8.949070e+06\n",
       "diff_roadways_and_hydrology           8.404024e+06\n",
       "                                          ...     \n",
       "Soil_Type8                            2.526067e+03\n",
       "Soil_Type24                           1.623509e+03\n",
       "Soil_Type31                           9.902597e+02\n",
       "Soil_Type36                           6.210947e+02\n",
       "Soil_Type37                           5.131047e+02\n",
       "Length: 63, dtype: float64"
      ]
     },
     "execution_count": 18,
     "metadata": {},
     "output_type": "execute_result"
    }
   ],
   "source": [
    "runner.model.feature_importance_"
   ]
  },
  {
   "cell_type": "code",
   "execution_count": 19,
   "id": "c6a868f6-d019-4fad-8f27-d5a66dc29af5",
   "metadata": {},
   "outputs": [
    {
     "name": "stderr",
     "output_type": "stream",
     "text": [
      "2022/01/01 20:16:30 45 [INFO] [prediction] start.\n",
      "2022/01/01 20:17:59 47 [INFO] [prediction] done in 89.642 seconds.\n"
     ]
    },
    {
     "data": {
      "text/plain": [
       "array([[1.73290468e-05, 9.99924988e-01, 5.57017763e-05, ...,\n",
       "        3.20607796e-09, 1.49525885e-06, 4.78405098e-07],\n",
       "       [1.24256746e-02, 9.87516863e-01, 3.79437246e-05, ...,\n",
       "        2.93377036e-08, 1.50154787e-05, 4.41724903e-06],\n",
       "       [1.72194133e-03, 9.98270213e-01, 6.53144235e-06, ...,\n",
       "        6.06677518e-09, 2.60305567e-07, 1.04040315e-06],\n",
       "       ...,\n",
       "       [7.08213448e-05, 9.99846440e-01, 7.69965966e-05, ...,\n",
       "        6.34173483e-09, 4.35646054e-06, 1.37344717e-06],\n",
       "       [9.99407545e-01, 3.63570410e-04, 2.45181337e-06, ...,\n",
       "        9.53347746e-09, 4.69723113e-07, 2.25940174e-04],\n",
       "       [1.13394273e-04, 1.60790018e-01, 8.38888754e-01, ...,\n",
       "        2.99428124e-08, 2.02644105e-04, 5.12790331e-06]])"
      ]
     },
     "execution_count": 19,
     "metadata": {},
     "output_type": "execute_result"
    }
   ],
   "source": [
    "with timer(\"prediction\", logger):\n",
    "    prob = runner.predict(X_test)\n",
    "prob"
   ]
  },
  {
   "cell_type": "code",
   "execution_count": 20,
   "id": "d25ca66a-ee11-42b0-837e-fce68f562b78",
   "metadata": {},
   "outputs": [
    {
     "data": {
      "text/html": [
       "<div>\n",
       "<style scoped>\n",
       "    .dataframe tbody tr th:only-of-type {\n",
       "        vertical-align: middle;\n",
       "    }\n",
       "\n",
       "    .dataframe tbody tr th {\n",
       "        vertical-align: top;\n",
       "    }\n",
       "\n",
       "    .dataframe thead th {\n",
       "        text-align: right;\n",
       "    }\n",
       "</style>\n",
       "<table border=\"1\" class=\"dataframe\">\n",
       "  <thead>\n",
       "    <tr style=\"text-align: right;\">\n",
       "      <th></th>\n",
       "      <th>Id</th>\n",
       "      <th>Cover_Type</th>\n",
       "    </tr>\n",
       "  </thead>\n",
       "  <tbody>\n",
       "    <tr>\n",
       "      <th>0</th>\n",
       "      <td>4000000</td>\n",
       "      <td>2</td>\n",
       "    </tr>\n",
       "    <tr>\n",
       "      <th>1</th>\n",
       "      <td>4000001</td>\n",
       "      <td>2</td>\n",
       "    </tr>\n",
       "    <tr>\n",
       "      <th>2</th>\n",
       "      <td>4000002</td>\n",
       "      <td>2</td>\n",
       "    </tr>\n",
       "    <tr>\n",
       "      <th>3</th>\n",
       "      <td>4000003</td>\n",
       "      <td>2</td>\n",
       "    </tr>\n",
       "    <tr>\n",
       "      <th>4</th>\n",
       "      <td>4000004</td>\n",
       "      <td>2</td>\n",
       "    </tr>\n",
       "    <tr>\n",
       "      <th>...</th>\n",
       "      <td>...</td>\n",
       "      <td>...</td>\n",
       "    </tr>\n",
       "    <tr>\n",
       "      <th>999995</th>\n",
       "      <td>4999995</td>\n",
       "      <td>2</td>\n",
       "    </tr>\n",
       "    <tr>\n",
       "      <th>999996</th>\n",
       "      <td>4999996</td>\n",
       "      <td>1</td>\n",
       "    </tr>\n",
       "    <tr>\n",
       "      <th>999997</th>\n",
       "      <td>4999997</td>\n",
       "      <td>2</td>\n",
       "    </tr>\n",
       "    <tr>\n",
       "      <th>999998</th>\n",
       "      <td>4999998</td>\n",
       "      <td>1</td>\n",
       "    </tr>\n",
       "    <tr>\n",
       "      <th>999999</th>\n",
       "      <td>4999999</td>\n",
       "      <td>3</td>\n",
       "    </tr>\n",
       "  </tbody>\n",
       "</table>\n",
       "<p>1000000 rows × 2 columns</p>\n",
       "</div>"
      ],
      "text/plain": [
       "             Id  Cover_Type\n",
       "0       4000000           2\n",
       "1       4000001           2\n",
       "2       4000002           2\n",
       "3       4000003           2\n",
       "4       4000004           2\n",
       "...         ...         ...\n",
       "999995  4999995           2\n",
       "999996  4999996           1\n",
       "999997  4999997           2\n",
       "999998  4999998           1\n",
       "999999  4999999           3\n",
       "\n",
       "[1000000 rows x 2 columns]"
      ]
     },
     "execution_count": 20,
     "metadata": {},
     "output_type": "execute_result"
    }
   ],
   "source": [
    "res = pd.DataFrame()\n",
    "res[\"Id\"] = df_test[\"Id\"]\n",
    "res[\"Cover_Type\"] = prob.argmax(axis=1) + 1\n",
    "res.to_csv(f\"../submission/submission_{PROJECT_NAME}.csv\", index=False)\n",
    "res"
   ]
  },
  {
   "cell_type": "code",
   "execution_count": 21,
   "id": "f7672fdb-2ad7-48e7-a522-30dbe600255b",
   "metadata": {},
   "outputs": [
    {
     "name": "stdout",
     "output_type": "stream",
     "text": [
      "100%|██████████████████████████████████████| 9.54M/9.54M [00:08<00:00, 1.24MB/s]\n",
      "Successfully submitted to Tabular Playground Series - Dec 2021"
     ]
    }
   ],
   "source": [
    "!kaggle competitions submit tabular-playground-series-dec-2021 -f ../submission/submission_{PROJECT_NAME}.csv -m \"valid_1's multi_error: 0.0439975\""
   ]
  },
  {
   "cell_type": "code",
   "execution_count": null,
   "id": "7fd0ced8-b41c-4d20-9efc-3e4ab0ea38ce",
   "metadata": {},
   "outputs": [],
   "source": []
  }
 ],
 "metadata": {
  "kernelspec": {
   "display_name": "Python 3 (ipykernel)",
   "language": "python",
   "name": "python3"
  },
  "language_info": {
   "codemirror_mode": {
    "name": "ipython",
    "version": 3
   },
   "file_extension": ".py",
   "mimetype": "text/x-python",
   "name": "python",
   "nbconvert_exporter": "python",
   "pygments_lexer": "ipython3",
   "version": "3.9.7"
  },
  "toc-autonumbering": true
 },
 "nbformat": 4,
 "nbformat_minor": 5
}
