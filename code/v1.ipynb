{
 "cells": [
  {
   "cell_type": "markdown",
   "id": "d384aee7-cb4b-428c-bf64-da70d47c7f38",
   "metadata": {
    "tags": []
   },
   "source": [
    "# Kaggle"
   ]
  },
  {
   "cell_type": "code",
   "execution_count": 1,
   "id": "ea54ddd9-aad3-4d9f-8c77-87270d8d60f1",
   "metadata": {},
   "outputs": [],
   "source": [
    "import os\n",
    "import json\n",
    "\n",
    "with open(\"/Users/g-ogaki/workspace/kaggle.json\") as f:\n",
    "    json_data = json.load(f) \n",
    "    os.environ[\"KAGGLE_USERNAME\"] = json_data[\"username\"]\n",
    "    os.environ[\"KAGGLE_KEY\"] = json_data[\"key\"]"
   ]
  },
  {
   "cell_type": "code",
   "execution_count": 2,
   "id": "2418f6b2-e48f-4800-8dd9-7add791b9f9d",
   "metadata": {},
   "outputs": [
    {
     "name": "stdout",
     "output_type": "stream",
     "text": [
      "^C\n",
      "User cancelled operation\n"
     ]
    }
   ],
   "source": [
    "!kaggle competitions download -c tabular-playground-series-dec-2021"
   ]
  },
  {
   "cell_type": "code",
   "execution_count": 6,
   "id": "95ac8800-663d-41ba-975b-2f85c34e686d",
   "metadata": {},
   "outputs": [
    {
     "name": "stdout",
     "output_type": "stream",
     "text": [
      "Archive:  tabular-playground-series-dec-2021.zip\n",
      "  inflating: sample_submission.csv   \n",
      "  inflating: test.csv                \n",
      "  inflating: train.csv               \n"
     ]
    }
   ],
   "source": [
    "!unzip tabular-playground-series-dec-2021.zip"
   ]
  },
  {
   "cell_type": "markdown",
   "id": "76d8136f-94eb-4308-922f-778c6d933ca9",
   "metadata": {},
   "source": [
    "# Import"
   ]
  },
  {
   "cell_type": "code",
   "execution_count": 2,
   "id": "972b5d24-0264-46bc-aef8-be403e577db6",
   "metadata": {},
   "outputs": [
    {
     "name": "stderr",
     "output_type": "stream",
     "text": [
      "/opt/homebrew/lib/python3.9/site-packages/statsmodels/tools/_testing.py:19: FutureWarning: pandas.util.testing is deprecated. Use the functions in the public API at pandas.testing instead.\n",
      "  import pandas.util.testing as tm\n"
     ]
    }
   ],
   "source": [
    "from utils import init_logger, timer, fix_seed\n",
    "import random\n",
    "import pandas as pd\n",
    "pd.set_option('display.max_rows', 500)\n",
    "pd.set_option('display.max_columns', 500)\n",
    "import numpy as np\n",
    "import category_encoders as ce\n",
    "import matplotlib.pyplot as plt\n",
    "import datetime as dt\n",
    "from tqdm import tqdm\n",
    "from tqdm.notebook import tqdm_notebook\n",
    "tqdm_notebook.pandas(desc=\"Processing:\")\n",
    "\n",
    "fix_seed()\n",
    "logger = init_logger()"
   ]
  },
  {
   "cell_type": "code",
   "execution_count": 3,
   "id": "543c8c49-ac3f-459b-9e1a-14abb9068e90",
   "metadata": {},
   "outputs": [],
   "source": [
    "PROJECT_NAME = \"v1\""
   ]
  },
  {
   "cell_type": "markdown",
   "id": "18dcf465-00a9-4af5-a0c3-10a8ab81d29f",
   "metadata": {
    "tags": []
   },
   "source": [
    "# Load"
   ]
  },
  {
   "cell_type": "code",
   "execution_count": 4,
   "id": "c4abd8e9-2191-4f51-bd68-9ffd1f4771cf",
   "metadata": {},
   "outputs": [],
   "source": [
    "from etl import load_train_data, load_test_data"
   ]
  },
  {
   "cell_type": "code",
   "execution_count": 5,
   "id": "6bf1ac82-2cf3-4ec3-8b99-0e554d1932b9",
   "metadata": {},
   "outputs": [
    {
     "name": "stderr",
     "output_type": "stream",
     "text": [
      "2021/12/31 14:33:06 45 [INFO] [read csv] start.\n",
      "2021/12/31 14:33:16 47 [INFO] [read csv] done in 9.592 seconds.\n"
     ]
    }
   ],
   "source": [
    "with timer(\"read csv\", logger):\n",
    "    df = load_train_data()\n",
    "    df_test = load_test_data()"
   ]
  },
  {
   "cell_type": "code",
   "execution_count": 6,
   "id": "e948dca9-f964-4a48-a9c4-f74413c457ee",
   "metadata": {},
   "outputs": [],
   "source": [
    "X = df.drop([\"Id\", \"Cover_Type\"], axis=1)\n",
    "y = df[\"Cover_Type\"] - 1\n",
    "X_test = df_test.drop([\"Id\"], axis=1)"
   ]
  },
  {
   "cell_type": "markdown",
   "id": "e6c607f2-84f6-4ec0-8fb3-8800cb738cf6",
   "metadata": {
    "tags": []
   },
   "source": [
    "# Training"
   ]
  },
  {
   "cell_type": "code",
   "execution_count": 7,
   "id": "20d74fee-5ecd-48b9-a51f-df20c97b935c",
   "metadata": {},
   "outputs": [],
   "source": [
    "from model_lgb import ModelLGB\n",
    "from runner import Runner\n",
    "from hyperopt import hp, fmin, tpe, space_eval"
   ]
  },
  {
   "cell_type": "code",
   "execution_count": 8,
   "id": "fd7219ce-2a81-4f57-9d60-2f3f21beafe8",
   "metadata": {},
   "outputs": [],
   "source": [
    "runner = Runner(PROJECT_NAME, ModelLGB, cv=False)"
   ]
  },
  {
   "cell_type": "code",
   "execution_count": 9,
   "id": "823ecd1e-fb26-42a0-a27d-0a932ee91eb4",
   "metadata": {},
   "outputs": [],
   "source": [
    "space = {\n",
    "    \"objective\": \"multiclass\",\n",
    "    \"num_classes\": 7,\n",
    "    \"metric\": [\"multi_logloss\", \"multi_error\"],\n",
    "    \"max_leaves\": 30 + hp.randint(\"_max_leaves\", 40),\n",
    "    \"min_data_in_leaf\": 10 + hp.randint(\"_min_data_in_leaf\", 40),\n",
    "    \"lambda_l1\": hp.loguniform(\"lambda_l1\", np.log(0.01), np.log(1)),\n",
    "    \"lambda_l2\": hp.loguniform(\"lambda_l2\", np.log(0.01), np.log(1)),\n",
    "    \"bagging_fraction\": hp.uniform(\"bagging_fraction\", 0.7, 0.9),\n",
    "    \"feature_fraction\": hp.uniform(\"feature_fraction\", 0.7, 0.9),\n",
    "    \"learning_rate\": 0.01,\n",
    "    \"seed\": 0,\n",
    "    \"verbose\": -1,\n",
    "}\n",
    "\n",
    "train_params = {\n",
    "    \"num_boost_round\": 2000,\n",
    "    \"early_stopping_rounds\": 20,\n",
    "    \"verbose_eval\": 50,\n",
    "}"
   ]
  },
  {
   "cell_type": "code",
   "execution_count": 10,
   "id": "ee343e70-78ba-409a-818e-4902b175c3ad",
   "metadata": {},
   "outputs": [],
   "source": [
    "def objective(args):\n",
    "    logger.info(args)\n",
    "    runner.train(X, y, args, train_params)\n",
    "    return runner.get_score()"
   ]
  },
  {
   "cell_type": "code",
   "execution_count": null,
   "id": "9d0261a7-4e64-445c-b503-5cfb13ff5fcb",
   "metadata": {},
   "outputs": [
    {
     "name": "stdout",
     "output_type": "stream",
     "text": [
      "  0%|                                    | 0/20 [00:00<?, ?trial/s, best loss=?]"
     ]
    },
    {
     "name": "stderr",
     "output_type": "stream",
     "text": [
      "2021/12/31 14:33:48 2 [INFO] {'bagging_fraction': 0.8041882760340158, 'feature_fraction': 0.758404881916913, 'lambda_l1': 0.8732061538314787, 'lambda_l2': 0.02853921475938039, 'learning_rate': 0.01, 'max_leaves': 33, 'metric': ('multi_logloss', 'multi_error'), 'min_data_in_leaf': 41, 'num_classes': 7, 'objective': 'multiclass', 'seed': 0, 'verbose': -1}\n",
      "/opt/homebrew/lib/python3.9/site-packages/sklearn/model_selection/_split.py:676: UserWarning: The least populated class in y has only 1 members, which is less than n_splits=5.\n",
      "  warnings.warn(\n",
      "\n",
      "/opt/homebrew/lib/python3.9/site-packages/lightgbm/engine.py:181: UserWarning: 'early_stopping_rounds' argument is deprecated and will be removed in a future release of LightGBM. Pass 'early_stopping()' callback via 'callbacks' argument instead.\n",
      "  _log_warning(\"'early_stopping_rounds' argument is deprecated and will be removed in a future release of LightGBM. \"\n",
      "\n",
      "/opt/homebrew/lib/python3.9/site-packages/lightgbm/engine.py:239: UserWarning: 'verbose_eval' argument is deprecated and will be removed in a future release of LightGBM. Pass 'log_evaluation()' callback via 'callbacks' argument instead.\n",
      "  _log_warning(\"'verbose_eval' argument is deprecated and will be removed in a future release of LightGBM. \"\n",
      "\n"
     ]
    },
    {
     "name": "stdout",
     "output_type": "stream",
     "text": [
      "Training until validation scores don't improve for 20 rounds                    \n",
      "[50]\ttraining's multi_logloss: 0.45077\ttraining's multi_error: 0.0803313\tvalid_1's multi_logloss: 0.45129\tvalid_1's multi_error: 0.0805225\n",
      "[100]\ttraining's multi_logloss: 0.291398\ttraining's multi_error: 0.0571466\tvalid_1's multi_logloss: 0.292148\tvalid_1's multi_error: 0.0572413\n",
      "[150]\ttraining's multi_logloss: 0.209781\ttraining's multi_error: 0.0523722\tvalid_1's multi_logloss: 0.210703\tvalid_1's multi_error: 0.052405\n",
      "[200]\ttraining's multi_logloss: 0.166474\ttraining's multi_error: 0.0488456\tvalid_1's multi_logloss: 0.167547\tvalid_1's multi_error: 0.0490913\n",
      "[250]\ttraining's multi_logloss: 0.141748\ttraining's multi_error: 0.0466009\tvalid_1's multi_logloss: 0.142972\tvalid_1's multi_error: 0.0470013\n",
      "[300]\ttraining's multi_logloss: 0.12632\ttraining's multi_error: 0.04482\tvalid_1's multi_logloss: 0.127683\tvalid_1's multi_error: 0.0453975\n",
      "[350]\ttraining's multi_logloss: 0.115918\ttraining's multi_error: 0.0433262\tvalid_1's multi_logloss: 0.117416\tvalid_1's multi_error: 0.043975\n",
      "[400]\ttraining's multi_logloss: 0.10903\ttraining's multi_error: 0.0421513\tvalid_1's multi_logloss: 0.110662\tvalid_1's multi_error: 0.042775\n",
      "[450]\ttraining's multi_logloss: 0.104041\ttraining's multi_error: 0.0412812\tvalid_1's multi_logloss: 0.105801\tvalid_1's multi_error: 0.04198\n",
      "[500]\ttraining's multi_logloss: 0.100129\ttraining's multi_error: 0.0405862\tvalid_1's multi_logloss: 0.102\tvalid_1's multi_error: 0.0413263\n",
      "[550]\ttraining's multi_logloss: 0.0970984\ttraining's multi_error: 0.0400831\tvalid_1's multi_logloss: 0.0990818\tvalid_1's multi_error: 0.04071\n",
      "[600]\ttraining's multi_logloss: 0.0946216\ttraining's multi_error: 0.0396269\tvalid_1's multi_logloss: 0.0967028\tvalid_1's multi_error: 0.0404025\n",
      "[650]\ttraining's multi_logloss: 0.0926168\ttraining's multi_error: 0.0392444\tvalid_1's multi_logloss: 0.0948019\tvalid_1's multi_error: 0.0400625\n",
      "[700]\ttraining's multi_logloss: 0.0908921\ttraining's multi_error: 0.0389444\tvalid_1's multi_logloss: 0.0931708\tvalid_1's multi_error: 0.0397962\n",
      "[750]\ttraining's multi_logloss: 0.0894413\ttraining's multi_error: 0.0386803\tvalid_1's multi_logloss: 0.0918065\tvalid_1's multi_error: 0.0396325\n",
      "[800]\ttraining's multi_logloss: 0.0881558\ttraining's multi_error: 0.0384406\tvalid_1's multi_logloss: 0.0906147\tvalid_1's multi_error: 0.03949\n",
      "[850]\ttraining's multi_logloss: 0.0870281\ttraining's multi_error: 0.0382709\tvalid_1's multi_logloss: 0.0895808\tvalid_1's multi_error: 0.0393625\n",
      "[900]\ttraining's multi_logloss: 0.086031\ttraining's multi_error: 0.0380853\tvalid_1's multi_logloss: 0.0886761\tvalid_1's multi_error: 0.0392075\n",
      "[950]\ttraining's multi_logloss: 0.0851044\ttraining's multi_error: 0.0379269\tvalid_1's multi_logloss: 0.0878397\tvalid_1's multi_error: 0.0391162\n",
      "[1000]\ttraining's multi_logloss: 0.0843018\ttraining's multi_error: 0.0377613\tvalid_1's multi_logloss: 0.0871285\tvalid_1's multi_error: 0.0390363\n",
      "[1050]\ttraining's multi_logloss: 0.0835571\ttraining's multi_error: 0.0376269\tvalid_1's multi_logloss: 0.0864677\tvalid_1's multi_error: 0.038935\n",
      "[1100]\ttraining's multi_logloss: 0.0828834\ttraining's multi_error: 0.0375103\tvalid_1's multi_logloss: 0.0858821\tvalid_1's multi_error: 0.0388488\n",
      "[1150]\ttraining's multi_logloss: 0.0822596\ttraining's multi_error: 0.0374075\tvalid_1's multi_logloss: 0.0853471\tvalid_1's multi_error: 0.0387675\n",
      "[1200]\ttraining's multi_logloss: 0.0816973\ttraining's multi_error: 0.0372922\tvalid_1's multi_logloss: 0.0848749\tvalid_1's multi_error: 0.0387075\n",
      "[1250]\ttraining's multi_logloss: 0.0811862\ttraining's multi_error: 0.0371931\tvalid_1's multi_logloss: 0.0844504\tvalid_1's multi_error: 0.0386625\n",
      "[1300]\ttraining's multi_logloss: 0.0807016\ttraining's multi_error: 0.0371081\tvalid_1's multi_logloss: 0.0840541\tvalid_1's multi_error: 0.0386463\n",
      "Early stopping, best iteration is:                                              \n",
      "[1284]\ttraining's multi_logloss: 0.0808535\ttraining's multi_error: 0.0371309\tvalid_1's multi_logloss: 0.0841792\tvalid_1's multi_error: 0.038625\n",
      "  5%|▎     | 1/20 [12:57<4:06:11, 777.47s/trial, best loss: 0.08417922945802003]"
     ]
    },
    {
     "name": "stderr",
     "output_type": "stream",
     "text": [
      "2021/12/31 14:46:45 2 [INFO] {'bagging_fraction': 0.8309292802869729, 'feature_fraction': 0.8493136822063353, 'lambda_l1': 0.012037178705749304, 'lambda_l2': 0.018650660926638262, 'learning_rate': 0.01, 'max_leaves': 46, 'metric': ('multi_logloss', 'multi_error'), 'min_data_in_leaf': 19, 'num_classes': 7, 'objective': 'multiclass', 'seed': 0, 'verbose': -1}\n",
      "/opt/homebrew/lib/python3.9/site-packages/sklearn/model_selection/_split.py:676: UserWarning: The least populated class in y has only 1 members, which is less than n_splits=5.\n",
      "  warnings.warn(\n",
      "\n",
      "/opt/homebrew/lib/python3.9/site-packages/lightgbm/engine.py:181: UserWarning: 'early_stopping_rounds' argument is deprecated and will be removed in a future release of LightGBM. Pass 'early_stopping()' callback via 'callbacks' argument instead.\n",
      "  _log_warning(\"'early_stopping_rounds' argument is deprecated and will be removed in a future release of LightGBM. \"\n",
      "\n",
      "/opt/homebrew/lib/python3.9/site-packages/lightgbm/engine.py:239: UserWarning: 'verbose_eval' argument is deprecated and will be removed in a future release of LightGBM. Pass 'log_evaluation()' callback via 'callbacks' argument instead.\n",
      "  _log_warning(\"'verbose_eval' argument is deprecated and will be removed in a future release of LightGBM. \"\n",
      "\n"
     ]
    },
    {
     "name": "stdout",
     "output_type": "stream",
     "text": [
      "Training until validation scores don't improve for 20 rounds                    \n",
      "[50]\ttraining's multi_logloss: 0.419123\ttraining's multi_error: 0.0672559\tvalid_1's multi_logloss: 0.420059\tvalid_1's multi_error: 0.0676675\n",
      "[100]\ttraining's multi_logloss: 0.25902\ttraining's multi_error: 0.0535016\tvalid_1's multi_logloss: 0.260289\tvalid_1's multi_error: 0.0536575\n",
      "[150]\ttraining's multi_logloss: 0.184407\ttraining's multi_error: 0.0485353\tvalid_1's multi_logloss: 0.185946\tvalid_1's multi_error: 0.0489625\n",
      "[200]\ttraining's multi_logloss: 0.146783\ttraining's multi_error: 0.0458656\tvalid_1's multi_logloss: 0.148511\tvalid_1's multi_error: 0.0464287\n",
      "[250]\ttraining's multi_logloss: 0.124943\ttraining's multi_error: 0.0439166\tvalid_1's multi_logloss: 0.12689\tvalid_1's multi_error: 0.0445912\n",
      "[300]\ttraining's multi_logloss: 0.112358\ttraining's multi_error: 0.0423316\tvalid_1's multi_logloss: 0.11449\tvalid_1's multi_error: 0.0431487\n",
      "[350]\ttraining's multi_logloss: 0.104379\ttraining's multi_error: 0.0411234\tvalid_1's multi_logloss: 0.106705\tvalid_1's multi_error: 0.0420613\n",
      "[400]\ttraining's multi_logloss: 0.0990167\ttraining's multi_error: 0.0401963\tvalid_1's multi_logloss: 0.101518\tvalid_1's multi_error: 0.0412062\n",
      "[450]\ttraining's multi_logloss: 0.095109\ttraining's multi_error: 0.0395209\tvalid_1's multi_logloss: 0.0977765\tvalid_1's multi_error: 0.0405613\n",
      "[500]\ttraining's multi_logloss: 0.0920509\ttraining's multi_error: 0.0389806\tvalid_1's multi_logloss: 0.0948755\tvalid_1's multi_error: 0.0401\n",
      "[550]\ttraining's multi_logloss: 0.0896404\ttraining's multi_error: 0.0385575\tvalid_1's multi_logloss: 0.0926064\tvalid_1's multi_error: 0.0398275\n",
      "[600]\ttraining's multi_logloss: 0.0876709\ttraining's multi_error: 0.0382244\tvalid_1's multi_logloss: 0.0907776\tvalid_1's multi_error: 0.0394962\n",
      "[650]\ttraining's multi_logloss: 0.0859953\ttraining's multi_error: 0.0379375\tvalid_1's multi_logloss: 0.0892416\tvalid_1's multi_error: 0.0392438\n",
      "[700]\ttraining's multi_logloss: 0.0845826\ttraining's multi_error: 0.0377119\tvalid_1's multi_logloss: 0.087967\tvalid_1's multi_error: 0.0390163\n",
      "[750]\ttraining's multi_logloss: 0.083386\ttraining's multi_error: 0.0375375\tvalid_1's multi_logloss: 0.0869221\tvalid_1's multi_error: 0.0388812\n",
      "[800]\ttraining's multi_logloss: 0.0823498\ttraining's multi_error: 0.0373409\tvalid_1's multi_logloss: 0.0860263\tvalid_1's multi_error: 0.038765\n",
      "Early stopping, best iteration is:                                              \n",
      "[828]\ttraining's multi_logloss: 0.0818249\ttraining's multi_error: 0.0372503\tvalid_1's multi_logloss: 0.0855735\tvalid_1's multi_error: 0.0386662\n",
      " 10%|▌     | 2/20 [22:32<3:17:30, 658.37s/trial, best loss: 0.08417922945802003]"
     ]
    },
    {
     "name": "stderr",
     "output_type": "stream",
     "text": [
      "2021/12/31 14:56:20 2 [INFO] {'bagging_fraction': 0.8299037171131212, 'feature_fraction': 0.803399637322971, 'lambda_l1': 0.0626719383891622, 'lambda_l2': 0.014493318498254155, 'learning_rate': 0.01, 'max_leaves': 53, 'metric': ('multi_logloss', 'multi_error'), 'min_data_in_leaf': 26, 'num_classes': 7, 'objective': 'multiclass', 'seed': 0, 'verbose': -1}\n",
      "/opt/homebrew/lib/python3.9/site-packages/sklearn/model_selection/_split.py:676: UserWarning: The least populated class in y has only 1 members, which is less than n_splits=5.\n",
      "  warnings.warn(\n",
      "\n",
      "/opt/homebrew/lib/python3.9/site-packages/lightgbm/engine.py:181: UserWarning: 'early_stopping_rounds' argument is deprecated and will be removed in a future release of LightGBM. Pass 'early_stopping()' callback via 'callbacks' argument instead.\n",
      "  _log_warning(\"'early_stopping_rounds' argument is deprecated and will be removed in a future release of LightGBM. \"\n",
      "\n",
      "/opt/homebrew/lib/python3.9/site-packages/lightgbm/engine.py:239: UserWarning: 'verbose_eval' argument is deprecated and will be removed in a future release of LightGBM. Pass 'log_evaluation()' callback via 'callbacks' argument instead.\n",
      "  _log_warning(\"'verbose_eval' argument is deprecated and will be removed in a future release of LightGBM. \"\n",
      "\n"
     ]
    },
    {
     "name": "stdout",
     "output_type": "stream",
     "text": [
      "Training until validation scores don't improve for 20 rounds                    \n",
      "[50]\ttraining's multi_logloss: 0.424079\ttraining's multi_error: 0.0668431\tvalid_1's multi_logloss: 0.425126\tvalid_1's multi_error: 0.0673437\n",
      "[100]\ttraining's multi_logloss: 0.264431\ttraining's multi_error: 0.0523875\tvalid_1's multi_logloss: 0.265829\tvalid_1's multi_error: 0.0526713\n",
      "[150]\ttraining's multi_logloss: 0.187529\ttraining's multi_error: 0.0476209\tvalid_1's multi_logloss: 0.189216\tvalid_1's multi_error: 0.04817\n",
      "[200]\ttraining's multi_logloss: 0.148103\ttraining's multi_error: 0.0450788\tvalid_1's multi_logloss: 0.14999\tvalid_1's multi_error: 0.0457687\n",
      "[250]\ttraining's multi_logloss: 0.125608\ttraining's multi_error: 0.0431475\tvalid_1's multi_logloss: 0.127715\tvalid_1's multi_error: 0.0439288\n",
      "[300]\ttraining's multi_logloss: 0.11206\ttraining's multi_error: 0.0417019\tvalid_1's multi_logloss: 0.114342\tvalid_1's multi_error: 0.0425775\n",
      "[350]\ttraining's multi_logloss: 0.103565\ttraining's multi_error: 0.0405913\tvalid_1's multi_logloss: 0.10605\tvalid_1's multi_error: 0.0415712\n",
      "[400]\ttraining's multi_logloss: 0.0978932\ttraining's multi_error: 0.0397766\tvalid_1's multi_logloss: 0.100567\tvalid_1's multi_error: 0.0407462\n",
      "[450]\ttraining's multi_logloss: 0.0938833\ttraining's multi_error: 0.0391269\tvalid_1's multi_logloss: 0.0967413\tvalid_1's multi_error: 0.04026\n",
      "[500]\ttraining's multi_logloss: 0.0907377\ttraining's multi_error: 0.0386584\tvalid_1's multi_logloss: 0.093766\tvalid_1's multi_error: 0.03984\n",
      "[550]\ttraining's multi_logloss: 0.0882948\ttraining's multi_error: 0.0382478\tvalid_1's multi_logloss: 0.0914898\tvalid_1's multi_error: 0.0395187\n",
      "[600]\ttraining's multi_logloss: 0.0863172\ttraining's multi_error: 0.0379153\tvalid_1's multi_logloss: 0.0896788\tvalid_1's multi_error: 0.0392425\n",
      "[650]\ttraining's multi_logloss: 0.0846955\ttraining's multi_error: 0.0376203\tvalid_1's multi_logloss: 0.0882274\tvalid_1's multi_error: 0.038965\n",
      "[700]\ttraining's multi_logloss: 0.0832851\ttraining's multi_error: 0.0373762\tvalid_1's multi_logloss: 0.0869758\tvalid_1's multi_error: 0.0388138\n",
      "[750]\ttraining's multi_logloss: 0.0820977\ttraining's multi_error: 0.0371678\tvalid_1's multi_logloss: 0.0859459\tvalid_1's multi_error: 0.038675\n",
      "[800]\ttraining's multi_logloss: 0.0810753\ttraining's multi_error: 0.0370019\tvalid_1's multi_logloss: 0.0850798\tvalid_1's multi_error: 0.03856\n",
      "[850]\ttraining's multi_logloss: 0.0801701\ttraining's multi_error: 0.0368366\tvalid_1's multi_logloss: 0.0843282\tvalid_1's multi_error: 0.0384613\n",
      "[900]\ttraining's multi_logloss: 0.0793675\ttraining's multi_error: 0.0366622\tvalid_1's multi_logloss: 0.0836798\tvalid_1's multi_error: 0.0383587\n",
      "[950]\ttraining's multi_logloss: 0.0786388\ttraining's multi_error: 0.0364869\tvalid_1's multi_logloss: 0.0831065\tvalid_1's multi_error: 0.0382712\n",
      "Early stopping, best iteration is:                                              \n",
      "[936]\ttraining's multi_logloss: 0.0788307\ttraining's multi_error: 0.0365362\tvalid_1's multi_logloss: 0.0832546\tvalid_1's multi_error: 0.03826\n",
      " 15%|▉     | 3/20 [33:29<3:06:20, 657.67s/trial, best loss: 0.08325457109616649]"
     ]
    },
    {
     "name": "stderr",
     "output_type": "stream",
     "text": [
      "2021/12/31 15:07:17 2 [INFO] {'bagging_fraction': 0.8989200326060357, 'feature_fraction': 0.86436856562306, 'lambda_l1': 0.4897384544924264, 'lambda_l2': 0.011468634268358415, 'learning_rate': 0.01, 'max_leaves': 34, 'metric': ('multi_logloss', 'multi_error'), 'min_data_in_leaf': 40, 'num_classes': 7, 'objective': 'multiclass', 'seed': 0, 'verbose': -1}\n",
      "/opt/homebrew/lib/python3.9/site-packages/sklearn/model_selection/_split.py:676: UserWarning: The least populated class in y has only 1 members, which is less than n_splits=5.\n",
      "  warnings.warn(\n",
      "\n",
      "/opt/homebrew/lib/python3.9/site-packages/lightgbm/engine.py:181: UserWarning: 'early_stopping_rounds' argument is deprecated and will be removed in a future release of LightGBM. Pass 'early_stopping()' callback via 'callbacks' argument instead.\n",
      "  _log_warning(\"'early_stopping_rounds' argument is deprecated and will be removed in a future release of LightGBM. \"\n",
      "\n",
      "/opt/homebrew/lib/python3.9/site-packages/lightgbm/engine.py:239: UserWarning: 'verbose_eval' argument is deprecated and will be removed in a future release of LightGBM. Pass 'log_evaluation()' callback via 'callbacks' argument instead.\n",
      "  _log_warning(\"'verbose_eval' argument is deprecated and will be removed in a future release of LightGBM. \"\n",
      "\n"
     ]
    },
    {
     "name": "stdout",
     "output_type": "stream",
     "text": [
      "Training until validation scores don't improve for 20 rounds                    \n",
      "[50]\ttraining's multi_logloss: 0.425145\ttraining's multi_error: 0.0708938\tvalid_1's multi_logloss: 0.425904\tvalid_1's multi_error: 0.0712462\n",
      "[100]\ttraining's multi_logloss: 0.266259\ttraining's multi_error: 0.0565116\tvalid_1's multi_logloss: 0.267291\tvalid_1's multi_error: 0.0566038\n",
      "[150]\ttraining's multi_logloss: 0.191915\ttraining's multi_error: 0.0511988\tvalid_1's multi_logloss: 0.193168\tvalid_1's multi_error: 0.0513612\n",
      "[200]\ttraining's multi_logloss: 0.154016\ttraining's multi_error: 0.0480156\tvalid_1's multi_logloss: 0.155449\tvalid_1's multi_error: 0.048395\n",
      "[250]\ttraining's multi_logloss: 0.132006\ttraining's multi_error: 0.0458037\tvalid_1's multi_logloss: 0.133624\tvalid_1's multi_error: 0.0464338\n",
      "[300]\ttraining's multi_logloss: 0.118979\ttraining's multi_error: 0.0440994\tvalid_1's multi_logloss: 0.120767\tvalid_1's multi_error: 0.044715\n",
      "[350]\ttraining's multi_logloss: 0.110536\ttraining's multi_error: 0.0427331\tvalid_1's multi_logloss: 0.11248\tvalid_1's multi_error: 0.0434838\n",
      "[400]\ttraining's multi_logloss: 0.104682\ttraining's multi_error: 0.041605\tvalid_1's multi_logloss: 0.106757\tvalid_1's multi_error: 0.0424475\n",
      "[450]\ttraining's multi_logloss: 0.100444\ttraining's multi_error: 0.0408072\tvalid_1's multi_logloss: 0.102654\tvalid_1's multi_error: 0.0416087\n",
      "[500]\ttraining's multi_logloss: 0.0971039\ttraining's multi_error: 0.0401806\tvalid_1's multi_logloss: 0.0994219\tvalid_1's multi_error: 0.0409537\n",
      "[550]\ttraining's multi_logloss: 0.0944559\ttraining's multi_error: 0.0396975\tvalid_1's multi_logloss: 0.0968926\tvalid_1's multi_error: 0.0405425\n",
      "[600]\ttraining's multi_logloss: 0.0922518\ttraining's multi_error: 0.0393025\tvalid_1's multi_logloss: 0.0947873\tvalid_1's multi_error: 0.0401725\n",
      "[650]\ttraining's multi_logloss: 0.0904427\ttraining's multi_error: 0.0389066\tvalid_1's multi_logloss: 0.0930747\tvalid_1's multi_error: 0.039935\n",
      "[700]\ttraining's multi_logloss: 0.0888875\ttraining's multi_error: 0.0386025\tvalid_1's multi_logloss: 0.0916157\tvalid_1's multi_error: 0.03961\n",
      "[750]\ttraining's multi_logloss: 0.0875584\ttraining's multi_error: 0.0383831\tvalid_1's multi_logloss: 0.0903825\tvalid_1's multi_error: 0.0394337\n",
      "[800]\ttraining's multi_logloss: 0.0864049\ttraining's multi_error: 0.038205\tvalid_1's multi_logloss: 0.0893227\tvalid_1's multi_error: 0.039305\n",
      "[850]\ttraining's multi_logloss: 0.0853589\ttraining's multi_error: 0.0380163\tvalid_1's multi_logloss: 0.088373\tvalid_1's multi_error: 0.039215\n",
      "[900]\ttraining's multi_logloss: 0.0844471\ttraining's multi_error: 0.0378537\tvalid_1's multi_logloss: 0.0875624\tvalid_1's multi_error: 0.0391125\n",
      "[950]\ttraining's multi_logloss: 0.0836199\ttraining's multi_error: 0.037695\tvalid_1's multi_logloss: 0.0868358\tvalid_1's multi_error: 0.0390225\n",
      "[1000]\ttraining's multi_logloss: 0.0828813\ttraining's multi_error: 0.0375444\tvalid_1's multi_logloss: 0.0861882\tvalid_1's multi_error: 0.0389263\n",
      "Early stopping, best iteration is:                                              \n",
      "[996]\ttraining's multi_logloss: 0.0829396\ttraining's multi_error: 0.0375528\tvalid_1's multi_logloss: 0.0862383\tvalid_1's multi_error: 0.0389087\n",
      " 20%|█▏    | 4/20 [43:28<2:49:11, 634.45s/trial, best loss: 0.08325457109616649]"
     ]
    },
    {
     "name": "stderr",
     "output_type": "stream",
     "text": [
      "2021/12/31 15:17:16 2 [INFO] {'bagging_fraction': 0.7068361964966817, 'feature_fraction': 0.7116335119363578, 'lambda_l1': 0.09513094301468064, 'lambda_l2': 0.524104595381781, 'learning_rate': 0.01, 'max_leaves': 52, 'metric': ('multi_logloss', 'multi_error'), 'min_data_in_leaf': 41, 'num_classes': 7, 'objective': 'multiclass', 'seed': 0, 'verbose': -1}\n",
      "/opt/homebrew/lib/python3.9/site-packages/sklearn/model_selection/_split.py:676: UserWarning: The least populated class in y has only 1 members, which is less than n_splits=5.\n",
      "  warnings.warn(\n",
      "\n",
      "/opt/homebrew/lib/python3.9/site-packages/lightgbm/engine.py:181: UserWarning: 'early_stopping_rounds' argument is deprecated and will be removed in a future release of LightGBM. Pass 'early_stopping()' callback via 'callbacks' argument instead.\n",
      "  _log_warning(\"'early_stopping_rounds' argument is deprecated and will be removed in a future release of LightGBM. \"\n",
      "\n",
      "/opt/homebrew/lib/python3.9/site-packages/lightgbm/engine.py:239: UserWarning: 'verbose_eval' argument is deprecated and will be removed in a future release of LightGBM. Pass 'log_evaluation()' callback via 'callbacks' argument instead.\n",
      "  _log_warning(\"'verbose_eval' argument is deprecated and will be removed in a future release of LightGBM. \"\n",
      "\n"
     ]
    },
    {
     "name": "stdout",
     "output_type": "stream",
     "text": [
      "Training until validation scores don't improve for 20 rounds                    \n",
      "[50]\ttraining's multi_logloss: 0.454084\ttraining's multi_error: 0.0788222\tvalid_1's multi_logloss: 0.454689\tvalid_1's multi_error: 0.0792237\n",
      "[100]\ttraining's multi_logloss: 0.294272\ttraining's multi_error: 0.0541347\tvalid_1's multi_logloss: 0.295186\tvalid_1's multi_error: 0.0543525\n",
      "[150]\ttraining's multi_logloss: 0.208092\ttraining's multi_error: 0.048985\tvalid_1's multi_logloss: 0.209248\tvalid_1's multi_error: 0.0494125\n",
      "[200]\ttraining's multi_logloss: 0.162704\ttraining's multi_error: 0.0458238\tvalid_1's multi_logloss: 0.164076\tvalid_1's multi_error: 0.0464613\n",
      "[250]\ttraining's multi_logloss: 0.137146\ttraining's multi_error: 0.0438575\tvalid_1's multi_logloss: 0.138687\tvalid_1's multi_error: 0.0445888\n",
      "[300]\ttraining's multi_logloss: 0.120831\ttraining's multi_error: 0.0423044\tvalid_1's multi_logloss: 0.122563\tvalid_1's multi_error: 0.0431038\n",
      "[350]\ttraining's multi_logloss: 0.110143\ttraining's multi_error: 0.0411997\tvalid_1's multi_logloss: 0.11203\tvalid_1's multi_error: 0.0419638\n",
      "[400]\ttraining's multi_logloss: 0.103107\ttraining's multi_error: 0.0402975\tvalid_1's multi_logloss: 0.105145\tvalid_1's multi_error: 0.0411863\n",
      "[450]\ttraining's multi_logloss: 0.0980282\ttraining's multi_error: 0.0395909\tvalid_1's multi_logloss: 0.100231\tvalid_1's multi_error: 0.0405913\n",
      "[500]\ttraining's multi_logloss: 0.0942332\ttraining's multi_error: 0.0390062\tvalid_1's multi_logloss: 0.0965945\tvalid_1's multi_error: 0.04005\n",
      "[550]\ttraining's multi_logloss: 0.0913944\ttraining's multi_error: 0.0385797\tvalid_1's multi_logloss: 0.0939084\tvalid_1's multi_error: 0.0397238\n",
      "[600]\ttraining's multi_logloss: 0.0890264\ttraining's multi_error: 0.038195\tvalid_1's multi_logloss: 0.0916884\tvalid_1's multi_error: 0.039425\n",
      "[650]\ttraining's multi_logloss: 0.087125\ttraining's multi_error: 0.0379106\tvalid_1's multi_logloss: 0.089935\tvalid_1's multi_error: 0.03916\n",
      "[700]\ttraining's multi_logloss: 0.0855404\ttraining's multi_error: 0.0376575\tvalid_1's multi_logloss: 0.0884942\tvalid_1's multi_error: 0.0389888\n",
      "[750]\ttraining's multi_logloss: 0.0842087\ttraining's multi_error: 0.0374494\tvalid_1's multi_logloss: 0.0873092\tvalid_1's multi_error: 0.0388312\n",
      "[800]\ttraining's multi_logloss: 0.0830052\ttraining's multi_error: 0.0372616\tvalid_1's multi_logloss: 0.0862518\tvalid_1's multi_error: 0.0387238\n",
      "[850]\ttraining's multi_logloss: 0.0819691\ttraining's multi_error: 0.0370872\tvalid_1's multi_logloss: 0.0853581\tvalid_1's multi_error: 0.0385663\n",
      "[900]\ttraining's multi_logloss: 0.0810406\ttraining's multi_error: 0.0369184\tvalid_1's multi_logloss: 0.0845716\tvalid_1's multi_error: 0.0384338\n",
      "[950]\ttraining's multi_logloss: 0.0802334\ttraining's multi_error: 0.0367547\tvalid_1's multi_logloss: 0.0839061\tvalid_1's multi_error: 0.0384012\n",
      "[1000]\ttraining's multi_logloss: 0.0795156\ttraining's multi_error: 0.0365972\tvalid_1's multi_logloss: 0.0833316\tvalid_1's multi_error: 0.0383225\n",
      "[1050]\ttraining's multi_logloss: 0.078849\ttraining's multi_error: 0.0364406\tvalid_1's multi_logloss: 0.0828117\tvalid_1's multi_error: 0.0382362\n",
      "[1100]\ttraining's multi_logloss: 0.0782253\ttraining's multi_error: 0.0363106\tvalid_1's multi_logloss: 0.0823364\tvalid_1's multi_error: 0.038205\n",
      "Early stopping, best iteration is:                                              \n",
      "[1106]\ttraining's multi_logloss: 0.0781521\ttraining's multi_error: 0.036305\tvalid_1's multi_logloss: 0.0822806\tvalid_1's multi_error: 0.0381775\n",
      " 25%|█▊     | 5/20 [56:23<2:51:20, 685.40s/trial, best loss: 0.0822805522830947]"
     ]
    },
    {
     "name": "stderr",
     "output_type": "stream",
     "text": [
      "2021/12/31 15:30:12 2 [INFO] {'bagging_fraction': 0.8197814508193194, 'feature_fraction': 0.7634908800588147, 'lambda_l1': 0.13532178103709736, 'lambda_l2': 0.21595416946835802, 'learning_rate': 0.01, 'max_leaves': 69, 'metric': ('multi_logloss', 'multi_error'), 'min_data_in_leaf': 31, 'num_classes': 7, 'objective': 'multiclass', 'seed': 0, 'verbose': -1}\n",
      "/opt/homebrew/lib/python3.9/site-packages/sklearn/model_selection/_split.py:676: UserWarning: The least populated class in y has only 1 members, which is less than n_splits=5.\n",
      "  warnings.warn(\n",
      "\n",
      "/opt/homebrew/lib/python3.9/site-packages/lightgbm/engine.py:181: UserWarning: 'early_stopping_rounds' argument is deprecated and will be removed in a future release of LightGBM. Pass 'early_stopping()' callback via 'callbacks' argument instead.\n",
      "  _log_warning(\"'early_stopping_rounds' argument is deprecated and will be removed in a future release of LightGBM. \"\n",
      "\n",
      "/opt/homebrew/lib/python3.9/site-packages/lightgbm/engine.py:239: UserWarning: 'verbose_eval' argument is deprecated and will be removed in a future release of LightGBM. Pass 'log_evaluation()' callback via 'callbacks' argument instead.\n",
      "  _log_warning(\"'verbose_eval' argument is deprecated and will be removed in a future release of LightGBM. \"\n",
      "\n"
     ]
    },
    {
     "name": "stdout",
     "output_type": "stream",
     "text": [
      "Training until validation scores don't improve for 20 rounds                    \n",
      "[50]\ttraining's multi_logloss: 0.438482\ttraining's multi_error: 0.0708359\tvalid_1's multi_logloss: 0.43934\tvalid_1's multi_error: 0.0713088\n",
      "[100]\ttraining's multi_logloss: 0.276366\ttraining's multi_error: 0.0508994\tvalid_1's multi_logloss: 0.277597\tvalid_1's multi_error: 0.0512475\n",
      "[150]\ttraining's multi_logloss: 0.193837\ttraining's multi_error: 0.046145\tvalid_1's multi_logloss: 0.195396\tvalid_1's multi_error: 0.0468638\n",
      "[200]\ttraining's multi_logloss: 0.150607\ttraining's multi_error: 0.0436288\tvalid_1's multi_logloss: 0.152423\tvalid_1's multi_error: 0.0443363\n",
      "[250]\ttraining's multi_logloss: 0.126558\ttraining's multi_error: 0.0418891\tvalid_1's multi_logloss: 0.128602\tvalid_1's multi_error: 0.0427825\n",
      "[300]\ttraining's multi_logloss: 0.111869\ttraining's multi_error: 0.0407081\tvalid_1's multi_logloss: 0.114136\tvalid_1's multi_error: 0.0416238\n",
      "[350]\ttraining's multi_logloss: 0.102321\ttraining's multi_error: 0.0397678\tvalid_1's multi_logloss: 0.104817\tvalid_1's multi_error: 0.0408237\n",
      "[400]\ttraining's multi_logloss: 0.0962302\ttraining's multi_error: 0.0390644\tvalid_1's multi_logloss: 0.0989392\tvalid_1's multi_error: 0.040255\n",
      "[450]\ttraining's multi_logloss: 0.0919466\ttraining's multi_error: 0.0384475\tvalid_1's multi_logloss: 0.0948784\tvalid_1's multi_error: 0.0397938\n",
      "[500]\ttraining's multi_logloss: 0.0886261\ttraining's multi_error: 0.0379738\tvalid_1's multi_logloss: 0.0917599\tvalid_1's multi_error: 0.039405\n",
      "[550]\ttraining's multi_logloss: 0.0861691\ttraining's multi_error: 0.0375866\tvalid_1's multi_logloss: 0.0895042\tvalid_1's multi_error: 0.0391287\n",
      "[600]\ttraining's multi_logloss: 0.0841528\ttraining's multi_error: 0.0372691\tvalid_1's multi_logloss: 0.0876914\tvalid_1's multi_error: 0.0388088\n",
      "[650]\ttraining's multi_logloss: 0.082535\ttraining's multi_error: 0.0369803\tvalid_1's multi_logloss: 0.0862731\tvalid_1's multi_error: 0.0385975\n",
      "[700]\ttraining's multi_logloss: 0.0811558\ttraining's multi_error: 0.0367172\tvalid_1's multi_logloss: 0.085102\tvalid_1's multi_error: 0.0384012\n",
      "[750]\ttraining's multi_logloss: 0.0800025\ttraining's multi_error: 0.0364853\tvalid_1's multi_logloss: 0.0841476\tvalid_1's multi_error: 0.0382938\n",
      "[800]\ttraining's multi_logloss: 0.0789598\ttraining's multi_error: 0.0363234\tvalid_1's multi_logloss: 0.0833046\tvalid_1's multi_error: 0.0382062\n",
      "[850]\ttraining's multi_logloss: 0.0780453\ttraining's multi_error: 0.0361044\tvalid_1's multi_logloss: 0.0825914\tvalid_1's multi_error: 0.0381387\n",
      "Early stopping, best iteration is:                                              \n",
      "[872]\ttraining's multi_logloss: 0.0776819\ttraining's multi_error: 0.0360272\tvalid_1's multi_logloss: 0.0823154\tvalid_1's multi_error: 0.0380925\n",
      " 30%|█▌   | 6/20 [1:08:49<2:44:41, 705.83s/trial, best loss: 0.0822805522830947]"
     ]
    },
    {
     "name": "stderr",
     "output_type": "stream",
     "text": [
      "2021/12/31 15:42:37 2 [INFO] {'bagging_fraction': 0.8752568813438453, 'feature_fraction': 0.7759201601499417, 'lambda_l1': 0.06838213507022683, 'lambda_l2': 0.19405602740685965, 'learning_rate': 0.01, 'max_leaves': 59, 'metric': ('multi_logloss', 'multi_error'), 'min_data_in_leaf': 47, 'num_classes': 7, 'objective': 'multiclass', 'seed': 0, 'verbose': -1}\n",
      "/opt/homebrew/lib/python3.9/site-packages/sklearn/model_selection/_split.py:676: UserWarning: The least populated class in y has only 1 members, which is less than n_splits=5.\n",
      "  warnings.warn(\n",
      "\n",
      "/opt/homebrew/lib/python3.9/site-packages/lightgbm/engine.py:181: UserWarning: 'early_stopping_rounds' argument is deprecated and will be removed in a future release of LightGBM. Pass 'early_stopping()' callback via 'callbacks' argument instead.\n",
      "  _log_warning(\"'early_stopping_rounds' argument is deprecated and will be removed in a future release of LightGBM. \"\n",
      "\n",
      "/opt/homebrew/lib/python3.9/site-packages/lightgbm/engine.py:239: UserWarning: 'verbose_eval' argument is deprecated and will be removed in a future release of LightGBM. Pass 'log_evaluation()' callback via 'callbacks' argument instead.\n",
      "  _log_warning(\"'verbose_eval' argument is deprecated and will be removed in a future release of LightGBM. \"\n",
      "\n"
     ]
    },
    {
     "name": "stdout",
     "output_type": "stream",
     "text": [
      "Training until validation scores don't improve for 20 rounds                    \n",
      "[50]\ttraining's multi_logloss: 0.433631\ttraining's multi_error: 0.0714975\tvalid_1's multi_logloss: 0.434376\tvalid_1's multi_error: 0.07185\n",
      "[100]\ttraining's multi_logloss: 0.272359\ttraining's multi_error: 0.0519913\tvalid_1's multi_logloss: 0.273444\tvalid_1's multi_error: 0.0523363\n",
      "[150]\ttraining's multi_logloss: 0.192102\ttraining's multi_error: 0.0471216\tvalid_1's multi_logloss: 0.193483\tvalid_1's multi_error: 0.0477038\n",
      "[200]\ttraining's multi_logloss: 0.15066\ttraining's multi_error: 0.0444141\tvalid_1's multi_logloss: 0.152279\tvalid_1's multi_error: 0.0451587\n",
      "[250]\ttraining's multi_logloss: 0.127133\ttraining's multi_error: 0.0425897\tvalid_1's multi_logloss: 0.128971\tvalid_1's multi_error: 0.0434037\n",
      "[300]\ttraining's multi_logloss: 0.112867\ttraining's multi_error: 0.0413022\tvalid_1's multi_logloss: 0.114904\tvalid_1's multi_error: 0.0422125\n",
      "[350]\ttraining's multi_logloss: 0.103675\ttraining's multi_error: 0.0402453\tvalid_1's multi_logloss: 0.105908\tvalid_1's multi_error: 0.0411987\n",
      "[400]\ttraining's multi_logloss: 0.097733\ttraining's multi_error: 0.0394666\tvalid_1's multi_logloss: 0.100158\tvalid_1's multi_error: 0.040555\n",
      "[450]\ttraining's multi_logloss: 0.0935195\ttraining's multi_error: 0.0389044\tvalid_1's multi_logloss: 0.0961296\tvalid_1's multi_error: 0.04004\n",
      "[500]\ttraining's multi_logloss: 0.0902388\ttraining's multi_error: 0.0383641\tvalid_1's multi_logloss: 0.0930271\tvalid_1's multi_error: 0.03968\n",
      " 30%|█▌   | 6/20 [1:15:09<2:44:41, 705.83s/trial, best loss: 0.0822805522830947]"
     ]
    }
   ],
   "source": [
    "best = fmin(fn=objective, space=space, algo=tpe.suggest, max_evals=20)\n",
    "best_params = space_eval(space, best)\n",
    "logger.info(\"best params: {}\".format(best_params))"
   ]
  },
  {
   "cell_type": "markdown",
   "id": "bfa4545a-8cb4-40cf-8eea-1478e43f2f2b",
   "metadata": {},
   "source": [
    "# Inference"
   ]
  },
  {
   "cell_type": "code",
   "execution_count": 23,
   "id": "43cc9a29-ed85-4167-8919-06a59931fd01",
   "metadata": {},
   "outputs": [
    {
     "name": "stderr",
     "output_type": "stream",
     "text": [
      "/opt/homebrew/lib/python3.9/site-packages/sklearn/model_selection/_split.py:676: UserWarning: The least populated class in y has only 1 members, which is less than n_splits=5.\n",
      "  warnings.warn(\n",
      "/opt/homebrew/lib/python3.9/site-packages/lightgbm/engine.py:181: UserWarning: 'early_stopping_rounds' argument is deprecated and will be removed in a future release of LightGBM. Pass 'early_stopping()' callback via 'callbacks' argument instead.\n",
      "  _log_warning(\"'early_stopping_rounds' argument is deprecated and will be removed in a future release of LightGBM. \"\n",
      "/opt/homebrew/lib/python3.9/site-packages/lightgbm/engine.py:239: UserWarning: 'verbose_eval' argument is deprecated and will be removed in a future release of LightGBM. Pass 'log_evaluation()' callback via 'callbacks' argument instead.\n",
      "  _log_warning(\"'verbose_eval' argument is deprecated and will be removed in a future release of LightGBM. \"\n"
     ]
    },
    {
     "name": "stdout",
     "output_type": "stream",
     "text": [
      "Training until validation scores don't improve for 20 rounds\n",
      "[50]\ttraining's multi_logloss: 0.408954\ttraining's multi_error: 0.0651141\tvalid_1's multi_logloss: 0.409723\tvalid_1's multi_error: 0.0656763\n",
      "[100]\ttraining's multi_logloss: 0.248258\ttraining's multi_error: 0.0518156\tvalid_1's multi_logloss: 0.249324\tvalid_1's multi_error: 0.0522188\n",
      "[150]\ttraining's multi_logloss: 0.174568\ttraining's multi_error: 0.0473013\tvalid_1's multi_logloss: 0.175948\tvalid_1's multi_error: 0.0478575\n",
      "[200]\ttraining's multi_logloss: 0.138564\ttraining's multi_error: 0.0447847\tvalid_1's multi_logloss: 0.140159\tvalid_1's multi_error: 0.04544\n",
      "[250]\ttraining's multi_logloss: 0.119885\ttraining's multi_error: 0.0428266\tvalid_1's multi_logloss: 0.121722\tvalid_1's multi_error: 0.0436988\n",
      "[300]\ttraining's multi_logloss: 0.108608\ttraining's multi_error: 0.0413909\tvalid_1's multi_logloss: 0.110631\tvalid_1's multi_error: 0.0423588\n",
      "[350]\ttraining's multi_logloss: 0.101153\ttraining's multi_error: 0.0403241\tvalid_1's multi_logloss: 0.103384\tvalid_1's multi_error: 0.0413763\n",
      "[400]\ttraining's multi_logloss: 0.0958869\ttraining's multi_error: 0.0395247\tvalid_1's multi_logloss: 0.0982904\tvalid_1's multi_error: 0.0406162\n",
      "[450]\ttraining's multi_logloss: 0.0920667\ttraining's multi_error: 0.0388825\tvalid_1's multi_logloss: 0.0946541\tvalid_1's multi_error: 0.0401113\n",
      "[500]\ttraining's multi_logloss: 0.0892358\ttraining's multi_error: 0.0383609\tvalid_1's multi_logloss: 0.0919939\tvalid_1's multi_error: 0.0397475\n",
      "[550]\ttraining's multi_logloss: 0.0870197\ttraining's multi_error: 0.0379669\tvalid_1's multi_logloss: 0.0899496\tvalid_1's multi_error: 0.0394762\n",
      "[600]\ttraining's multi_logloss: 0.085184\ttraining's multi_error: 0.0376659\tvalid_1's multi_logloss: 0.0882821\tvalid_1's multi_error: 0.039145\n",
      "[650]\ttraining's multi_logloss: 0.0836235\ttraining's multi_error: 0.0373703\tvalid_1's multi_logloss: 0.0868901\tvalid_1's multi_error: 0.0388913\n",
      "[700]\ttraining's multi_logloss: 0.0823308\ttraining's multi_error: 0.0371097\tvalid_1's multi_logloss: 0.0857653\tvalid_1's multi_error: 0.0387125\n",
      "[750]\ttraining's multi_logloss: 0.0812045\ttraining's multi_error: 0.0368822\tvalid_1's multi_logloss: 0.0848102\tvalid_1's multi_error: 0.0386025\n",
      "[800]\ttraining's multi_logloss: 0.0802297\ttraining's multi_error: 0.0366953\tvalid_1's multi_logloss: 0.0839934\tvalid_1's multi_error: 0.0385038\n",
      "[850]\ttraining's multi_logloss: 0.0793709\ttraining's multi_error: 0.0365072\tvalid_1's multi_logloss: 0.0832915\tvalid_1's multi_error: 0.0383887\n",
      "[900]\ttraining's multi_logloss: 0.078622\ttraining's multi_error: 0.0363322\tvalid_1's multi_logloss: 0.0827044\tvalid_1's multi_error: 0.0383413\n",
      "[950]\ttraining's multi_logloss: 0.0779308\ttraining's multi_error: 0.0361734\tvalid_1's multi_logloss: 0.0821746\tvalid_1's multi_error: 0.03828\n",
      "[1000]\ttraining's multi_logloss: 0.0773122\ttraining's multi_error: 0.0360278\tvalid_1's multi_logloss: 0.0817274\tvalid_1's multi_error: 0.0382125\n",
      "[1050]\ttraining's multi_logloss: 0.0767288\ttraining's multi_error: 0.0358766\tvalid_1's multi_logloss: 0.0813107\tvalid_1's multi_error: 0.0381913\n",
      "Early stopping, best iteration is:\n",
      "[1038]\ttraining's multi_logloss: 0.0768611\ttraining's multi_error: 0.035905\tvalid_1's multi_logloss: 0.0814034\tvalid_1's multi_error: 0.0381675\n",
      "Training until validation scores don't improve for 20 rounds\n",
      "[50]\ttraining's multi_logloss: 0.408872\ttraining's multi_error: 0.0652734\tvalid_1's multi_logloss: 0.410113\tvalid_1's multi_error: 0.0661\n",
      "[100]\ttraining's multi_logloss: 0.248115\ttraining's multi_error: 0.0516228\tvalid_1's multi_logloss: 0.249771\tvalid_1's multi_error: 0.0526875\n",
      "[150]\ttraining's multi_logloss: 0.174439\ttraining's multi_error: 0.0473466\tvalid_1's multi_logloss: 0.176339\tvalid_1's multi_error: 0.04833\n",
      "[200]\ttraining's multi_logloss: 0.138413\ttraining's multi_error: 0.0447122\tvalid_1's multi_logloss: 0.140536\tvalid_1's multi_error: 0.0459162\n",
      "[250]\ttraining's multi_logloss: 0.119768\ttraining's multi_error: 0.0427853\tvalid_1's multi_logloss: 0.122094\tvalid_1's multi_error: 0.0440313\n",
      "[300]\ttraining's multi_logloss: 0.108486\ttraining's multi_error: 0.0412856\tvalid_1's multi_logloss: 0.110997\tvalid_1's multi_error: 0.0426487\n",
      "[350]\ttraining's multi_logloss: 0.101065\ttraining's multi_error: 0.0402553\tvalid_1's multi_logloss: 0.103739\tvalid_1's multi_error: 0.0416388\n",
      "[400]\ttraining's multi_logloss: 0.095799\ttraining's multi_error: 0.0394425\tvalid_1's multi_logloss: 0.0986394\tvalid_1's multi_error: 0.0409562\n",
      "[450]\ttraining's multi_logloss: 0.0919798\ttraining's multi_error: 0.0387984\tvalid_1's multi_logloss: 0.0949868\tvalid_1's multi_error: 0.0403987\n",
      "[500]\ttraining's multi_logloss: 0.0891288\ttraining's multi_error: 0.0383003\tvalid_1's multi_logloss: 0.092293\tvalid_1's multi_error: 0.0400537\n",
      "[550]\ttraining's multi_logloss: 0.086918\ttraining's multi_error: 0.0379403\tvalid_1's multi_logloss: 0.0902417\tvalid_1's multi_error: 0.0397013\n",
      "[600]\ttraining's multi_logloss: 0.0850799\ttraining's multi_error: 0.0375672\tvalid_1's multi_logloss: 0.0885696\tvalid_1's multi_error: 0.0394337\n",
      "[650]\ttraining's multi_logloss: 0.0835159\ttraining's multi_error: 0.0372762\tvalid_1's multi_logloss: 0.0871788\tvalid_1's multi_error: 0.0392275\n",
      "[700]\ttraining's multi_logloss: 0.0822147\ttraining's multi_error: 0.0370631\tvalid_1's multi_logloss: 0.0860522\tvalid_1's multi_error: 0.0390825\n",
      "Early stopping, best iteration is:\n",
      "[687]\ttraining's multi_logloss: 0.0825297\ttraining's multi_error: 0.0370997\tvalid_1's multi_logloss: 0.0863203\tvalid_1's multi_error: 0.0390725\n",
      "Training until validation scores don't improve for 20 rounds\n",
      "[50]\ttraining's multi_logloss: 0.409327\ttraining's multi_error: 0.0654525\tvalid_1's multi_logloss: 0.409443\tvalid_1's multi_error: 0.0654263\n",
      "[100]\ttraining's multi_logloss: 0.24859\ttraining's multi_error: 0.05196\tvalid_1's multi_logloss: 0.248848\tvalid_1's multi_error: 0.0521363\n",
      "[150]\ttraining's multi_logloss: 0.174886\ttraining's multi_error: 0.0475334\tvalid_1's multi_logloss: 0.175247\tvalid_1's multi_error: 0.0477725\n",
      "[200]\ttraining's multi_logloss: 0.138893\ttraining's multi_error: 0.0449269\tvalid_1's multi_logloss: 0.139376\tvalid_1's multi_error: 0.045255\n",
      "[250]\ttraining's multi_logloss: 0.120217\ttraining's multi_error: 0.0429769\tvalid_1's multi_logloss: 0.120834\tvalid_1's multi_error: 0.0433388\n",
      "[300]\ttraining's multi_logloss: 0.108943\ttraining's multi_error: 0.0414722\tvalid_1's multi_logloss: 0.109728\tvalid_1's multi_error: 0.0420488\n",
      "[350]\ttraining's multi_logloss: 0.101521\ttraining's multi_error: 0.0404244\tvalid_1's multi_logloss: 0.102464\tvalid_1's multi_error: 0.0410587\n",
      "[400]\ttraining's multi_logloss: 0.0962471\ttraining's multi_error: 0.0396322\tvalid_1's multi_logloss: 0.0973376\tvalid_1's multi_error: 0.0403425\n",
      "[450]\ttraining's multi_logloss: 0.0924197\ttraining's multi_error: 0.0390191\tvalid_1's multi_logloss: 0.0936707\tvalid_1's multi_error: 0.0398662\n",
      "[500]\ttraining's multi_logloss: 0.0895584\ttraining's multi_error: 0.0385359\tvalid_1's multi_logloss: 0.090961\tvalid_1's multi_error: 0.0394238\n",
      "[550]\ttraining's multi_logloss: 0.0873342\ttraining's multi_error: 0.0381216\tvalid_1's multi_logloss: 0.0888981\tvalid_1's multi_error: 0.0390937\n",
      "[600]\ttraining's multi_logloss: 0.0854948\ttraining's multi_error: 0.0377844\tvalid_1's multi_logloss: 0.0872185\tvalid_1's multi_error: 0.0387738\n",
      "[650]\ttraining's multi_logloss: 0.0839577\ttraining's multi_error: 0.0375078\tvalid_1's multi_logloss: 0.0858467\tvalid_1's multi_error: 0.0385438\n",
      "[700]\ttraining's multi_logloss: 0.0826531\ttraining's multi_error: 0.0372419\tvalid_1's multi_logloss: 0.0847037\tvalid_1's multi_error: 0.03839\n",
      "[750]\ttraining's multi_logloss: 0.0815261\ttraining's multi_error: 0.0369972\tvalid_1's multi_logloss: 0.0837441\tvalid_1's multi_error: 0.0382075\n",
      "[800]\ttraining's multi_logloss: 0.0805522\ttraining's multi_error: 0.0367909\tvalid_1's multi_logloss: 0.0829358\tvalid_1's multi_error: 0.0381613\n",
      "[850]\ttraining's multi_logloss: 0.0796803\ttraining's multi_error: 0.0365837\tvalid_1's multi_logloss: 0.0822303\tvalid_1's multi_error: 0.0380625\n",
      "[900]\ttraining's multi_logloss: 0.078913\ttraining's multi_error: 0.0364128\tvalid_1's multi_logloss: 0.0816291\tvalid_1's multi_error: 0.03799\n",
      "[950]\ttraining's multi_logloss: 0.0782117\ttraining's multi_error: 0.0362706\tvalid_1's multi_logloss: 0.0810988\tvalid_1's multi_error: 0.0379525\n",
      "Early stopping, best iteration is:\n",
      "[972]\ttraining's multi_logloss: 0.0779322\ttraining's multi_error: 0.0362094\tvalid_1's multi_logloss: 0.0808959\tvalid_1's multi_error: 0.0378812\n",
      "Training until validation scores don't improve for 20 rounds\n",
      "[50]\ttraining's multi_logloss: 0.409064\ttraining's multi_error: 0.0651537\tvalid_1's multi_logloss: 0.409835\tvalid_1's multi_error: 0.065295\n",
      "[100]\ttraining's multi_logloss: 0.248327\ttraining's multi_error: 0.0517034\tvalid_1's multi_logloss: 0.249393\tvalid_1's multi_error: 0.05218\n",
      "[150]\ttraining's multi_logloss: 0.174632\ttraining's multi_error: 0.0473478\tvalid_1's multi_logloss: 0.175936\tvalid_1's multi_error: 0.0478087\n",
      "[200]\ttraining's multi_logloss: 0.138614\ttraining's multi_error: 0.0448597\tvalid_1's multi_logloss: 0.140148\tvalid_1's multi_error: 0.0454738\n",
      "[250]\ttraining's multi_logloss: 0.12001\ttraining's multi_error: 0.0429363\tvalid_1's multi_logloss: 0.121752\tvalid_1's multi_error: 0.0435787\n",
      "[300]\ttraining's multi_logloss: 0.108725\ttraining's multi_error: 0.0414247\tvalid_1's multi_logloss: 0.110643\tvalid_1's multi_error: 0.0421062\n",
      "[350]\ttraining's multi_logloss: 0.10125\ttraining's multi_error: 0.0403853\tvalid_1's multi_logloss: 0.103341\tvalid_1's multi_error: 0.0412262\n",
      "[400]\ttraining's multi_logloss: 0.0959936\ttraining's multi_error: 0.03959\tvalid_1's multi_logloss: 0.0982574\tvalid_1's multi_error: 0.0404225\n",
      "[450]\ttraining's multi_logloss: 0.0921627\ttraining's multi_error: 0.0389628\tvalid_1's multi_logloss: 0.0946097\tvalid_1's multi_error: 0.0399075\n",
      "[500]\ttraining's multi_logloss: 0.0893069\ttraining's multi_error: 0.0384406\tvalid_1's multi_logloss: 0.0919249\tvalid_1's multi_error: 0.0394675\n",
      "[550]\ttraining's multi_logloss: 0.0871123\ttraining's multi_error: 0.0380497\tvalid_1's multi_logloss: 0.0899041\tvalid_1's multi_error: 0.0391413\n",
      "[600]\ttraining's multi_logloss: 0.0852706\ttraining's multi_error: 0.0377494\tvalid_1's multi_logloss: 0.0882299\tvalid_1's multi_error: 0.0389212\n",
      "[650]\ttraining's multi_logloss: 0.0837225\ttraining's multi_error: 0.0374216\tvalid_1's multi_logloss: 0.0868428\tvalid_1's multi_error: 0.0387487\n",
      "[700]\ttraining's multi_logloss: 0.0824144\ttraining's multi_error: 0.0371625\tvalid_1's multi_logloss: 0.0856914\tvalid_1's multi_error: 0.038605\n",
      "[750]\ttraining's multi_logloss: 0.0812907\ttraining's multi_error: 0.0369456\tvalid_1's multi_logloss: 0.0847261\tvalid_1's multi_error: 0.0384762\n",
      "[800]\ttraining's multi_logloss: 0.0803038\ttraining's multi_error: 0.0367316\tvalid_1's multi_logloss: 0.0838955\tvalid_1's multi_error: 0.0383387\n",
      "[850]\ttraining's multi_logloss: 0.0794573\ttraining's multi_error: 0.0365697\tvalid_1's multi_logloss: 0.0832111\tvalid_1's multi_error: 0.0382113\n",
      "Early stopping, best iteration is:\n",
      "[855]\ttraining's multi_logloss: 0.0793755\ttraining's multi_error: 0.0365516\tvalid_1's multi_logloss: 0.083146\tvalid_1's multi_error: 0.0381975\n",
      "Training until validation scores don't improve for 20 rounds\n",
      "[50]\ttraining's multi_logloss: 0.41008\ttraining's multi_error: 0.0648791\tvalid_1's multi_logloss: 0.410791\tvalid_1's multi_error: 0.0648337\n",
      "[100]\ttraining's multi_logloss: 0.249934\ttraining's multi_error: 0.0516184\tvalid_1's multi_logloss: 0.250874\tvalid_1's multi_error: 0.0516563\n",
      "[150]\ttraining's multi_logloss: 0.17702\ttraining's multi_error: 0.0474141\tvalid_1's multi_logloss: 0.178181\tvalid_1's multi_error: 0.0477175\n",
      "[200]\ttraining's multi_logloss: 0.139952\ttraining's multi_error: 0.0449737\tvalid_1's multi_logloss: 0.141381\tvalid_1's multi_error: 0.0453588\n",
      "[250]\ttraining's multi_logloss: 0.120131\ttraining's multi_error: 0.0430162\tvalid_1's multi_logloss: 0.121777\tvalid_1's multi_error: 0.0435225\n",
      "[300]\ttraining's multi_logloss: 0.108716\ttraining's multi_error: 0.0415237\tvalid_1's multi_logloss: 0.110568\tvalid_1's multi_error: 0.0422112\n",
      "[350]\ttraining's multi_logloss: 0.101259\ttraining's multi_error: 0.040415\tvalid_1's multi_logloss: 0.103282\tvalid_1's multi_error: 0.0411725\n",
      "[400]\ttraining's multi_logloss: 0.0960608\ttraining's multi_error: 0.0395816\tvalid_1's multi_logloss: 0.0982554\tvalid_1's multi_error: 0.04059\n",
      "[450]\ttraining's multi_logloss: 0.0923128\ttraining's multi_error: 0.03894\tvalid_1's multi_logloss: 0.0946784\tvalid_1's multi_error: 0.04009\n",
      "[500]\ttraining's multi_logloss: 0.0894345\ttraining's multi_error: 0.0384322\tvalid_1's multi_logloss: 0.0919654\tvalid_1's multi_error: 0.0397337\n",
      "[550]\ttraining's multi_logloss: 0.0871937\ttraining's multi_error: 0.0380303\tvalid_1's multi_logloss: 0.0898933\tvalid_1's multi_error: 0.0395\n",
      "[600]\ttraining's multi_logloss: 0.0853505\ttraining's multi_error: 0.0376559\tvalid_1's multi_logloss: 0.0882186\tvalid_1's multi_error: 0.0392163\n",
      "[650]\ttraining's multi_logloss: 0.083795\ttraining's multi_error: 0.0373784\tvalid_1's multi_logloss: 0.0868265\tvalid_1's multi_error: 0.0390575\n",
      "[700]\ttraining's multi_logloss: 0.0824793\ttraining's multi_error: 0.0371084\tvalid_1's multi_logloss: 0.0856699\tvalid_1's multi_error: 0.0388475\n",
      "[750]\ttraining's multi_logloss: 0.0813405\ttraining's multi_error: 0.0368928\tvalid_1's multi_logloss: 0.0847003\tvalid_1's multi_error: 0.0387625\n",
      "[800]\ttraining's multi_logloss: 0.0803803\ttraining's multi_error: 0.0367109\tvalid_1's multi_logloss: 0.0839071\tvalid_1's multi_error: 0.0386875\n",
      "[850]\ttraining's multi_logloss: 0.0795099\ttraining's multi_error: 0.0365225\tvalid_1's multi_logloss: 0.083192\tvalid_1's multi_error: 0.03861\n",
      "[900]\ttraining's multi_logloss: 0.0787395\ttraining's multi_error: 0.0363647\tvalid_1's multi_logloss: 0.0825881\tvalid_1's multi_error: 0.03847\n",
      "[950]\ttraining's multi_logloss: 0.0780468\ttraining's multi_error: 0.0361944\tvalid_1's multi_logloss: 0.0820631\tvalid_1's multi_error: 0.0382762\n",
      "Early stopping, best iteration is:\n",
      "[949]\ttraining's multi_logloss: 0.078059\ttraining's multi_error: 0.0361925\tvalid_1's multi_logloss: 0.0820716\tvalid_1's multi_error: 0.0382738\n"
     ]
    }
   ],
   "source": [
    "runner = Runner(PROJECT_NAME, ModelLGB, cv=True)\n",
    "runner.train(X, y, best_params, train_params)"
   ]
  },
  {
   "cell_type": "code",
   "execution_count": 12,
   "id": "6011f8f1-1923-4c28-bddf-a79b244eb645",
   "metadata": {},
   "outputs": [
    {
     "data": {
      "text/plain": [
       "Elevation                             1.974941e+08\n",
       "class_Wilderness                      1.174233e+07\n",
       "Horizontal_Distance_To_Fire_Points    1.043957e+07\n",
       "Horizontal_Distance_To_Roadways       7.581273e+06\n",
       "class_Soil_Type                       7.397492e+06\n",
       "diff_roadways_and_hydrology           7.281420e+06\n",
       "sum_Soil                              5.616168e+06\n",
       "Vertical_Distance_To_Hydrology        5.329811e+06\n",
       "important_sum_Soil                    3.069839e+06\n",
       "Wilderness_Area3                      2.461992e+06\n",
       "Distance_To_Hydrology                 1.647838e+06\n",
       "Wilderness_Area1                      1.405506e+06\n",
       "Soil_Type2                            1.251113e+06\n",
       "Soil_Type10                           1.006422e+06\n",
       "Wilderness_Area4                      6.253188e+05\n",
       "Soil_Type22                           6.194225e+05\n",
       "Soil_Type4                            6.167165e+05\n",
       "Soil_Type39                           4.646843e+05\n",
       "Horizontal_Distance_To_Hydrology      4.441662e+05\n",
       "Soil_Type3                            3.004360e+05\n",
       "Soil_Type1                            2.212012e+05\n",
       "Hillshade_Noon                        1.980966e+05\n",
       "Soil_Type5                            1.823597e+05\n",
       "Soil_Type23                           1.611884e+05\n",
       "sum_Wilderness                        1.506040e+05\n",
       "Soil_Type34                           8.850640e+04\n",
       "Soil_Type17                           8.581923e+04\n",
       "Soil_Type30                           7.246619e+04\n",
       "Soil_Type20                           6.835636e+04\n",
       "Soil_Type38                           6.618666e+04\n",
       "Wilderness_Area2                      6.464379e+04\n",
       "Soil_Type26                           6.166505e+04\n",
       "Soil_Type27                           5.740844e+04\n",
       "Soil_Type12                           5.323368e+04\n",
       "Soil_Type19                           4.843233e+04\n",
       "Hillshade_9am                         4.579702e+04\n",
       "Soil_Type28                           4.332845e+04\n",
       "Soil_Type29                           4.183199e+04\n",
       "Soil_Type16                           4.160948e+04\n",
       "Soil_Type18                           4.021829e+04\n",
       "Soil_Type21                           3.959738e+04\n",
       "Soil_Type14                           3.740691e+04\n",
       "Aspect                                3.642964e+04\n",
       "Soil_Type32                           3.267680e+04\n",
       "Soil_Type9                            2.739579e+04\n",
       "Soil_Type40                           2.672535e+04\n",
       "diff_Hillshade_9am_Hillshade_3pm      2.446471e+04\n",
       "Slope                                 1.625440e+04\n",
       "Soil_Type11                           1.414630e+04\n",
       "Soil_Type6                            1.370056e+04\n",
       "Soil_Type33                           1.071150e+04\n",
       "Hillshade_3pm                         1.059574e+04\n",
       "diff_Hillshade_9am_Hillshade_Noon     1.030531e+04\n",
       "sum_Hillshade                         9.375485e+03\n",
       "diff_Hillshade_Noon_Hillshade_3pm     8.235946e+03\n",
       "Soil_Type25                           7.114949e+03\n",
       "Soil_Type13                           6.650183e+03\n",
       "Soil_Type35                           4.748560e+03\n",
       "Soil_Type31                           2.602755e+03\n",
       "Soil_Type37                           2.331857e+03\n",
       "Soil_Type24                           2.069169e+03\n",
       "Soil_Type36                           1.773086e+03\n",
       "Soil_Type8                            5.495453e+02\n",
       "Soil_Type7                            0.000000e+00\n",
       "Soil_Type15                           0.000000e+00\n",
       "dtype: float64"
      ]
     },
     "execution_count": 12,
     "metadata": {},
     "output_type": "execute_result"
    }
   ],
   "source": [
    "runner.model.feature_importance_"
   ]
  },
  {
   "cell_type": "code",
   "execution_count": 19,
   "id": "c6a868f6-d019-4fad-8f27-d5a66dc29af5",
   "metadata": {},
   "outputs": [
    {
     "name": "stderr",
     "output_type": "stream",
     "text": [
      "2021/12/31 14:15:27 45 [INFO] [prediction] start.\n",
      "2021/12/31 14:16:27 47 [INFO] [prediction] done in 59.878 seconds.\n"
     ]
    },
    {
     "data": {
      "text/plain": [
       "array([[6.28273409e-05, 9.99918412e-01, 1.61031304e-05, ...,\n",
       "        3.48470985e-09, 1.98116223e-06, 6.56874449e-07],\n",
       "       [1.28247846e-02, 9.87087240e-01, 7.03768914e-05, ...,\n",
       "        2.55551785e-08, 1.32247441e-05, 4.25129357e-06],\n",
       "       [4.14478217e-03, 9.95839770e-01, 1.40894491e-05, ...,\n",
       "        6.37904996e-09, 3.11785180e-07, 1.01346938e-06],\n",
       "       ...,\n",
       "       [3.26172074e-04, 9.99628734e-01, 3.53489134e-05, ...,\n",
       "        8.51956417e-09, 7.72398213e-06, 1.97624459e-06],\n",
       "       [9.98960357e-01, 7.70648648e-04, 8.86502069e-06, ...,\n",
       "        9.95778043e-09, 6.77429802e-07, 2.59405881e-04],\n",
       "       [3.34743790e-04, 1.90647530e-01, 8.08809525e-01, ...,\n",
       "        2.65922585e-08, 2.03070417e-04, 5.00103587e-06]])"
      ]
     },
     "execution_count": 19,
     "metadata": {},
     "output_type": "execute_result"
    }
   ],
   "source": [
    "with timer(\"prediction\", logger):\n",
    "    prob = runner.predict(X_test)\n",
    "prob"
   ]
  },
  {
   "cell_type": "code",
   "execution_count": 20,
   "id": "d25ca66a-ee11-42b0-837e-fce68f562b78",
   "metadata": {},
   "outputs": [
    {
     "data": {
      "text/html": [
       "<div>\n",
       "<style scoped>\n",
       "    .dataframe tbody tr th:only-of-type {\n",
       "        vertical-align: middle;\n",
       "    }\n",
       "\n",
       "    .dataframe tbody tr th {\n",
       "        vertical-align: top;\n",
       "    }\n",
       "\n",
       "    .dataframe thead th {\n",
       "        text-align: right;\n",
       "    }\n",
       "</style>\n",
       "<table border=\"1\" class=\"dataframe\">\n",
       "  <thead>\n",
       "    <tr style=\"text-align: right;\">\n",
       "      <th></th>\n",
       "      <th>Id</th>\n",
       "      <th>Cover_Type</th>\n",
       "    </tr>\n",
       "  </thead>\n",
       "  <tbody>\n",
       "    <tr>\n",
       "      <th>0</th>\n",
       "      <td>4000000</td>\n",
       "      <td>2</td>\n",
       "    </tr>\n",
       "    <tr>\n",
       "      <th>1</th>\n",
       "      <td>4000001</td>\n",
       "      <td>2</td>\n",
       "    </tr>\n",
       "    <tr>\n",
       "      <th>2</th>\n",
       "      <td>4000002</td>\n",
       "      <td>2</td>\n",
       "    </tr>\n",
       "    <tr>\n",
       "      <th>3</th>\n",
       "      <td>4000003</td>\n",
       "      <td>2</td>\n",
       "    </tr>\n",
       "    <tr>\n",
       "      <th>4</th>\n",
       "      <td>4000004</td>\n",
       "      <td>2</td>\n",
       "    </tr>\n",
       "    <tr>\n",
       "      <th>...</th>\n",
       "      <td>...</td>\n",
       "      <td>...</td>\n",
       "    </tr>\n",
       "    <tr>\n",
       "      <th>999995</th>\n",
       "      <td>4999995</td>\n",
       "      <td>2</td>\n",
       "    </tr>\n",
       "    <tr>\n",
       "      <th>999996</th>\n",
       "      <td>4999996</td>\n",
       "      <td>1</td>\n",
       "    </tr>\n",
       "    <tr>\n",
       "      <th>999997</th>\n",
       "      <td>4999997</td>\n",
       "      <td>2</td>\n",
       "    </tr>\n",
       "    <tr>\n",
       "      <th>999998</th>\n",
       "      <td>4999998</td>\n",
       "      <td>1</td>\n",
       "    </tr>\n",
       "    <tr>\n",
       "      <th>999999</th>\n",
       "      <td>4999999</td>\n",
       "      <td>3</td>\n",
       "    </tr>\n",
       "  </tbody>\n",
       "</table>\n",
       "<p>1000000 rows × 2 columns</p>\n",
       "</div>"
      ],
      "text/plain": [
       "             Id  Cover_Type\n",
       "0       4000000           2\n",
       "1       4000001           2\n",
       "2       4000002           2\n",
       "3       4000003           2\n",
       "4       4000004           2\n",
       "...         ...         ...\n",
       "999995  4999995           2\n",
       "999996  4999996           1\n",
       "999997  4999997           2\n",
       "999998  4999998           1\n",
       "999999  4999999           3\n",
       "\n",
       "[1000000 rows x 2 columns]"
      ]
     },
     "execution_count": 20,
     "metadata": {},
     "output_type": "execute_result"
    }
   ],
   "source": [
    "res = pd.DataFrame()\n",
    "res[\"Id\"] = df_test[\"Id\"]\n",
    "res[\"Cover_Type\"] = prob.argmax(axis=1) + 1\n",
    "res.to_csv(f\"../submission/submission_{PROJECT_NAME}.csv\", index=False)\n",
    "res"
   ]
  },
  {
   "cell_type": "code",
   "execution_count": 21,
   "id": "f7672fdb-2ad7-48e7-a522-30dbe600255b",
   "metadata": {},
   "outputs": [
    {
     "name": "stdout",
     "output_type": "stream",
     "text": [
      "100%|███████████████████████████████████████| 9.54M/9.54M [00:14<00:00, 688kB/s]\n",
      "Successfully submitted to Tabular Playground Series - Dec 2021"
     ]
    }
   ],
   "source": [
    "!kaggle competitions submit tabular-playground-series-dec-2021 -f ../submission/submission_{PROJECT_NAME}.csv -m \"valid_1's multi_error: 0.0439975\""
   ]
  },
  {
   "cell_type": "code",
   "execution_count": null,
   "id": "7fd0ced8-b41c-4d20-9efc-3e4ab0ea38ce",
   "metadata": {},
   "outputs": [],
   "source": []
  }
 ],
 "metadata": {
  "kernelspec": {
   "display_name": "Python 3 (ipykernel)",
   "language": "python",
   "name": "python3"
  },
  "language_info": {
   "codemirror_mode": {
    "name": "ipython",
    "version": 3
   },
   "file_extension": ".py",
   "mimetype": "text/x-python",
   "name": "python",
   "nbconvert_exporter": "python",
   "pygments_lexer": "ipython3",
   "version": "3.9.9"
  },
  "toc-autonumbering": true
 },
 "nbformat": 4,
 "nbformat_minor": 5
}
